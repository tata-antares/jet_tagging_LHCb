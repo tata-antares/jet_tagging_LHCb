{
 "cells": [
  {
   "cell_type": "code",
   "execution_count": 1,
   "metadata": {
    "collapsed": false
   },
   "outputs": [
    {
     "name": "stdout",
     "output_type": "stream",
     "text": [
      "Populating the interactive namespace from numpy and matplotlib\n"
     ]
    }
   ],
   "source": [
    "%pylab inline"
   ]
  },
  {
   "cell_type": "code",
   "execution_count": 2,
   "metadata": {
    "collapsed": true
   },
   "outputs": [],
   "source": [
    "class MyRFECV(object):\n",
    "    \n",
    "    def __init__(self, estimator, step, cv, features):\n",
    "        self.estimator = estimator\n",
    "        self.step = step\n",
    "        self.cv = cv\n",
    "        self.features = features\n",
    "        \n",
    "    def _score(self, labels, probs):\n",
    "        \n",
    "        names = ['b', 'c', 'sud', 'gluon']\n",
    "        roc_auc = utils.get_roc_auc_matrix(labels, probs, names, save_path=None, show=False)\n",
    "        return roc_auc.values.mean()\n",
    "        \n",
    "    def _fit_step(self, data, features):\n",
    "        sk = SklearnClassifier(self.estimator, features=None)\n",
    "        folding = FoldingClassifier(sk, n_folds=self.cv, random_state=11, features=features)\n",
    "        folding.fit_lds(data)\n",
    "        importances = folding.feature_importances_\n",
    "        indices = numpy.argsort(importances)[::-1]\n",
    "        \n",
    "        labels = data.target\n",
    "        probs = folding.predict_proba(data.data)\n",
    "        score = self._score(labels, probs)\n",
    "        \n",
    "        return features[indices], score\n",
    "        \n",
    "    def fit(self, data):\n",
    "        features = self.features\n",
    "        feature_list = []\n",
    "        score_list = []\n",
    "        \n",
    "        while len(features) >= self.step:\n",
    "            features, score = self._fit_step(data, features)\n",
    "            feature_list.append(features)\n",
    "            score_list.append(score)\n",
    "            \n",
    "            features = features[:-self.step]\n",
    "            \n",
    "        if len(features) > 0:\n",
    "            features, score = self._fit_step(data, features)\n",
    "            feature_list.append(features)\n",
    "            score_list.append(score)\n",
    "            \n",
    "        return numpy.array(feature_list), numpy.array(score_list)"
   ]
  },
  {
   "cell_type": "code",
   "execution_count": 3,
   "metadata": {
    "collapsed": false
   },
   "outputs": [],
   "source": [
    "%matplotlib inline\n",
    "import root_numpy\n",
    "import pandas\n",
    "import numpy\n",
    "import matplotlib.pyplot as plt\n",
    "from rep.data import LabeledDataStorage\n",
    "#from hep_ml.decisiontrain import DecisionTrainClassifier, DecisionTrainRegressor\n",
    "from hep_ml.losses import LogLossFunction, MSELossFunction\n",
    "from rep.metaml import FoldingClassifier, FoldingRegressor\n",
    "from rep.report import ClassificationReport\n",
    "from rep.report.metrics import RocAuc\n",
    "from sklearn.metrics import roc_auc_score\n",
    "from sklearn.ensemble import GradientBoostingClassifier, GradientBoostingRegressor\n",
    "from sklearn.ensemble import RandomForestClassifier, RandomForestRegressor, ExtraTreesClassifier\n",
    "from rep.estimators import XGBoostClassifier, SklearnClassifier\n",
    "import cPickle as pickle"
   ]
  },
  {
   "cell_type": "markdown",
   "metadata": {},
   "source": [
    "## Read data"
   ]
  },
  {
   "cell_type": "code",
   "execution_count": 4,
   "metadata": {
    "collapsed": false
   },
   "outputs": [],
   "source": [
    "treename = 'tag'\n",
    "\n",
    "data_b = pandas.DataFrame(root_numpy.root2array('/home/mikhail91/jet_tagging_LHCb/datasets/type=5.root', treename=treename)).dropna()\n",
    "data_b = data_b[::90]\n",
    "data_c = pandas.DataFrame(root_numpy.root2array('/home/mikhail91/jet_tagging_LHCb/datasets/type=4.root', treename=treename)).dropna()\n",
    "data_light = pandas.DataFrame(root_numpy.root2array('/home/mikhail91/jet_tagging_LHCb/datasets/type=0.root', treename=treename)).dropna()\n",
    "data_light = data_light[::2]"
   ]
  },
  {
   "cell_type": "code",
   "execution_count": 5,
   "metadata": {
    "collapsed": true
   },
   "outputs": [],
   "source": [
    "data = {'b': data_b, 'c': data_c, 'light': data_light}"
   ]
  },
  {
   "cell_type": "code",
   "execution_count": 6,
   "metadata": {
    "collapsed": true
   },
   "outputs": [],
   "source": [
    "full_data = pandas.concat([data_b, \n",
    "                           data_c, \n",
    "                           data_light[data_light.JetParton != 0], \n",
    "                           data_light[data_light.JetParton == 0]])\n",
    "\n",
    "full_data['label'] = [0] * len(data_b) + \\\n",
    "                     [1] * len(data_c) + \\\n",
    "                     [2] * len(data_light[data_light.JetParton != 0]) + \\\n",
    "                     [3] * len(data_light[data_light.JetParton == 0])"
   ]
  },
  {
   "cell_type": "code",
   "execution_count": 7,
   "metadata": {
    "collapsed": true
   },
   "outputs": [],
   "source": [
    "names = ['b', 'c', 'sud', 'gluon']"
   ]
  },
  {
   "cell_type": "code",
   "execution_count": 8,
   "metadata": {
    "collapsed": true
   },
   "outputs": [],
   "source": [
    "jet_features = [column for column in data_b.columns if \"Jet\" in column]\n",
    "sv_features = [column for column in data_b.columns if \"SV\" in column]"
   ]
  },
  {
   "cell_type": "markdown",
   "metadata": {},
   "source": [
    "# Multiclassification"
   ]
  },
  {
   "cell_type": "markdown",
   "metadata": {},
   "source": [
    "## Data preprocessing"
   ]
  },
  {
   "cell_type": "code",
   "execution_count": 9,
   "metadata": {
    "collapsed": true
   },
   "outputs": [],
   "source": [
    "train_data = full_data[sv_features].values\n",
    "labels = full_data['label'].values"
   ]
  },
  {
   "cell_type": "markdown",
   "metadata": {},
   "source": [
    "## Train"
   ]
  },
  {
   "cell_type": "code",
   "execution_count": null,
   "metadata": {
    "collapsed": false
   },
   "outputs": [],
   "source": [
    "from rep.estimators import XGBoostClassifier\n",
    "xgb_base = XGBoostClassifier(n_estimators=1000, colsample=0.7, eta=0.01, nthreads=8, \n",
    "                             subsample=0.5, max_depth=8)\n",
    "# xgb_base = RandomForestClassifier(n_estimators=100, max_depth=None, max_features='auto')\n",
    "multi_folding = FoldingClassifier(xgb_base, n_folds=2, random_state=11)\n",
    "%time multi_folding.fit(train_data, labels)"
   ]
  },
  {
   "cell_type": "code",
   "execution_count": null,
   "metadata": {
    "collapsed": false
   },
   "outputs": [],
   "source": [
    "multi_probs = multi_folding.predict_proba(train_data)"
   ]
  },
  {
   "cell_type": "markdown",
   "metadata": {},
   "source": [
    "## Results"
   ]
  },
  {
   "cell_type": "code",
   "execution_count": null,
   "metadata": {
    "collapsed": true
   },
   "outputs": [],
   "source": [
    "import os, sys\n",
    "sys.path.append('python')\n",
    "import utils"
   ]
  },
  {
   "cell_type": "code",
   "execution_count": null,
   "metadata": {
    "collapsed": false
   },
   "outputs": [],
   "source": [
    "from sklearn.metrics import log_loss\n",
    "\n",
    "print 'Log loss is ', log_loss(labels, multi_probs)"
   ]
  },
  {
   "cell_type": "code",
   "execution_count": null,
   "metadata": {
    "collapsed": true
   },
   "outputs": [],
   "source": [
    "def get_learning_curve(clf, data, labels):\n",
    "\n",
    "    n_estimators = clf.get_params()['base_estimator__n_estimators']\n",
    "    staged_probas = clf.staged_predict_proba(data)\n",
    "\n",
    "    from sklearn.metrics import log_loss\n",
    "    log_loss_all = []\n",
    "    for pred in staged_probas:\n",
    "        log_loss_all.append(log_loss(labels, pred))\n",
    "\n",
    "    x = numpy.arange(10, n_estimators + 10, 10)\n",
    "    plt.plot(x, log_loss_all)\n",
    "    plt.ylabel('Log loss')\n",
    "    plt.xlabel('Iteration')\n",
    "    plt.show()"
   ]
  },
  {
   "cell_type": "code",
   "execution_count": null,
   "metadata": {
    "collapsed": false
   },
   "outputs": [],
   "source": [
    "get_learning_curve(multi_folding, train_data, labels)"
   ]
  },
  {
   "cell_type": "code",
   "execution_count": null,
   "metadata": {
    "collapsed": false
   },
   "outputs": [],
   "source": [
    "roc_auc_baseline = utils.get_roc_auc_matrix(labels, multi_probs, names, save_path=None, show=True)\n",
    "roc_auc_baseline"
   ]
  },
  {
   "cell_type": "code",
   "execution_count": null,
   "metadata": {
    "collapsed": true
   },
   "outputs": [],
   "source": []
  },
  {
   "cell_type": "markdown",
   "metadata": {},
   "source": [
    "# Keras MLP"
   ]
  },
  {
   "cell_type": "code",
   "execution_count": 18,
   "metadata": {
    "collapsed": true
   },
   "outputs": [],
   "source": [
    "from copy import copy\n",
    "from sklearn.preprocessing import MinMaxScaler, Imputer, StandardScaler\n",
    "\n",
    "class Preprocessor(object):\n",
    "    \n",
    "    def __init__(self, missing_values, copy=True):\n",
    "        self.missing_values = missing_values\n",
    "        self.copy = copy\n",
    "        \n",
    "    def fit(self, X):\n",
    "        \n",
    "        X_copy = copy(X)\n",
    "                \n",
    "        imputer = Imputer(missing_values=self.missing_values, strategy='median', axis=0, copy=False)\n",
    "        imputer.fit(X_copy)\n",
    "        self.imputer = imputer\n",
    "                \n",
    "        mms = MinMaxScaler(feature_range=(0, 100), copy=False)\n",
    "        mms.fit(X_copy)\n",
    "        self.mms = mms\n",
    "        \n",
    "        X_copy = mms.transform(X_copy)\n",
    "        sing = (X_copy > 0) * 2. - 1.\n",
    "        X_copy = numpy.log(1. + numpy.abs(X)) * sing\n",
    "            \n",
    "        ss = StandardScaler(copy=False, with_mean=True, with_std=True)\n",
    "        ss.fit(X_copy)\n",
    "        self.ss = ss\n",
    "            \n",
    "    def transform(self, X):\n",
    "        \n",
    "        if self.copy == True:\n",
    "            input_data = copy(X)\n",
    "        else:\n",
    "            input_data = X\n",
    "            \n",
    "            \n",
    "        input_data = self.imputer.transform(input_data)\n",
    "            \n",
    "        input_data = self.mms.transform(input_data)\n",
    "        sing = (input_data > 0) * 2. - 1.\n",
    "        input_data = numpy.log(1. + numpy.abs(input_data)) * sing\n",
    "            \n",
    "        input_data = self.ss.transform(input_data)\n",
    "                \n",
    "        return input_data"
   ]
  },
  {
   "cell_type": "code",
   "execution_count": 16,
   "metadata": {
    "collapsed": false
   },
   "outputs": [],
   "source": [
    "from rep.utils import train_test_split\n",
    "train_train_data, test_data, train_labels, test_labels = train_test_split(train_data, labels, test_size=0.3)"
   ]
  },
  {
   "cell_type": "code",
   "execution_count": 72,
   "metadata": {
    "collapsed": false
   },
   "outputs": [
    {
     "data": {
      "text/plain": [
       "(18492, 9)"
      ]
     },
     "execution_count": 72,
     "metadata": {},
     "output_type": "execute_result"
    }
   ],
   "source": [
    "test_data.shape"
   ]
  },
  {
   "cell_type": "code",
   "execution_count": 19,
   "metadata": {
    "collapsed": true
   },
   "outputs": [],
   "source": [
    "\n",
    "prep = Preprocessor(missing_values=-999., copy=True)\n",
    "prep.fit(train_train_data)"
   ]
  },
  {
   "cell_type": "code",
   "execution_count": 20,
   "metadata": {
    "collapsed": true
   },
   "outputs": [],
   "source": [
    "from keras.utils import np_utils\n",
    "\n",
    "X_train = prep.transform(train_train_data)\n",
    "y_train = np_utils.to_categorical(train_labels)\n",
    "\n",
    "X_test = prep.transform(test_data)\n",
    "y_test = np_utils.to_categorical(test_labels)"
   ]
  },
  {
   "cell_type": "code",
   "execution_count": 104,
   "metadata": {
    "collapsed": false,
    "scrolled": true
   },
   "outputs": [
    {
     "name": "stdout",
     "output_type": "stream",
     "text": [
      "CPU times: user 22min 46s, sys: 1h 12min 39s, total: 1h 35min 26s\n",
      "Wall time: 13min 46s\n"
     ]
    }
   ],
   "source": [
    "%%time\n",
    "from keras.utils import np_utils\n",
    "from keras.models import Sequential\n",
    "from keras.layers import Dense, Dropout, Activation\n",
    "from keras.optimizers import SGD, Adadelta\n",
    "from keras.callbacks import EarlyStopping\n",
    "from keras.regularizers import l2, activity_l2, l1, activity_l1, l1l2\n",
    "\n",
    "clf = Sequential()\n",
    "clf.add(Dense(100, input_dim=X_train.shape[1], init='uniform', activation='sigmoid'))\n",
    "#clf.add(Activation('sigmoid'))\n",
    "clf.add(Dropout(0.5))\n",
    "clf.add(Dense(4, init='uniform', activation='softmax'))\n",
    "#clf.add(Activation('sigmoid'))\n",
    "#clf.add(Activation('softmax'))\n",
    "\n",
    "ada = Adadelta(lr=1., rho=0.95, epsilon=1e-06)\n",
    "sgd = SGD(lr=0.02, decay=0.0, momentum=0.0, nesterov=False)\n",
    "\n",
    "clf.compile(loss='categorical_crossentropy',\n",
    "              optimizer=sgd,\n",
    "             class_mode = \"categorical\")\n",
    "\n",
    "call = EarlyStopping(monitor='val_loss', patience=20, verbose=0, mode='auto')\n",
    "\n",
    "\n",
    "history = clf.fit(X=X_train, \n",
    "                y=y_train, \n",
    "                #sample_weight=weights_train,\n",
    "                nb_epoch=2000,\n",
    "                batch_size=1000,\n",
    "                show_accuracy=True,\n",
    "                validation_split=0.1,\n",
    "                validation_data = (X_test, y_test),\n",
    "                verbose=0,\n",
    "                callbacks=[])"
   ]
  },
  {
   "cell_type": "code",
   "execution_count": 105,
   "metadata": {
    "collapsed": false
   },
   "outputs": [
    {
     "data": {
      "image/png": "[encoded data removed]",
      "text/plain": [
       "<matplotlib.figure.Figure at 0x7f8fefd7c8d0>"
      ]
     },
     "metadata": {},
     "output_type": "display_data"
    }
   ],
   "source": [
    "val_loss = history.history['val_loss']\n",
    "loss = history.history['loss']\n",
    "\n",
    "plt.title('Learning curves')\n",
    "plt.plot(val_loss, 'r', label='val_loss')\n",
    "plt.plot(loss, 'b', label='train_loss')\n",
    "plt.legend(loc='best')\n",
    "plt.show()"
   ]
  },
  {
   "cell_type": "code",
   "execution_count": 106,
   "metadata": {
    "collapsed": false
   },
   "outputs": [
    {
     "name": "stdout",
     "output_type": "stream",
     "text": [
      "18492/18492 [==============================] - 0s     \n"
     ]
    }
   ],
   "source": [
    "prob_mlp = clf.predict_proba(X_test)"
   ]
  },
  {
   "cell_type": "code",
   "execution_count": 107,
   "metadata": {
    "collapsed": false
   },
   "outputs": [
    {
     "data": {
      "image/png": "[encoded data removed]",
      "text/plain": [
       "<matplotlib.figure.Figure at 0x7f8fefd7cd50>"
      ]
     },
     "metadata": {},
     "output_type": "display_data"
    },
    {
     "data": {
      "text/html": [
       "<div>\n",
       "<table border=\"1\" class=\"dataframe\">\n",
       "  <thead>\n",
       "    <tr style=\"text-align: right;\">\n",
       "      <th></th>\n",
       "      <th>b</th>\n",
       "      <th>c</th>\n",
       "      <th>sud</th>\n",
       "      <th>gluon</th>\n",
       "    </tr>\n",
       "  </thead>\n",
       "  <tbody>\n",
       "    <tr>\n",
       "      <th>b</th>\n",
       "      <td>1.000000</td>\n",
       "      <td>0.935058</td>\n",
       "      <td>0.965564</td>\n",
       "      <td>0.968685</td>\n",
       "    </tr>\n",
       "    <tr>\n",
       "      <th>c</th>\n",
       "      <td>0.935058</td>\n",
       "      <td>1.000000</td>\n",
       "      <td>0.942153</td>\n",
       "      <td>0.956609</td>\n",
       "    </tr>\n",
       "    <tr>\n",
       "      <th>sud</th>\n",
       "      <td>0.965564</td>\n",
       "      <td>0.942153</td>\n",
       "      <td>1.000000</td>\n",
       "      <td>0.649234</td>\n",
       "    </tr>\n",
       "    <tr>\n",
       "      <th>gluon</th>\n",
       "      <td>0.968685</td>\n",
       "      <td>0.956609</td>\n",
       "      <td>0.649234</td>\n",
       "      <td>1.000000</td>\n",
       "    </tr>\n",
       "  </tbody>\n",
       "</table>\n",
       "</div>"
      ],
      "text/plain": [
       "              b         c       sud     gluon\n",
       "b      1.000000  0.935058  0.965564  0.968685\n",
       "c      0.935058  1.000000  0.942153  0.956609\n",
       "sud    0.965564  0.942153  1.000000  0.649234\n",
       "gluon  0.968685  0.956609  0.649234  1.000000"
      ]
     },
     "execution_count": 107,
     "metadata": {},
     "output_type": "execute_result"
    }
   ],
   "source": [
    "import os, sys\n",
    "sys.path.append('python')\n",
    "import utils\n",
    "mlp_roc_aucs = utils.get_roc_auc_matrix(test_labels, prob_mlp, names, save_path=None, show=True)\n",
    "mlp_roc_aucs"
   ]
  },
  {
   "cell_type": "code",
   "execution_count": 108,
   "metadata": {
    "collapsed": false
   },
   "outputs": [
    {
     "data": {
      "text/html": [
       "<div>\n",
       "<table border=\"1\" class=\"dataframe\">\n",
       "  <thead>\n",
       "    <tr style=\"text-align: right;\">\n",
       "      <th></th>\n",
       "      <th>b</th>\n",
       "      <th>c</th>\n",
       "      <th>sud</th>\n",
       "      <th>gluon</th>\n",
       "    </tr>\n",
       "  </thead>\n",
       "  <tbody>\n",
       "    <tr>\n",
       "      <th>b</th>\n",
       "      <td>0.000000</td>\n",
       "      <td>-0.014408</td>\n",
       "      <td>-0.017469</td>\n",
       "      <td>-0.013874</td>\n",
       "    </tr>\n",
       "    <tr>\n",
       "      <th>c</th>\n",
       "      <td>-0.014408</td>\n",
       "      <td>0.000000</td>\n",
       "      <td>-0.028645</td>\n",
       "      <td>-0.017747</td>\n",
       "    </tr>\n",
       "    <tr>\n",
       "      <th>sud</th>\n",
       "      <td>-0.017469</td>\n",
       "      <td>-0.028645</td>\n",
       "      <td>0.000000</td>\n",
       "      <td>-0.010024</td>\n",
       "    </tr>\n",
       "    <tr>\n",
       "      <th>gluon</th>\n",
       "      <td>-0.013874</td>\n",
       "      <td>-0.017747</td>\n",
       "      <td>-0.010024</td>\n",
       "      <td>0.000000</td>\n",
       "    </tr>\n",
       "  </tbody>\n",
       "</table>\n",
       "</div>"
      ],
      "text/plain": [
       "              b         c       sud     gluon\n",
       "b      0.000000 -0.014408 -0.017469 -0.013874\n",
       "c     -0.014408  0.000000 -0.028645 -0.017747\n",
       "sud   -0.017469 -0.028645  0.000000 -0.010024\n",
       "gluon -0.013874 -0.017747 -0.010024  0.000000"
      ]
     },
     "execution_count": 108,
     "metadata": {},
     "output_type": "execute_result"
    }
   ],
   "source": [
    "mlp_roc_aucs - roc_auc_baseline"
   ]
  },
  {
   "cell_type": "code",
   "execution_count": null,
   "metadata": {
    "collapsed": true
   },
   "outputs": [],
   "source": []
  },
  {
   "cell_type": "code",
   "execution_count": null,
   "metadata": {
    "collapsed": true
   },
   "outputs": [],
   "source": []
  }
 ],
 "metadata": {
  "kernelspec": {
   "display_name": "Python 2",
   "language": "python",
   "name": "python2"
  },
  "language_info": {
   "codemirror_mode": {
    "name": "ipython",
    "version": 2
   },
   "file_extension": ".py",
   "mimetype": "text/x-python",
   "name": "python",
   "nbconvert_exporter": "python",
   "pygments_lexer": "ipython2",
   "version": "2.7.11"
  }
 },
 "nbformat": 4,
 "nbformat_minor": 0
}
