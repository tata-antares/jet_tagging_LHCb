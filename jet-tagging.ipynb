{
 "cells": [
  {
   "cell_type": "code",
   "execution_count": 1,
   "metadata": {
    "collapsed": false
   },
   "outputs": [
    {
     "name": "stdout",
     "output_type": "stream",
     "text": [
      "Populating the interactive namespace from numpy and matplotlib\n"
     ]
    }
   ],
   "source": [
    "%pylab inline"
   ]
  },
  {
   "cell_type": "code",
   "execution_count": 2,
   "metadata": {
    "collapsed": true
   },
   "outputs": [],
   "source": [
    "def generate_result(auc_b_c, auc_b_light, auc_c_light, label=\"\"):\n",
    "    result = {}\n",
    "    result['b vs c'] = [auc_b_c]\n",
    "    result['b vs light'] = [auc_b_light]\n",
    "    result['c vs light'] = [auc_c_light]\n",
    "    result['name'] = [label]\n",
    "    return pandas.DataFrame(result)"
   ]
  },
  {
   "cell_type": "code",
   "execution_count": 27,
   "metadata": {
    "collapsed": true
   },
   "outputs": [],
   "source": [
    "def get_result(proba, labels, name=\"result\"):\n",
    "    result = generate_result(1 - roc_auc_score(labels > 0, proba[:, 0] / proba[:, 1], \n",
    "                                                      sample_weight=(labels != 2) * 1),\n",
    "                                    1 - roc_auc_score(labels > 1, proba[:, 0] / proba[:, 2],\n",
    "                                                      sample_weight=(labels != 1) * 1),\n",
    "                                    1 - roc_auc_score(labels > 1, proba[:, 1] / proba[:, 2],\n",
    "                                                      sample_weight=(labels != 0) * 1),\n",
    "                                    label=name)\n",
    "    return result"
   ]
  },
  {
   "cell_type": "code",
   "execution_count": 3,
   "metadata": {
    "collapsed": true
   },
   "outputs": [],
   "source": [
    "class MyRFECV(object):\n",
    "    \n",
    "    def __init__(self, estimator, step, cv, features):\n",
    "        self.estimator = estimator\n",
    "        self.step = step\n",
    "        self.cv = cv\n",
    "        self.features = features\n",
    "        \n",
    "    def _score(self, labels, probs):\n",
    "        roc_b_c = 1 - roc_auc_score(labels > 0, probs[:, 0] / probs[:, 1], sample_weight=(labels != 2) * 1)\n",
    "        roc_b_light = 1 - roc_auc_score(labels > 1, probs[:, 0] / probs[:, 2], sample_weight=(labels != 1) * 1)\n",
    "        roc_c_light = 1 - roc_auc_score(labels > 1, probs[:, 1] / probs[:, 2], sample_weight=(labels != 0) * 1)\n",
    "        return (roc_b_c + roc_b_light + roc_c_light) / 3.\n",
    "        \n",
    "    def _fit_step(self, data, features):\n",
    "        sk = SklearnClassifier(self.estimator, features=None)\n",
    "        folding = FoldingClassifier(sk, n_folds=self.cv, random_state=11, features=features)\n",
    "        folding.fit_lds(data)\n",
    "        importances = folding.feature_importances_\n",
    "        indices = numpy.argsort(importances)[::-1]\n",
    "        \n",
    "        labels = data.target\n",
    "        probs = folding.predict_proba(data.data)\n",
    "        score = self._score(labels, probs)\n",
    "        \n",
    "        return features[indices], score\n",
    "        \n",
    "    def fit(self, data):\n",
    "        features = self.features\n",
    "        feature_list = []\n",
    "        score_list = []\n",
    "        \n",
    "        while len(features) >= self.step:\n",
    "            features, score = self._fit_step(data, features)\n",
    "            feature_list.append(features)\n",
    "            score_list.append(score)\n",
    "            \n",
    "            features = features[:-self.step]\n",
    "            \n",
    "        if len(features) > 0:\n",
    "            features, score = self._fit_step(data, features)\n",
    "            feature_list.append(features)\n",
    "            score_list.append(score)\n",
    "            \n",
    "        return numpy.array(feature_list), numpy.array(score_list)"
   ]
  },
  {
   "cell_type": "code",
   "execution_count": null,
   "metadata": {
    "collapsed": false
   },
   "outputs": [],
   "source": [
    "%matplotlib inline\n",
    "import root_numpy\n",
    "import pandas\n",
    "import numpy\n",
    "import matplotlib.pyplot as plt\n",
    "from rep.data import LabeledDataStorage\n",
    "#from hep_ml.decisiontrain import DecisionTrainClassifier, DecisionTrainRegressor\n",
    "from hep_ml.losses import LogLossFunction, MSELossFunction\n",
    "from rep.metaml import FoldingClassifier, FoldingRegressor\n",
    "from rep.report import ClassificationReport\n",
    "from rep.report.metrics import RocAuc\n",
    "from sklearn.metrics import roc_auc_score\n",
    "from sklearn.ensemble import GradientBoostingClassifier, GradientBoostingRegressor\n",
    "from sklearn.ensemble import RandomForestClassifier, RandomForestRegressor, ExtraTreesClassifier\n",
    "from rep.estimators import XGBoostClassifier, SklearnClassifier\n",
    "import cPickle as pickle"
   ]
  },
  {
   "cell_type": "markdown",
   "metadata": {},
   "source": [
    "## Read data"
   ]
  },
  {
   "cell_type": "code",
   "execution_count": 8,
   "metadata": {
    "collapsed": false
   },
   "outputs": [],
   "source": [
    "treename = 'tag'\n",
    "\n",
    "data_b = pandas.DataFrame(root_numpy.root2array('/home/mikhail91/jet_tagging_LHCb/datasets/type=5.root', treename=treename)).dropna()\n",
    "data_b = data_b[::90]\n",
    "data_c = pandas.DataFrame(root_numpy.root2array('/home/mikhail91/jet_tagging_LHCb/datasets/type=4.root', treename=treename)).dropna()\n",
    "data_light = pandas.DataFrame(root_numpy.root2array('/home/mikhail91/jet_tagging_LHCb/datasets/type=0.root', treename=treename)).dropna()\n",
    "data_light = data_light[::2]"
   ]
  },
  {
   "cell_type": "code",
   "execution_count": 9,
   "metadata": {
    "collapsed": true
   },
   "outputs": [],
   "source": [
    "data = {'b': data_b, 'c': data_c, 'light': data_light}"
   ]
  },
  {
   "cell_type": "code",
   "execution_count": 10,
   "metadata": {
    "collapsed": true
   },
   "outputs": [],
   "source": [
    "full_data = pandas.concat([data_b, data_c, data_light])\n",
    "full_data['label'] = [0] * len(data_b) + [1] * len(data_c) + [2] * len(data_light)"
   ]
  },
  {
   "cell_type": "code",
   "execution_count": 11,
   "metadata": {
    "collapsed": true
   },
   "outputs": [],
   "source": [
    "jet_features = [column for column in data_b.columns if \"Jet\" in column]\n",
    "sv_features = [column for column in data_b.columns if \"SV\" in column]"
   ]
  },
  {
   "cell_type": "markdown",
   "metadata": {},
   "source": [
    "# Multiclassification"
   ]
  },
  {
   "cell_type": "markdown",
   "metadata": {},
   "source": [
    "## Data preprocessing"
   ]
  },
  {
   "cell_type": "code",
   "execution_count": 12,
   "metadata": {
    "collapsed": true
   },
   "outputs": [],
   "source": [
    "train_data = full_data[sv_features].values\n",
    "labels = full_data['label'].values"
   ]
  },
  {
   "cell_type": "markdown",
   "metadata": {},
   "source": [
    "## Train"
   ]
  },
  {
   "cell_type": "code",
   "execution_count": 13,
   "metadata": {
    "collapsed": false
   },
   "outputs": [
    {
     "name": "stdout",
     "output_type": "stream",
     "text": [
      "CPU times: user 7min 44s, sys: 480 ms, total: 7min 45s\n",
      "Wall time: 59 s\n"
     ]
    },
    {
     "data": {
      "text/plain": [
       "FoldingClassifier(base_estimator=XGBoostClassifier(base_score=0.5, colsample=0.7, eta=0.01, features=None,\n",
       "         gamma=None, max_depth=8, min_child_weight=1.0, missing=-999.0,\n",
       "         n_estimators=1000, nthreads=8, num_feature=None, random_state=0,\n",
       "         scale_pos_weight=1.0, subsample=0.5, verbose=0),\n",
       "         features=['Feature_0', 'Feature_1', 'Feature_2', 'Feature_3', 'Feature_4', 'Feature_5', 'Feature_6', 'Feature_7', 'Feature_8'],\n",
       "         n_folds=2, parallel_profile=None, random_state=11)"
      ]
     },
     "execution_count": 13,
     "metadata": {},
     "output_type": "execute_result"
    }
   ],
   "source": [
    "from rep.estimators import XGBoostClassifier\n",
    "xgb_base = XGBoostClassifier(n_estimators=1000, colsample=0.7, eta=0.01, nthreads=8, \n",
    "                             subsample=0.5, max_depth=8)\n",
    "# xgb_base = RandomForestClassifier(n_estimators=100, max_depth=None, max_features='auto')\n",
    "multi_folding = FoldingClassifier(xgb_base, n_folds=2, random_state=11)\n",
    "%time multi_folding.fit(train_data, labels)"
   ]
  },
  {
   "cell_type": "code",
   "execution_count": 14,
   "metadata": {
    "collapsed": false
   },
   "outputs": [
    {
     "name": "stdout",
     "output_type": "stream",
     "text": [
      "KFold prediction using folds column\n"
     ]
    }
   ],
   "source": [
    "multi_probs = multi_folding.predict_proba(train_data)"
   ]
  },
  {
   "cell_type": "markdown",
   "metadata": {},
   "source": [
    "## Results"
   ]
  },
  {
   "cell_type": "code",
   "execution_count": 15,
   "metadata": {
    "collapsed": false
   },
   "outputs": [],
   "source": [
    "labels = numpy.array([0] * len(data_b) + [1] * len(data_c) + [2] * len(data_light))\n",
    "multiclass_result = generate_result(1 - roc_auc_score(labels > 0, multi_probs[:, 0] / multi_probs[:, 1], \n",
    "                                                      sample_weight=(labels != 2) * 1),\n",
    "                                    1 - roc_auc_score(labels > 1, multi_probs[:, 0] / multi_probs[:, 2],\n",
    "                                                      sample_weight=(labels != 1) * 1),\n",
    "                                    1 - roc_auc_score(labels > 1, multi_probs[:, 1] / multi_probs[:, 2],\n",
    "                                                      sample_weight=(labels != 0) * 1),\n",
    "                                    label='multiclass')"
   ]
  },
  {
   "cell_type": "code",
   "execution_count": 16,
   "metadata": {
    "collapsed": false
   },
   "outputs": [
    {
     "data": {
      "text/html": [
       "<div>\n",
       "<table border=\"1\" class=\"dataframe\">\n",
       "  <thead>\n",
       "    <tr style=\"text-align: right;\">\n",
       "      <th></th>\n",
       "      <th>b vs c</th>\n",
       "      <th>b vs light</th>\n",
       "      <th>c vs light</th>\n",
       "    </tr>\n",
       "    <tr>\n",
       "      <th>name</th>\n",
       "      <th></th>\n",
       "      <th></th>\n",
       "      <th></th>\n",
       "    </tr>\n",
       "  </thead>\n",
       "  <tbody>\n",
       "    <tr>\n",
       "      <th>multiclass</th>\n",
       "      <td>0.949536</td>\n",
       "      <td>0.983856</td>\n",
       "      <td>0.973569</td>\n",
       "    </tr>\n",
       "  </tbody>\n",
       "</table>\n",
       "</div>"
      ],
      "text/plain": [
       "              b vs c  b vs light  c vs light\n",
       "name                                        \n",
       "multiclass  0.949536    0.983856    0.973569"
      ]
     },
     "execution_count": 16,
     "metadata": {},
     "output_type": "execute_result"
    }
   ],
   "source": [
    "result = pandas.concat([multiclass_result])\n",
    "result.index = result['name']\n",
    "result = result.drop('name', axis=1)\n",
    "result"
   ]
  },
  {
   "cell_type": "markdown",
   "metadata": {},
   "source": [
    "# Multiclassification + PCA"
   ]
  },
  {
   "cell_type": "markdown",
   "metadata": {},
   "source": [
    "## Data preprocessing"
   ]
  },
  {
   "cell_type": "code",
   "execution_count": 17,
   "metadata": {
    "collapsed": false
   },
   "outputs": [],
   "source": [
    "from sklearn.decomposition import PCA\n",
    "\n",
    "pca = PCA(n_components=train_data.shape[1])\n",
    "pca_train_data = pca.fit_transform(train_data)"
   ]
  },
  {
   "cell_type": "markdown",
   "metadata": {},
   "source": [
    "## Train"
   ]
  },
  {
   "cell_type": "code",
   "execution_count": 18,
   "metadata": {
    "collapsed": false
   },
   "outputs": [
    {
     "name": "stdout",
     "output_type": "stream",
     "text": [
      "CPU times: user 7min 4s, sys: 908 ms, total: 7min 4s\n",
      "Wall time: 53.3 s\n"
     ]
    },
    {
     "data": {
      "text/plain": [
       "FoldingClassifier(base_estimator=XGBoostClassifier(base_score=0.5, colsample=0.7, eta=0.01, features=None,\n",
       "         gamma=None, max_depth=8, min_child_weight=1.0, missing=-999.0,\n",
       "         n_estimators=1000, nthreads=8, num_feature=None, random_state=0,\n",
       "         scale_pos_weight=1.0, subsample=0.5, verbose=0),\n",
       "         features=['Feature_0', 'Feature_1', 'Feature_2', 'Feature_3', 'Feature_4', 'Feature_5', 'Feature_6', 'Feature_7', 'Feature_8'],\n",
       "         n_folds=2, parallel_profile=None, random_state=11)"
      ]
     },
     "execution_count": 18,
     "metadata": {},
     "output_type": "execute_result"
    }
   ],
   "source": [
    "from rep.estimators import XGBoostClassifier\n",
    "xgb_base = XGBoostClassifier(n_estimators=1000, colsample=0.7, eta=0.01, nthreads=8, \n",
    "                             subsample=0.5, max_depth=8)\n",
    "# xgb_base = RandomForestClassifier(n_estimators=100, max_depth=None, max_features='auto')\n",
    "pca_multi_folding = FoldingClassifier(xgb_base, n_folds=2, random_state=11)\n",
    "%time pca_multi_folding.fit(pca_train_data, labels)"
   ]
  },
  {
   "cell_type": "code",
   "execution_count": 19,
   "metadata": {
    "collapsed": false
   },
   "outputs": [
    {
     "name": "stdout",
     "output_type": "stream",
     "text": [
      "KFold prediction using folds column\n"
     ]
    }
   ],
   "source": [
    "pca_multi_probs = pca_multi_folding.predict_proba(pca_train_data)"
   ]
  },
  {
   "cell_type": "markdown",
   "metadata": {},
   "source": [
    "## Results"
   ]
  },
  {
   "cell_type": "code",
   "execution_count": 20,
   "metadata": {
    "collapsed": true
   },
   "outputs": [],
   "source": [
    "labels = numpy.array([0] * len(data_b) + [1] * len(data_c) + [2] * len(data_light))\n",
    "pca_multiclass_result = generate_result(1 - roc_auc_score(labels > 0, pca_multi_probs[:, 0] / pca_multi_probs[:, 1], \n",
    "                                                      sample_weight=(labels != 2) * 1),\n",
    "                                    1 - roc_auc_score(labels > 1, pca_multi_probs[:, 0] / pca_multi_probs[:, 2],\n",
    "                                                      sample_weight=(labels != 1) * 1),\n",
    "                                    1 - roc_auc_score(labels > 1, pca_multi_probs[:, 1] / pca_multi_probs[:, 2],\n",
    "                                                      sample_weight=(labels != 0) * 1),\n",
    "                                    label='pca_multiclass')"
   ]
  },
  {
   "cell_type": "code",
   "execution_count": 21,
   "metadata": {
    "collapsed": false
   },
   "outputs": [
    {
     "data": {
      "text/html": [
       "<div>\n",
       "<table border=\"1\" class=\"dataframe\">\n",
       "  <thead>\n",
       "    <tr style=\"text-align: right;\">\n",
       "      <th></th>\n",
       "      <th>b vs c</th>\n",
       "      <th>b vs light</th>\n",
       "      <th>c vs light</th>\n",
       "    </tr>\n",
       "    <tr>\n",
       "      <th>name</th>\n",
       "      <th></th>\n",
       "      <th></th>\n",
       "      <th></th>\n",
       "    </tr>\n",
       "  </thead>\n",
       "  <tbody>\n",
       "    <tr>\n",
       "      <th>multiclass</th>\n",
       "      <td>0.949536</td>\n",
       "      <td>0.983856</td>\n",
       "      <td>0.973569</td>\n",
       "    </tr>\n",
       "    <tr>\n",
       "      <th>pca_multiclass</th>\n",
       "      <td>0.945119</td>\n",
       "      <td>0.985436</td>\n",
       "      <td>0.977200</td>\n",
       "    </tr>\n",
       "  </tbody>\n",
       "</table>\n",
       "</div>"
      ],
      "text/plain": [
       "                  b vs c  b vs light  c vs light\n",
       "name                                            \n",
       "multiclass      0.949536    0.983856    0.973569\n",
       "pca_multiclass  0.945119    0.985436    0.977200"
      ]
     },
     "execution_count": 21,
     "metadata": {},
     "output_type": "execute_result"
    }
   ],
   "source": [
    "result = pandas.concat([multiclass_result, pca_multiclass_result])\n",
    "result.index = result['name']\n",
    "result = result.drop('name', axis=1)\n",
    "result"
   ]
  },
  {
   "cell_type": "markdown",
   "metadata": {},
   "source": [
    "# Multiclass + features generation + features selection"
   ]
  },
  {
   "cell_type": "markdown",
   "metadata": {},
   "source": [
    "## Data preprocessing"
   ]
  },
  {
   "cell_type": "code",
   "execution_count": 24,
   "metadata": {
    "collapsed": true
   },
   "outputs": [],
   "source": [
    "full_data['log_SVFDChi2'] = numpy.log(full_data['SVFDChi2'].values)\n",
    "full_data['log_SVSumIPChi2'] = numpy.log(full_data['SVSumIPChi2'].values)\n",
    "full_data['P_Sin'] = 0.5*full_data['SVMC'].values - (full_data['SVM'].values)**2/(2.*full_data['SVMC'].values)\n",
    "full_data['Psv'] = full_data['SVPT'].values * full_data['P_Sin'].values\n",
    "full_data['Psv2'] = full_data['P_Sin'].values / full_data['SVPT'].values\n",
    "full_data['Mt'] = full_data['SVMC'].values - full_data['P_Sin'].values\n",
    "full_data['QtoN'] = 1. * full_data['SVQ'].values / full_data['SVN'].values\n",
    "    \n",
    "new_features = ['log_SVFDChi2', 'log_SVSumIPChi2', 'P_Sin', 'Psv', 'Psv2', 'Mt', 'QtoN']"
   ]
  },
  {
   "cell_type": "code",
   "execution_count": 25,
   "metadata": {
    "collapsed": true
   },
   "outputs": [],
   "source": [
    "features = []\n",
    "for ind1 in range(0, len(sv_features)):\n",
    "    f1 = sv_features[ind1]\n",
    "    for ind2 in range(ind1, len(sv_features)):\n",
    "        f2 = sv_features[ind2]\n",
    "        \n",
    "        full_data[f1+'_mult_'+f2] = full_data[f1].values * full_data[f2].values\n",
    "        full_data[f1+'_div_'+f2] = full_data[f1].values / (full_data[f2].values + 0.1)\n",
    "        full_data[f2+'_div_'+f1] = full_data[f2].values / (full_data[f1].values + 0.1)\n",
    "        features.append(f1+'_mult_'+f2)\n",
    "        features.append(f1+'_div_'+f2)\n",
    "        features.append(f2+'_div_'+f1)\n",
    "\n",
    "        full_data['2'+f1+'_plus_'+f2] = (full_data[f1].values**2) + (full_data[f2].values**2)\n",
    "        full_data['2'+f1+'_min_'+f2] = (full_data[f1].values**2) - (full_data[f2].values**2)\n",
    "        features.append('2'+f1+'_plus_'+f2)\n",
    "        features.append('2'+f1+'_min_'+f2)\n",
    "        \n",
    "new_features += features"
   ]
  },
  {
   "cell_type": "code",
   "execution_count": 26,
   "metadata": {
    "collapsed": true
   },
   "outputs": [],
   "source": [
    "new_train_data = full_data[sv_features + new_features].values"
   ]
  },
  {
   "cell_type": "code",
   "execution_count": 28,
   "metadata": {
    "collapsed": true
   },
   "outputs": [],
   "source": [
    "full_data_lds = LabeledDataStorage(full_data, labels)"
   ]
  },
  {
   "cell_type": "code",
   "execution_count": 29,
   "metadata": {
    "collapsed": false
   },
   "outputs": [
    {
     "name": "stdout",
     "output_type": "stream",
     "text": [
      "KFold prediction using folds column\n",
      "KFold prediction using folds column\n",
      "KFold prediction using folds column\n",
      "KFold prediction using folds column\n",
      "KFold prediction using folds column\n",
      "KFold prediction using folds column\n",
      "KFold prediction using folds column\n",
      "KFold prediction using folds column\n",
      "KFold prediction using folds column\n",
      "KFold prediction using folds column\n",
      "KFold prediction using folds column\n",
      "KFold prediction using folds column\n",
      "KFold prediction using folds column\n",
      "KFold prediction using folds column\n",
      "KFold prediction using folds column\n",
      "KFold prediction using folds column\n",
      "KFold prediction using folds column\n",
      "KFold prediction using folds column\n",
      "KFold prediction using folds column\n",
      "KFold prediction using folds column\n",
      "KFold prediction using folds column\n",
      "KFold prediction using folds column\n",
      "KFold prediction using folds column\n",
      "KFold prediction using folds column\n",
      "KFold prediction using folds column\n"
     ]
    }
   ],
   "source": [
    "forest = ExtraTreesClassifier(n_estimators=100, random_state=0, n_jobs=2)\n",
    "feature_list, score_list = \\\n",
    "MyRFECV(estimator=forest, step=10, cv=2, features=numpy.array(sv_features+new_features)).fit(full_data_lds)"
   ]
  },
  {
   "cell_type": "code",
   "execution_count": 30,
   "metadata": {
    "collapsed": false
   },
   "outputs": [
    {
     "data": {
      "image/png": "[encoded data removed]",
      "text/plain": [
       "<matplotlib.figure.Figure at 0x7f14af10f190>"
      ]
     },
     "metadata": {},
     "output_type": "display_data"
    }
   ],
   "source": [
    "length = numpy.array([len(fs) for fs in feature_list])\n",
    "plt.plot(length, score_list)\n",
    "plt.ylim(0.95, 0.97)\n",
    "plt.show()"
   ]
  },
  {
   "cell_type": "code",
   "execution_count": 31,
   "metadata": {
    "collapsed": false
   },
   "outputs": [
    {
     "data": {
      "text/plain": [
       "81"
      ]
     },
     "execution_count": 31,
     "metadata": {},
     "output_type": "execute_result"
    }
   ],
   "source": [
    "sel_features = feature_list[score_list == score_list.max()][0]\n",
    "len(sel_features)"
   ]
  },
  {
   "cell_type": "code",
   "execution_count": 32,
   "metadata": {
    "collapsed": true
   },
   "outputs": [],
   "source": [
    "sel_new_train_data = full_data[sel_features].values"
   ]
  },
  {
   "cell_type": "markdown",
   "metadata": {},
   "source": [
    "## Train"
   ]
  },
  {
   "cell_type": "code",
   "execution_count": 33,
   "metadata": {
    "collapsed": false
   },
   "outputs": [
    {
     "name": "stdout",
     "output_type": "stream",
     "text": [
      "CPU times: user 27min 46s, sys: 1.57 s, total: 27min 47s\n",
      "Wall time: 3min 30s\n"
     ]
    },
    {
     "data": {
      "text/plain": [
       "FoldingClassifier(base_estimator=XGBoostClassifier(base_score=0.5, colsample=0.7, eta=0.01, features=None,\n",
       "         gamma=None, max_depth=8, min_child_weight=1.0, missing=-999.0,\n",
       "         n_estimators=1000, nthreads=8, num_feature=None, random_state=0,\n",
       "         scale_pos_weight=1.0, subsample=0.5, verbose=0),\n",
       "         features=['Feature_0', 'Feature_1', 'Feature_2', 'Feature_3', 'Feature_4', 'Feature_5', 'Feature_6', 'Feature_7', 'Feature_8', 'Feature_9', 'Feature_10', 'Feature_11', 'Feature_12', 'Feature_13', 'Feature_14', 'Feature_15', 'Feature_16', 'Feature_17', 'Feature_18', 'Feature_19', 'Feature_20', 'Featu...', 'Feature_74', 'Feature_75', 'Feature_76', 'Feature_77', 'Feature_78', 'Feature_79', 'Feature_80'],\n",
       "         n_folds=2, parallel_profile=None, random_state=11)"
      ]
     },
     "execution_count": 33,
     "metadata": {},
     "output_type": "execute_result"
    }
   ],
   "source": [
    "from rep.estimators import XGBoostClassifier\n",
    "xgb_base = XGBoostClassifier(n_estimators=1000, colsample=0.7, eta=0.01, nthreads=8, \n",
    "                             subsample=0.5, max_depth=8)\n",
    "# xgb_base = RandomForestClassifier(n_estimators=100, max_depth=None, max_features='auto')\n",
    "sel_new_multi_folding = FoldingClassifier(xgb_base, n_folds=2, random_state=11)\n",
    "%time sel_new_multi_folding.fit(sel_new_train_data, labels)"
   ]
  },
  {
   "cell_type": "code",
   "execution_count": 34,
   "metadata": {
    "collapsed": false
   },
   "outputs": [
    {
     "name": "stdout",
     "output_type": "stream",
     "text": [
      "KFold prediction using folds column\n"
     ]
    }
   ],
   "source": [
    "sel_new_multi_probs = sel_new_multi_folding.predict_proba(sel_new_train_data)"
   ]
  },
  {
   "cell_type": "markdown",
   "metadata": {},
   "source": [
    "## Results"
   ]
  },
  {
   "cell_type": "code",
   "execution_count": 35,
   "metadata": {
    "collapsed": true
   },
   "outputs": [],
   "source": [
    "sel_new_multi_results = get_result(sel_new_multi_probs, labels, \"sel_new_multiclass\")"
   ]
  },
  {
   "cell_type": "code",
   "execution_count": 37,
   "metadata": {
    "collapsed": false
   },
   "outputs": [
    {
     "data": {
      "text/html": [
       "<div>\n",
       "<table border=\"1\" class=\"dataframe\">\n",
       "  <thead>\n",
       "    <tr style=\"text-align: right;\">\n",
       "      <th></th>\n",
       "      <th>b vs c</th>\n",
       "      <th>b vs light</th>\n",
       "      <th>c vs light</th>\n",
       "    </tr>\n",
       "    <tr>\n",
       "      <th>name</th>\n",
       "      <th></th>\n",
       "      <th></th>\n",
       "      <th></th>\n",
       "    </tr>\n",
       "  </thead>\n",
       "  <tbody>\n",
       "    <tr>\n",
       "      <th>multiclass</th>\n",
       "      <td>0.949536</td>\n",
       "      <td>0.983856</td>\n",
       "      <td>0.973569</td>\n",
       "    </tr>\n",
       "    <tr>\n",
       "      <th>pca_multiclass</th>\n",
       "      <td>0.945119</td>\n",
       "      <td>0.985436</td>\n",
       "      <td>0.977200</td>\n",
       "    </tr>\n",
       "    <tr>\n",
       "      <th>sel_new_multiclass</th>\n",
       "      <td>0.950772</td>\n",
       "      <td>0.988023</td>\n",
       "      <td>0.980581</td>\n",
       "    </tr>\n",
       "  </tbody>\n",
       "</table>\n",
       "</div>"
      ],
      "text/plain": [
       "                      b vs c  b vs light  c vs light\n",
       "name                                                \n",
       "multiclass          0.949536    0.983856    0.973569\n",
       "pca_multiclass      0.945119    0.985436    0.977200\n",
       "sel_new_multiclass  0.950772    0.988023    0.980581"
      ]
     },
     "execution_count": 37,
     "metadata": {},
     "output_type": "execute_result"
    }
   ],
   "source": [
    "result = pandas.concat([multiclass_result, \n",
    "                        pca_multiclass_result,  \n",
    "                        sel_new_multi_results])\n",
    "result.index = result['name']\n",
    "result = result.drop('name', axis=1)\n",
    "result"
   ]
  },
  {
   "cell_type": "code",
   "execution_count": null,
   "metadata": {
    "collapsed": true
   },
   "outputs": [],
   "source": []
  },
  {
   "cell_type": "code",
   "execution_count": null,
   "metadata": {
    "collapsed": true
   },
   "outputs": [],
   "source": []
  },
  {
   "cell_type": "markdown",
   "metadata": {
    "collapsed": true
   },
   "source": [
    "# Grid search XGBoost"
   ]
  },
  {
   "cell_type": "code",
   "execution_count": 192,
   "metadata": {
    "collapsed": true
   },
   "outputs": [],
   "source": [
    "from sklearn.metrics import mean_absolute_error\n",
    "from sklearn.base import clone\n",
    "from rep.metaml import GridOptimalSearchCV, FoldingScorer, RandomParameterOptimizer\n",
    "\n",
    "class MyMeanRocAucScorer(object):\n",
    "    def __init__(self, X_test, y_test):\n",
    "        self.X_test = X_test\n",
    "        self.y_test = y_test\n",
    "        \n",
    "    def __call__(self, estimator, X, y):\n",
    "        cl = clone(estimator)\n",
    "        cl.fit(X, y)\n",
    "        metric = get_result(cl.predict_proba(self.X_test), self.y_test, '').values[0, 0:3].mean()\n",
    "        return metric"
   ]
  },
  {
   "cell_type": "markdown",
   "metadata": {},
   "source": [
    "## Search"
   ]
  },
  {
   "cell_type": "code",
   "execution_count": null,
   "metadata": {
    "collapsed": false
   },
   "outputs": [],
   "source": [
    "from sklearn.grid_search import GridSearchCV\n",
    "from rep.utils import train_test_split\n",
    "\n",
    "train_train_data, test_data, train_labels, test_labels = train_test_split(train_data, labels, test_size=0.3)\n",
    "\n",
    "grid_param = {}\n",
    "grid_param['eta'] = [0.1, 0.05, 0.01]\n",
    "grid_param['max_depth'] = [6, 8, 12, 100]\n",
    "grid_param['colsample'] = [0.3, 0.5, 0.7, 1.0]\n",
    "grid_param['subsample'] = [0.3, 0.5, 0.7, 1.0]\n",
    "\n",
    "xgb_base = XGBoostClassifier(n_estimators=1000, colsample=0.7, eta=0.01, nthreads=1, \n",
    "                             subsample=0.5, max_depth=8)\n",
    "\n",
    "grid_xgb = GridSearchCV(estimator=xgb_base, param_grid=grid_param, cv=2, \n",
    "                    scoring=MyMeanRocAucScorer(test_data, test_labels), n_jobs=8)\n",
    "grid_xgb.fit(train_train_data, train_labels)"
   ]
  },
  {
   "cell_type": "code",
   "execution_count": 208,
   "metadata": {
    "collapsed": false
   },
   "outputs": [
    {
     "data": {
      "text/plain": [
       "{'colsample': 1.0, 'eta': 0.01, 'max_depth': 8, 'subsample': 0.5}"
      ]
     },
     "execution_count": 208,
     "metadata": {},
     "output_type": "execute_result"
    }
   ],
   "source": [
    "grid_xgb.best_params_"
   ]
  },
  {
   "cell_type": "markdown",
   "metadata": {},
   "source": [
    "## Train"
   ]
  },
  {
   "cell_type": "code",
   "execution_count": null,
   "metadata": {
    "collapsed": false
   },
   "outputs": [],
   "source": [
    "xgb_best = grid_xgb.best_estimator_.set_params(features=None)\n",
    "best_xgb_multi_folding = FoldingClassifier(xgb_best, n_folds=2, random_state=11)\n",
    "%time best_xgb_multi_folding.fit(train_data, labels)"
   ]
  },
  {
   "cell_type": "code",
   "execution_count": null,
   "metadata": {
    "collapsed": true
   },
   "outputs": [],
   "source": [
    "# Save classifier\n",
    "clf_pickle = open('best_xgb_multi_folding.pkl', 'wb')\n",
    "#pickle.dump(best_xgb_multi_folding, clf_pickle)\n",
    "clf_pickle.close()"
   ]
  },
  {
   "cell_type": "code",
   "execution_count": null,
   "metadata": {
    "collapsed": true
   },
   "outputs": [],
   "source": [
    "# Read classifier\n",
    "clf_pickle2 = open('best_xgb_multi_folding.pkl', 'rb')\n",
    "#best_xgb_multi_folding = pickle.load(clf_pickle2)\n",
    "clf_pickle2.close()"
   ]
  },
  {
   "cell_type": "code",
   "execution_count": null,
   "metadata": {
    "collapsed": false
   },
   "outputs": [],
   "source": [
    "best_xgb_multi_proba = best_xgb_multi_folding.predict_proba(train_data)"
   ]
  },
  {
   "cell_type": "markdown",
   "metadata": {},
   "source": [
    "## Results"
   ]
  },
  {
   "cell_type": "code",
   "execution_count": null,
   "metadata": {
    "collapsed": true
   },
   "outputs": [],
   "source": [
    "best_xgb_multi_results = get_result(best_xgb_multi_proba, labels, \"best_xgb_multiclass\")"
   ]
  },
  {
   "cell_type": "code",
   "execution_count": 200,
   "metadata": {
    "collapsed": false
   },
   "outputs": [
    {
     "data": {
      "text/html": [
       "<div>\n",
       "<table border=\"1\" class=\"dataframe\">\n",
       "  <thead>\n",
       "    <tr style=\"text-align: right;\">\n",
       "      <th></th>\n",
       "      <th>b vs c</th>\n",
       "      <th>b vs light</th>\n",
       "      <th>c vs light</th>\n",
       "    </tr>\n",
       "    <tr>\n",
       "      <th>name</th>\n",
       "      <th></th>\n",
       "      <th></th>\n",
       "      <th></th>\n",
       "    </tr>\n",
       "  </thead>\n",
       "  <tbody>\n",
       "    <tr>\n",
       "      <th>multiclass</th>\n",
       "      <td>0.949536</td>\n",
       "      <td>0.983856</td>\n",
       "      <td>0.973569</td>\n",
       "    </tr>\n",
       "    <tr>\n",
       "      <th>pca_multiclass</th>\n",
       "      <td>0.945119</td>\n",
       "      <td>0.985436</td>\n",
       "      <td>0.977200</td>\n",
       "    </tr>\n",
       "    <tr>\n",
       "      <th>sel_new_multiclass</th>\n",
       "      <td>0.950772</td>\n",
       "      <td>0.988023</td>\n",
       "      <td>0.980581</td>\n",
       "    </tr>\n",
       "    <tr>\n",
       "      <th>best_xgb_multiclass</th>\n",
       "      <td>0.949341</td>\n",
       "      <td>0.984908</td>\n",
       "      <td>0.975656</td>\n",
       "    </tr>\n",
       "  </tbody>\n",
       "</table>\n",
       "</div>"
      ],
      "text/plain": [
       "                       b vs c  b vs light  c vs light\n",
       "name                                                 \n",
       "multiclass           0.949536    0.983856    0.973569\n",
       "pca_multiclass       0.945119    0.985436    0.977200\n",
       "sel_new_multiclass   0.950772    0.988023    0.980581\n",
       "best_xgb_multiclass  0.949341    0.984908    0.975656"
      ]
     },
     "execution_count": 200,
     "metadata": {},
     "output_type": "execute_result"
    }
   ],
   "source": [
    "result = pandas.concat([multiclass_result, \n",
    "                        pca_multiclass_result,  \n",
    "                        sel_new_multi_results,\n",
    "                        best_xgb_multi_results])\n",
    "result.index = result['name']\n",
    "result = result.drop('name', axis=1)\n",
    "result"
   ]
  },
  {
   "cell_type": "markdown",
   "metadata": {},
   "source": [
    "# Grid search XGBoost + features generation + features selection"
   ]
  },
  {
   "cell_type": "markdown",
   "metadata": {},
   "source": [
    "## Search"
   ]
  },
  {
   "cell_type": "code",
   "execution_count": null,
   "metadata": {
    "collapsed": true
   },
   "outputs": [],
   "source": [
    "from sklearn.grid_search import GridSearchCV\n",
    "from rep.utils import train_test_split\n",
    "\n",
    "sel_new_train_train_data, sel_new_test_data, sel_new_train_labels, sel_new_test_labels = \\\n",
    "train_test_split(sel_new_train_data, labels, test_size=0.3)\n",
    "\n",
    "grid_param = {}\n",
    "grid_param['eta'] = [0.1, 0.05, 0.01]\n",
    "grid_param['max_depth'] = [6, 8, 12, 100]\n",
    "grid_param['colsample'] = [0.3, 0.5, 0.7, 1.0]\n",
    "grid_param['subsample'] = [0.3, 0.5, 0.7, 1.0]\n",
    "\n",
    "xgb_base = XGBoostClassifier(n_estimators=1000, colsample=0.7, eta=0.01, nthreads=1, \n",
    "                             subsample=0.5, max_depth=8)\n",
    "\n",
    "sel_new_grid_xgb = GridSearchCV(estimator=xgb_base, param_grid=grid_param, cv=2, \n",
    "                    scoring=MyMeanRocAucScorer(sel_new_test_data, sel_new_test_labels), n_jobs=8)\n",
    "sel_new_grid_xgb.fit(sel_new_train_train_data, sel_new_train_labels)"
   ]
  },
  {
   "cell_type": "code",
   "execution_count": 241,
   "metadata": {
    "collapsed": false
   },
   "outputs": [
    {
     "data": {
      "text/plain": [
       "{'colsample': 0.7, 'eta': 0.01, 'max_depth': 6, 'subsample': 0.5}"
      ]
     },
     "execution_count": 241,
     "metadata": {},
     "output_type": "execute_result"
    }
   ],
   "source": [
    "sel_new_grid_xgb.best_params_"
   ]
  },
  {
   "cell_type": "markdown",
   "metadata": {},
   "source": [
    "## Train"
   ]
  },
  {
   "cell_type": "code",
   "execution_count": null,
   "metadata": {
    "collapsed": true
   },
   "outputs": [],
   "source": [
    "sel_new_xgb_best = sel_new_grid_xgb.best_estimator_.set_params(features=None)\n",
    "sel_new_best_xgb_multi_folding = FoldingClassifier(sel_new_xgb_best, n_folds=2, random_state=11)\n",
    "%time sel_new_best_xgb_multi_folding.fit(sel_new_train_data, labels)"
   ]
  },
  {
   "cell_type": "code",
   "execution_count": null,
   "metadata": {
    "collapsed": true
   },
   "outputs": [],
   "source": [
    "# Save classifier\n",
    "clf_pickle = open('sel_new_best_xgb_multi_folding.pkl', 'wb')\n",
    "#pickle.dump(sel_new_best_xgb_multi_folding, clf_pickle)\n",
    "clf_pickle.close()"
   ]
  },
  {
   "cell_type": "code",
   "execution_count": null,
   "metadata": {
    "collapsed": true
   },
   "outputs": [],
   "source": [
    "# Read classifier\n",
    "clf_pickle2 = open('sel_new_best_xgb_multi_folding.pkl', 'rb')\n",
    "#sel_new_best_xgb_multi_folding = pickle.load(clf_pickle2)\n",
    "clf_pickle2.close()"
   ]
  },
  {
   "cell_type": "code",
   "execution_count": null,
   "metadata": {
    "collapsed": true
   },
   "outputs": [],
   "source": [
    "sel_new_best_xgb_multi_proba = sel_new_best_xgb_multi_folding.predict_proba(sel_new_train_data)"
   ]
  },
  {
   "cell_type": "markdown",
   "metadata": {},
   "source": [
    "## Results"
   ]
  },
  {
   "cell_type": "code",
   "execution_count": null,
   "metadata": {
    "collapsed": true
   },
   "outputs": [],
   "source": [
    "sel_new_best_xgb_multi_results = get_result(sel_new_best_xgb_multi_proba, labels, \"sel_new_best_xgb_multiclass\")"
   ]
  },
  {
   "cell_type": "code",
   "execution_count": 242,
   "metadata": {
    "collapsed": false
   },
   "outputs": [
    {
     "data": {
      "text/html": [
       "<div>\n",
       "<table border=\"1\" class=\"dataframe\">\n",
       "  <thead>\n",
       "    <tr style=\"text-align: right;\">\n",
       "      <th></th>\n",
       "      <th>b vs c</th>\n",
       "      <th>b vs light</th>\n",
       "      <th>c vs light</th>\n",
       "    </tr>\n",
       "    <tr>\n",
       "      <th>name</th>\n",
       "      <th></th>\n",
       "      <th></th>\n",
       "      <th></th>\n",
       "    </tr>\n",
       "  </thead>\n",
       "  <tbody>\n",
       "    <tr>\n",
       "      <th>multiclass</th>\n",
       "      <td>0.949536</td>\n",
       "      <td>0.983856</td>\n",
       "      <td>0.973569</td>\n",
       "    </tr>\n",
       "    <tr>\n",
       "      <th>pca_multiclass</th>\n",
       "      <td>0.945119</td>\n",
       "      <td>0.985436</td>\n",
       "      <td>0.977200</td>\n",
       "    </tr>\n",
       "    <tr>\n",
       "      <th>sel_new_multiclass</th>\n",
       "      <td>0.950772</td>\n",
       "      <td>0.988023</td>\n",
       "      <td>0.980581</td>\n",
       "    </tr>\n",
       "    <tr>\n",
       "      <th>best_xgb_multiclass</th>\n",
       "      <td>0.949341</td>\n",
       "      <td>0.984908</td>\n",
       "      <td>0.975656</td>\n",
       "    </tr>\n",
       "    <tr>\n",
       "      <th>sel_new_best_xgb_multiclass</th>\n",
       "      <td>0.951279</td>\n",
       "      <td>0.987887</td>\n",
       "      <td>0.980127</td>\n",
       "    </tr>\n",
       "  </tbody>\n",
       "</table>\n",
       "</div>"
      ],
      "text/plain": [
       "                               b vs c  b vs light  c vs light\n",
       "name                                                         \n",
       "multiclass                   0.949536    0.983856    0.973569\n",
       "pca_multiclass               0.945119    0.985436    0.977200\n",
       "sel_new_multiclass           0.950772    0.988023    0.980581\n",
       "best_xgb_multiclass          0.949341    0.984908    0.975656\n",
       "sel_new_best_xgb_multiclass  0.951279    0.987887    0.980127"
      ]
     },
     "execution_count": 242,
     "metadata": {},
     "output_type": "execute_result"
    }
   ],
   "source": [
    "result = pandas.concat([multiclass_result, \n",
    "                        pca_multiclass_result,  \n",
    "                        sel_new_multi_results,\n",
    "                        best_xgb_multi_results,\n",
    "                        sel_new_best_xgb_multi_results])\n",
    "result.index = result['name']\n",
    "result = result.drop('name', axis=1)\n",
    "result"
   ]
  },
  {
   "cell_type": "code",
   "execution_count": null,
   "metadata": {
    "collapsed": true
   },
   "outputs": [],
   "source": []
  }
 ],
 "metadata": {
  "kernelspec": {
   "display_name": "Python 2",
   "language": "python",
   "name": "python2"
  },
  "language_info": {
   "codemirror_mode": {
    "name": "ipython",
    "version": 2
   },
   "file_extension": ".py",
   "mimetype": "text/x-python",
   "name": "python",
   "nbconvert_exporter": "python",
   "pygments_lexer": "ipython2",
   "version": "2.7.10"
  }
 },
 "nbformat": 4,
 "nbformat_minor": 0
}
