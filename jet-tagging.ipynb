{
 "cells": [
  {
   "cell_type": "code",
   "execution_count": 1,
   "metadata": {
    "collapsed": false
   },
   "outputs": [
    {
     "name": "stdout",
     "output_type": "stream",
     "text": [
      "Populating the interactive namespace from numpy and matplotlib\n"
     ]
    }
   ],
   "source": [
    "%pylab inline"
   ]
  },
  {
   "cell_type": "code",
   "execution_count": 2,
   "metadata": {
    "collapsed": true
   },
   "outputs": [],
   "source": [
    "class MyRFECV(object):\n",
    "    \n",
    "    def __init__(self, estimator, step, cv, features):\n",
    "        self.estimator = estimator\n",
    "        self.step = step\n",
    "        self.cv = cv\n",
    "        self.features = features\n",
    "        \n",
    "    def _score(self, labels, probs):\n",
    "        \n",
    "        names = ['b', 'c', 'sud', 'gluon']\n",
    "        roc_auc = utils.get_roc_auc_matrix(labels, probs, names, save_path=None, show=False)\n",
    "        return roc_auc.values.mean()\n",
    "        \n",
    "    def _fit_step(self, data, features):\n",
    "        sk = SklearnClassifier(self.estimator, features=None)\n",
    "        folding = FoldingClassifier(sk, n_folds=self.cv, random_state=11, features=features)\n",
    "        folding.fit_lds(data)\n",
    "        importances = folding.feature_importances_\n",
    "        indices = numpy.argsort(importances)[::-1]\n",
    "        \n",
    "        labels = data.target\n",
    "        probs = folding.predict_proba(data.data)\n",
    "        score = self._score(labels, probs)\n",
    "        \n",
    "        return features[indices], score\n",
    "        \n",
    "    def fit(self, data):\n",
    "        features = self.features\n",
    "        feature_list = []\n",
    "        score_list = []\n",
    "        \n",
    "        while len(features) >= self.step:\n",
    "            features, score = self._fit_step(data, features)\n",
    "            feature_list.append(features)\n",
    "            score_list.append(score)\n",
    "            \n",
    "            features = features[:-self.step]\n",
    "            \n",
    "        if len(features) > 0:\n",
    "            features, score = self._fit_step(data, features)\n",
    "            feature_list.append(features)\n",
    "            score_list.append(score)\n",
    "            \n",
    "        return numpy.array(feature_list), numpy.array(score_list)"
   ]
  },
  {
   "cell_type": "code",
   "execution_count": 3,
   "metadata": {
    "collapsed": false
   },
   "outputs": [],
   "source": [
    "%matplotlib inline\n",
    "import root_numpy\n",
    "import pandas\n",
    "import numpy\n",
    "import matplotlib.pyplot as plt\n",
    "from rep.data import LabeledDataStorage\n",
    "#from hep_ml.decisiontrain import DecisionTrainClassifier, DecisionTrainRegressor\n",
    "from hep_ml.losses import LogLossFunction, MSELossFunction\n",
    "from rep.metaml import FoldingClassifier, FoldingRegressor\n",
    "from rep.report import ClassificationReport\n",
    "from rep.report.metrics import RocAuc\n",
    "from sklearn.metrics import roc_auc_score\n",
    "from sklearn.ensemble import GradientBoostingClassifier, GradientBoostingRegressor\n",
    "from sklearn.ensemble import RandomForestClassifier, RandomForestRegressor, ExtraTreesClassifier\n",
    "from rep.estimators import XGBoostClassifier, SklearnClassifier\n",
    "import cPickle as pickle"
   ]
  },
  {
   "cell_type": "markdown",
   "metadata": {},
   "source": [
    "## Read data"
   ]
  },
  {
   "cell_type": "code",
   "execution_count": 4,
   "metadata": {
    "collapsed": false
   },
   "outputs": [],
   "source": [
    "treename = 'tag'\n",
    "\n",
    "data_b = pandas.DataFrame(root_numpy.root2array('/home/mikhail91/jet_tagging_LHCb/datasets/type=5.root', treename=treename)).dropna()\n",
    "data_b = data_b[::90]\n",
    "data_c = pandas.DataFrame(root_numpy.root2array('/home/mikhail91/jet_tagging_LHCb/datasets/type=4.root', treename=treename)).dropna()\n",
    "data_light = pandas.DataFrame(root_numpy.root2array('/home/mikhail91/jet_tagging_LHCb/datasets/type=0.root', treename=treename)).dropna()\n",
    "data_light = data_light[::2]"
   ]
  },
  {
   "cell_type": "code",
   "execution_count": 5,
   "metadata": {
    "collapsed": true
   },
   "outputs": [],
   "source": [
    "data = {'b': data_b, 'c': data_c, 'light': data_light}"
   ]
  },
  {
   "cell_type": "code",
   "execution_count": 6,
   "metadata": {
    "collapsed": true
   },
   "outputs": [],
   "source": [
    "full_data = pandas.concat([data_b, \n",
    "                           data_c, \n",
    "                           data_light[data_light.JetParton != 0], \n",
    "                           data_light[data_light.JetParton == 0]])\n",
    "\n",
    "full_data['label'] = [0] * len(data_b) + \\\n",
    "                     [1] * len(data_c) + \\\n",
    "                     [2] * len(data_light[data_light.JetParton != 0]) + \\\n",
    "                     [3] * len(data_light[data_light.JetParton == 0])"
   ]
  },
  {
   "cell_type": "code",
   "execution_count": 7,
   "metadata": {
    "collapsed": true
   },
   "outputs": [],
   "source": [
    "names = ['b', 'c', 'sud', 'gluon']"
   ]
  },
  {
   "cell_type": "code",
   "execution_count": 8,
   "metadata": {
    "collapsed": true
   },
   "outputs": [],
   "source": [
    "jet_features = [column for column in data_b.columns if \"Jet\" in column]\n",
    "sv_features = [column for column in data_b.columns if \"SV\" in column]"
   ]
  },
  {
   "cell_type": "markdown",
   "metadata": {},
   "source": [
    "# Multiclassification"
   ]
  },
  {
   "cell_type": "markdown",
   "metadata": {},
   "source": [
    "## Data preprocessing"
   ]
  },
  {
   "cell_type": "code",
   "execution_count": 9,
   "metadata": {
    "collapsed": true
   },
   "outputs": [],
   "source": [
    "train_data = full_data[sv_features].values\n",
    "labels = full_data['label'].values"
   ]
  },
  {
   "cell_type": "markdown",
   "metadata": {},
   "source": [
    "## Train"
   ]
  },
  {
   "cell_type": "code",
   "execution_count": 10,
   "metadata": {
    "collapsed": false
   },
   "outputs": [
    {
     "name": "stdout",
     "output_type": "stream",
     "text": [
      "CPU times: user 9min 56s, sys: 760 ms, total: 9min 56s\n",
      "Wall time: 1min 15s\n"
     ]
    },
    {
     "data": {
      "text/plain": [
       "FoldingClassifier(base_estimator=XGBoostClassifier(base_score=0.5, colsample=0.7, eta=0.01, features=None,\n",
       "         gamma=None, max_depth=8, min_child_weight=1.0, missing=-999.0,\n",
       "         n_estimators=1000, nthreads=8, num_feature=None, random_state=0,\n",
       "         scale_pos_weight=1.0, subsample=0.5, verbose=0),\n",
       "         features=['Feature_0', 'Feature_1', 'Feature_2', 'Feature_3', 'Feature_4', 'Feature_5', 'Feature_6', 'Feature_7', 'Feature_8'],\n",
       "         n_folds=2, parallel_profile=None, random_state=11)"
      ]
     },
     "execution_count": 10,
     "metadata": {},
     "output_type": "execute_result"
    }
   ],
   "source": [
    "from rep.estimators import XGBoostClassifier\n",
    "xgb_base = XGBoostClassifier(n_estimators=1000, colsample=0.7, eta=0.01, nthreads=8, \n",
    "                             subsample=0.5, max_depth=8)\n",
    "# xgb_base = RandomForestClassifier(n_estimators=100, max_depth=None, max_features='auto')\n",
    "multi_folding = FoldingClassifier(xgb_base, n_folds=2, random_state=11)\n",
    "%time multi_folding.fit(train_data, labels)"
   ]
  },
  {
   "cell_type": "code",
   "execution_count": 11,
   "metadata": {
    "collapsed": false
   },
   "outputs": [
    {
     "name": "stdout",
     "output_type": "stream",
     "text": [
      "KFold prediction using folds column\n"
     ]
    }
   ],
   "source": [
    "multi_probs = multi_folding.predict_proba(train_data)"
   ]
  },
  {
   "cell_type": "markdown",
   "metadata": {},
   "source": [
    "## Results"
   ]
  },
  {
   "cell_type": "code",
   "execution_count": 12,
   "metadata": {
    "collapsed": true
   },
   "outputs": [],
   "source": [
    "import os, sys\n",
    "sys.path.append('python')\n",
    "import utils"
   ]
  },
  {
   "cell_type": "code",
   "execution_count": 13,
   "metadata": {
    "collapsed": false
   },
   "outputs": [
    {
     "name": "stdout",
     "output_type": "stream",
     "text": [
      "Log loss is  0.59563031774\n"
     ]
    }
   ],
   "source": [
    "from sklearn.metrics import log_loss\n",
    "\n",
    "print 'Log loss is ', log_loss(labels, multi_probs)"
   ]
  },
  {
   "cell_type": "code",
   "execution_count": 14,
   "metadata": {
    "collapsed": true
   },
   "outputs": [],
   "source": [
    "def get_learning_curve(clf, data, labels):\n",
    "\n",
    "    n_estimators = clf.get_params()['base_estimator__n_estimators']\n",
    "    staged_probas = clf.staged_predict_proba(data)\n",
    "\n",
    "    from sklearn.metrics import log_loss\n",
    "    log_loss_all = []\n",
    "    for pred in staged_probas:\n",
    "        log_loss_all.append(log_loss(labels, pred))\n",
    "\n",
    "    x = numpy.arange(10, n_estimators + 10, 10)\n",
    "    plt.plot(x, log_loss_all)\n",
    "    plt.ylabel('Log loss')\n",
    "    plt.xlabel('Iteration')\n",
    "    plt.show()"
   ]
  },
  {
   "cell_type": "code",
   "execution_count": 15,
   "metadata": {
    "collapsed": false
   },
   "outputs": [
    {
     "name": "stdout",
     "output_type": "stream",
     "text": [
      "KFold prediction using folds column\n"
     ]
    },
    {
     "data": {
      "image/png": "[encoded data removed]",
      "text/plain": [
       "<matplotlib.figure.Figure at 0x7f738394ced0>"
      ]
     },
     "metadata": {},
     "output_type": "display_data"
    }
   ],
   "source": [
    "get_learning_curve(multi_folding, train_data, labels)"
   ]
  },
  {
   "cell_type": "code",
   "execution_count": 15,
   "metadata": {
    "collapsed": false
   },
   "outputs": [
    {
     "name": "stderr",
     "output_type": "stream",
     "text": [
      "/moosefs/miniconda/envs/ipython_py2/lib/python2.7/site-packages/matplotlib/collections.py:590: FutureWarning: elementwise comparison failed; returning scalar instead, but in the future will perform elementwise comparison\n",
      "  if self._edgecolors == str('face'):\n"
     ]
    },
    {
     "data": {
      "image/png": "[encoded data removed]",
      "text/plain": [
       "<matplotlib.figure.Figure at 0x7f656d98ff90>"
      ]
     },
     "metadata": {},
     "output_type": "display_data"
    },
    {
     "data": {
      "text/html": [
       "<div>\n",
       "<table border=\"1\" class=\"dataframe\">\n",
       "  <thead>\n",
       "    <tr style=\"text-align: right;\">\n",
       "      <th></th>\n",
       "      <th>b</th>\n",
       "      <th>c</th>\n",
       "      <th>sud</th>\n",
       "      <th>gluon</th>\n",
       "    </tr>\n",
       "  </thead>\n",
       "  <tbody>\n",
       "    <tr>\n",
       "      <th>b</th>\n",
       "      <td>1.000000</td>\n",
       "      <td>0.949465</td>\n",
       "      <td>0.983033</td>\n",
       "      <td>0.982559</td>\n",
       "    </tr>\n",
       "    <tr>\n",
       "      <th>c</th>\n",
       "      <td>0.949465</td>\n",
       "      <td>1.000000</td>\n",
       "      <td>0.970798</td>\n",
       "      <td>0.974356</td>\n",
       "    </tr>\n",
       "    <tr>\n",
       "      <th>sud</th>\n",
       "      <td>0.983033</td>\n",
       "      <td>0.970798</td>\n",
       "      <td>1.000000</td>\n",
       "      <td>0.659258</td>\n",
       "    </tr>\n",
       "    <tr>\n",
       "      <th>gluon</th>\n",
       "      <td>0.982559</td>\n",
       "      <td>0.974356</td>\n",
       "      <td>0.659258</td>\n",
       "      <td>1.000000</td>\n",
       "    </tr>\n",
       "  </tbody>\n",
       "</table>\n",
       "</div>"
      ],
      "text/plain": [
       "              b         c       sud     gluon\n",
       "b      1.000000  0.949465  0.983033  0.982559\n",
       "c      0.949465  1.000000  0.970798  0.974356\n",
       "sud    0.983033  0.970798  1.000000  0.659258\n",
       "gluon  0.982559  0.974356  0.659258  1.000000"
      ]
     },
     "execution_count": 15,
     "metadata": {},
     "output_type": "execute_result"
    }
   ],
   "source": [
    "roc_auc_baseline = utils.get_roc_auc_matrix(labels, multi_probs, names, save_path=None, show=True)\n",
    "roc_auc_baseline"
   ]
  },
  {
   "cell_type": "code",
   "execution_count": null,
   "metadata": {
    "collapsed": true
   },
   "outputs": [],
   "source": []
  },
  {
   "cell_type": "markdown",
   "metadata": {},
   "source": [
    "# Simple classifiers as features"
   ]
  },
  {
   "cell_type": "markdown",
   "metadata": {},
   "source": [
    "# KNearest"
   ]
  },
  {
   "cell_type": "code",
   "execution_count": 16,
   "metadata": {
    "collapsed": true
   },
   "outputs": [],
   "source": [
    "from sklearn.metrics import mean_absolute_error\n",
    "from sklearn.base import clone\n",
    "from rep.metaml import GridOptimalSearchCV, FoldingScorer, RandomParameterOptimizer\n",
    "from sklearn.metrics import log_loss\n",
    "\n",
    "class MyMeanRocAucScorer(object):\n",
    "    def __init__(self, X_test, y_test):\n",
    "        self.X_test = X_test\n",
    "        self.y_test = y_test\n",
    "        \n",
    "    def __call__(self, estimator, X, y):\n",
    "        cl = clone(estimator)\n",
    "        cl.fit(X, y)\n",
    "        logloss = -log_loss(self.y_test, cl.predict_proba(self.X_test))\n",
    "        return logloss"
   ]
  },
  {
   "cell_type": "code",
   "execution_count": 17,
   "metadata": {
    "collapsed": false
   },
   "outputs": [
    {
     "data": {
      "text/plain": [
       "MinMaxScaler(copy=True, feature_range=(0, 1))"
      ]
     },
     "execution_count": 17,
     "metadata": {},
     "output_type": "execute_result"
    }
   ],
   "source": [
    "from sklearn.preprocessing import MinMaxScaler\n",
    "\n",
    "mms = MinMaxScaler()\n",
    "mms.fit(train_data)"
   ]
  },
  {
   "cell_type": "code",
   "execution_count": 61,
   "metadata": {
    "collapsed": false
   },
   "outputs": [
    {
     "data": {
      "text/plain": [
       "GridSearchCV(cv=2, error_score='raise',\n",
       "       estimator=KNeighborsClassifier(algorithm='auto', leaf_size=30, metric='minkowski',\n",
       "           metric_params=None, n_jobs=8, n_neighbors=5, p=2,\n",
       "           weights='uniform'),\n",
       "       fit_params={}, iid=True, n_jobs=8,\n",
       "       param_grid={'n_neighbors': [1, 5, 10, 20, 50, 100, 200, 500, 1000], 'weights': ['uniform', 'distance'], 'leaf_size': [10, 30, 50, 100]},\n",
       "       pre_dispatch='2*n_jobs', refit=True,\n",
       "       scoring=<__main__.MyMeanRocAucScorer object at 0x7f7334a0ec90>,\n",
       "       verbose=0)"
      ]
     },
     "execution_count": 61,
     "metadata": {},
     "output_type": "execute_result"
    }
   ],
   "source": [
    "from sklearn.grid_search import GridSearchCV\n",
    "from rep.utils import train_test_split\n",
    "from sklearn.neighbors import KNeighborsClassifier\n",
    "\n",
    "train_train_data, test_data, train_labels, test_labels = train_test_split(train_data, labels, test_size=0.3)\n",
    "\n",
    "grid_param = {}\n",
    "grid_param['n_neighbors'] = [1, 5, 10, 20, 50, 100, 200, 500, 1000]\n",
    "grid_param['leaf_size'] = [10, 30, 50, 100]\n",
    "grid_param['weights'] = ['uniform', 'distance']\n",
    "\n",
    "knn = KNeighborsClassifier(n_neighbors=5, algorithm='auto', leaf_size=30, n_jobs=8)\n",
    "\n",
    "grid = GridSearchCV(estimator=knn, param_grid=grid_param, cv=2, \n",
    "                    scoring=MyMeanRocAucScorer(mms.transform(test_data), test_labels), n_jobs=8)\n",
    "grid.fit(mms.transform(train_train_data), train_labels)"
   ]
  },
  {
   "cell_type": "code",
   "execution_count": 63,
   "metadata": {
    "collapsed": false
   },
   "outputs": [
    {
     "data": {
      "text/plain": [
       "{'leaf_size': 10, 'n_neighbors': 200, 'weights': 'distance'}"
      ]
     },
     "execution_count": 63,
     "metadata": {},
     "output_type": "execute_result"
    }
   ],
   "source": [
    "grid.best_params_"
   ]
  },
  {
   "cell_type": "code",
   "execution_count": 64,
   "metadata": {
    "collapsed": false
   },
   "outputs": [
    {
     "data": {
      "text/plain": [
       "-0.85128545183067827"
      ]
     },
     "execution_count": 64,
     "metadata": {},
     "output_type": "execute_result"
    }
   ],
   "source": [
    "grid.best_score_"
   ]
  },
  {
   "cell_type": "code",
   "execution_count": 66,
   "metadata": {
    "collapsed": false
   },
   "outputs": [
    {
     "name": "stdout",
     "output_type": "stream",
     "text": [
      "CPU times: user 608 ms, sys: 12 ms, total: 620 ms\n",
      "Wall time: 620 ms\n"
     ]
    },
    {
     "data": {
      "text/plain": [
       "FoldingClassifier(base_estimator=SklearnClassifier(clf=KNeighborsClassifier(algorithm='auto', leaf_size=10, metric='minkowski',\n",
       "           metric_params=None, n_jobs=8, n_neighbors=200, p=2,\n",
       "           weights='uniform'),\n",
       "         features=None),\n",
       "         features=['Feature_0', 'Feature_1', 'Feature_2', 'Feature_3', 'Feature_4', 'Feature_5', 'Feature_6', 'Feature_7', 'Feature_8'],\n",
       "         n_folds=2, parallel_profile=None, random_state=11)"
      ]
     },
     "execution_count": 66,
     "metadata": {},
     "output_type": "execute_result"
    }
   ],
   "source": [
    "from sklearn.neighbors import KNeighborsClassifier\n",
    "\n",
    "knn = SklearnClassifier(KNeighborsClassifier(n_neighbors=200, algorithm='auto', leaf_size=10, n_jobs=8))\n",
    "\n",
    "knn_folding = FoldingClassifier(knn, n_folds=2, random_state=11)\n",
    "%time knn_folding.fit(mms.transform(train_data), labels)"
   ]
  },
  {
   "cell_type": "code",
   "execution_count": 67,
   "metadata": {
    "collapsed": false
   },
   "outputs": [
    {
     "name": "stdout",
     "output_type": "stream",
     "text": [
      "KFold prediction using folds column\n"
     ]
    }
   ],
   "source": [
    "knn_probs = knn_folding.predict_proba(mms.transform(train_data))"
   ]
  },
  {
   "cell_type": "markdown",
   "metadata": {},
   "source": [
    "## Train"
   ]
  },
  {
   "cell_type": "code",
   "execution_count": 73,
   "metadata": {
    "collapsed": false
   },
   "outputs": [
    {
     "name": "stdout",
     "output_type": "stream",
     "text": [
      "CPU times: user 10min 52s, sys: 732 ms, total: 10min 53s\n",
      "Wall time: 1min 22s\n"
     ]
    },
    {
     "data": {
      "text/plain": [
       "FoldingClassifier(base_estimator=XGBoostClassifier(base_score=0.5, colsample=0.7, eta=0.01, features=None,\n",
       "         gamma=None, max_depth=8, min_child_weight=1.0, missing=-999.0,\n",
       "         n_estimators=1000, nthreads=8, num_feature=None, random_state=0,\n",
       "         scale_pos_weight=1.0, subsample=0.5, verbose=0),\n",
       "         features=['Feature_0', 'Feature_1', 'Feature_2', 'Feature_3', 'Feature_4', 'Feature_5', 'Feature_6', 'Feature_7', 'Feature_8', 'Feature_9', 'Feature_10', 'Feature_11', 'Feature_12'],\n",
       "         n_folds=2, parallel_profile=None, random_state=11)"
      ]
     },
     "execution_count": 73,
     "metadata": {},
     "output_type": "execute_result"
    }
   ],
   "source": [
    "from rep.estimators import XGBoostClassifier\n",
    "xgb_base = XGBoostClassifier(n_estimators=1000, colsample=0.7, eta=0.01, nthreads=8, \n",
    "                             subsample=0.5, max_depth=8)\n",
    "# xgb_base = RandomForestClassifier(n_estimators=100, max_depth=None, max_features='auto')\n",
    "knn_multi_folding = FoldingClassifier(xgb_base, n_folds=2, random_state=11)\n",
    "%time knn_multi_folding.fit(numpy.concatenate((train_data, knn_probs), axis=1), labels)"
   ]
  },
  {
   "cell_type": "code",
   "execution_count": 76,
   "metadata": {
    "collapsed": false
   },
   "outputs": [
    {
     "name": "stdout",
     "output_type": "stream",
     "text": [
      "KFold prediction using folds column\n"
     ]
    }
   ],
   "source": [
    "knn_multi_probs = knn_multi_folding.predict_proba(numpy.concatenate((train_data, knn_probs), axis=1))"
   ]
  },
  {
   "cell_type": "code",
   "execution_count": 84,
   "metadata": {
    "collapsed": false
   },
   "outputs": [
    {
     "data": {
      "text/html": [
       "<div>\n",
       "<table border=\"1\" class=\"dataframe\">\n",
       "  <thead>\n",
       "    <tr style=\"text-align: right;\">\n",
       "      <th></th>\n",
       "      <th>effect</th>\n",
       "    </tr>\n",
       "  </thead>\n",
       "  <tbody>\n",
       "    <tr>\n",
       "      <th>Feature_0</th>\n",
       "      <td>0.922721</td>\n",
       "    </tr>\n",
       "    <tr>\n",
       "      <th>Feature_1</th>\n",
       "      <td>1.000000</td>\n",
       "    </tr>\n",
       "    <tr>\n",
       "      <th>Feature_2</th>\n",
       "      <td>0.873090</td>\n",
       "    </tr>\n",
       "    <tr>\n",
       "      <th>Feature_3</th>\n",
       "      <td>0.863507</td>\n",
       "    </tr>\n",
       "    <tr>\n",
       "      <th>Feature_4</th>\n",
       "      <td>0.772573</td>\n",
       "    </tr>\n",
       "    <tr>\n",
       "      <th>Feature_5</th>\n",
       "      <td>0.071587</td>\n",
       "    </tr>\n",
       "    <tr>\n",
       "      <th>Feature_6</th>\n",
       "      <td>0.096142</td>\n",
       "    </tr>\n",
       "    <tr>\n",
       "      <th>Feature_7</th>\n",
       "      <td>0.963200</td>\n",
       "    </tr>\n",
       "    <tr>\n",
       "      <th>Feature_8</th>\n",
       "      <td>0.919957</td>\n",
       "    </tr>\n",
       "    <tr>\n",
       "      <th>Feature_9</th>\n",
       "      <td>0.522788</td>\n",
       "    </tr>\n",
       "    <tr>\n",
       "      <th>Feature_10</th>\n",
       "      <td>0.519356</td>\n",
       "    </tr>\n",
       "    <tr>\n",
       "      <th>Feature_11</th>\n",
       "      <td>0.519805</td>\n",
       "    </tr>\n",
       "    <tr>\n",
       "      <th>Feature_12</th>\n",
       "      <td>0.465762</td>\n",
       "    </tr>\n",
       "  </tbody>\n",
       "</table>\n",
       "</div>"
      ],
      "text/plain": [
       "              effect\n",
       "Feature_0   0.922721\n",
       "Feature_1   1.000000\n",
       "Feature_2   0.873090\n",
       "Feature_3   0.863507\n",
       "Feature_4   0.772573\n",
       "Feature_5   0.071587\n",
       "Feature_6   0.096142\n",
       "Feature_7   0.963200\n",
       "Feature_8   0.919957\n",
       "Feature_9   0.522788\n",
       "Feature_10  0.519356\n",
       "Feature_11  0.519805\n",
       "Feature_12  0.465762"
      ]
     },
     "execution_count": 84,
     "metadata": {},
     "output_type": "execute_result"
    }
   ],
   "source": [
    "knn_multi_folding.get_feature_importances()"
   ]
  },
  {
   "cell_type": "markdown",
   "metadata": {},
   "source": [
    "## Results"
   ]
  },
  {
   "cell_type": "code",
   "execution_count": 77,
   "metadata": {
    "collapsed": false
   },
   "outputs": [
    {
     "name": "stdout",
     "output_type": "stream",
     "text": [
      "Log loss is  0.597662466192\n"
     ]
    }
   ],
   "source": [
    "from sklearn.metrics import log_loss\n",
    "\n",
    "print 'Log loss is ', log_loss(labels, knn_multi_probs)"
   ]
  },
  {
   "cell_type": "code",
   "execution_count": 82,
   "metadata": {
    "collapsed": false
   },
   "outputs": [
    {
     "name": "stdout",
     "output_type": "stream",
     "text": [
      "KFold prediction using folds column\n"
     ]
    },
    {
     "data": {
      "image/png": "[encoded data removed]",
      "text/plain": [
       "<matplotlib.figure.Figure at 0x7f73357e0490>"
      ]
     },
     "metadata": {},
     "output_type": "display_data"
    }
   ],
   "source": [
    "get_learning_curve(knn_multi_folding, numpy.concatenate((train_data, knn_probs), axis=1), labels)"
   ]
  },
  {
   "cell_type": "code",
   "execution_count": 80,
   "metadata": {
    "collapsed": false
   },
   "outputs": [
    {
     "data": {
      "image/png": "[encoded data removed]",
      "text/plain": [
       "<matplotlib.figure.Figure at 0x7f73357e0790>"
      ]
     },
     "metadata": {},
     "output_type": "display_data"
    },
    {
     "data": {
      "text/html": [
       "<div>\n",
       "<table border=\"1\" class=\"dataframe\">\n",
       "  <thead>\n",
       "    <tr style=\"text-align: right;\">\n",
       "      <th></th>\n",
       "      <th>b</th>\n",
       "      <th>c</th>\n",
       "      <th>sud</th>\n",
       "      <th>gluon</th>\n",
       "    </tr>\n",
       "  </thead>\n",
       "  <tbody>\n",
       "    <tr>\n",
       "      <th>b</th>\n",
       "      <td>1.000000</td>\n",
       "      <td>0.948805</td>\n",
       "      <td>0.982795</td>\n",
       "      <td>0.982404</td>\n",
       "    </tr>\n",
       "    <tr>\n",
       "      <th>c</th>\n",
       "      <td>0.948805</td>\n",
       "      <td>1.000000</td>\n",
       "      <td>0.970890</td>\n",
       "      <td>0.974407</td>\n",
       "    </tr>\n",
       "    <tr>\n",
       "      <th>sud</th>\n",
       "      <td>0.982795</td>\n",
       "      <td>0.970890</td>\n",
       "      <td>1.000000</td>\n",
       "      <td>0.657184</td>\n",
       "    </tr>\n",
       "    <tr>\n",
       "      <th>gluon</th>\n",
       "      <td>0.982404</td>\n",
       "      <td>0.974407</td>\n",
       "      <td>0.657184</td>\n",
       "      <td>1.000000</td>\n",
       "    </tr>\n",
       "  </tbody>\n",
       "</table>\n",
       "</div>"
      ],
      "text/plain": [
       "              b         c       sud     gluon\n",
       "b      1.000000  0.948805  0.982795  0.982404\n",
       "c      0.948805  1.000000  0.970890  0.974407\n",
       "sud    0.982795  0.970890  1.000000  0.657184\n",
       "gluon  0.982404  0.974407  0.657184  1.000000"
      ]
     },
     "execution_count": 80,
     "metadata": {},
     "output_type": "execute_result"
    }
   ],
   "source": [
    "knn_roc_aucs = utils.get_roc_auc_matrix(labels, knn_multi_probs, names, save_path=None, show=True)\n",
    "knn_roc_aucs"
   ]
  },
  {
   "cell_type": "code",
   "execution_count": 81,
   "metadata": {
    "collapsed": false
   },
   "outputs": [
    {
     "data": {
      "text/html": [
       "<div>\n",
       "<table border=\"1\" class=\"dataframe\">\n",
       "  <thead>\n",
       "    <tr style=\"text-align: right;\">\n",
       "      <th></th>\n",
       "      <th>b</th>\n",
       "      <th>c</th>\n",
       "      <th>sud</th>\n",
       "      <th>gluon</th>\n",
       "    </tr>\n",
       "  </thead>\n",
       "  <tbody>\n",
       "    <tr>\n",
       "      <th>b</th>\n",
       "      <td>0.000000</td>\n",
       "      <td>-0.000660</td>\n",
       "      <td>-0.000239</td>\n",
       "      <td>-0.000155</td>\n",
       "    </tr>\n",
       "    <tr>\n",
       "      <th>c</th>\n",
       "      <td>-0.000660</td>\n",
       "      <td>0.000000</td>\n",
       "      <td>0.000092</td>\n",
       "      <td>0.000051</td>\n",
       "    </tr>\n",
       "    <tr>\n",
       "      <th>sud</th>\n",
       "      <td>-0.000239</td>\n",
       "      <td>0.000092</td>\n",
       "      <td>0.000000</td>\n",
       "      <td>-0.002073</td>\n",
       "    </tr>\n",
       "    <tr>\n",
       "      <th>gluon</th>\n",
       "      <td>-0.000155</td>\n",
       "      <td>0.000051</td>\n",
       "      <td>-0.002073</td>\n",
       "      <td>0.000000</td>\n",
       "    </tr>\n",
       "  </tbody>\n",
       "</table>\n",
       "</div>"
      ],
      "text/plain": [
       "              b         c       sud     gluon\n",
       "b      0.000000 -0.000660 -0.000239 -0.000155\n",
       "c     -0.000660  0.000000  0.000092  0.000051\n",
       "sud   -0.000239  0.000092  0.000000 -0.002073\n",
       "gluon -0.000155  0.000051 -0.002073  0.000000"
      ]
     },
     "execution_count": 81,
     "metadata": {},
     "output_type": "execute_result"
    }
   ],
   "source": [
    "knn_roc_aucs - roc_auc_baseline"
   ]
  },
  {
   "cell_type": "markdown",
   "metadata": {},
   "source": [
    "# SVM"
   ]
  },
  {
   "cell_type": "code",
   "execution_count": 34,
   "metadata": {
    "collapsed": false,
    "scrolled": false
   },
   "outputs": [
    {
     "data": {
      "text/plain": [
       "GridSearchCV(cv=2, error_score='raise',\n",
       "       estimator=SVC(C=1.0, cache_size=200, class_weight='balanced', coef0=0.0,\n",
       "  decision_function_shape=None, degree=3, gamma='auto', kernel='rbf',\n",
       "  max_iter=100, probability=True, random_state=None, shrinking=True,\n",
       "  tol=0.001, verbose=False),\n",
       "       fit_params={}, iid=True, n_jobs=8,\n",
       "       param_grid={'kernel': ['rbf', 'poly', 'sigmoid'], 'C': [1, 0.1, 10, 100], 'coef0': [0.0, 1, 10], 'gamma': ['auto', 1, 10], 'degree': [3, 5, 7]},\n",
       "       pre_dispatch='2*n_jobs', refit=True,\n",
       "       scoring=<__main__.MyMeanRocAucScorer object at 0x7f650a244c50>,\n",
       "       verbose=0)"
      ]
     },
     "execution_count": 34,
     "metadata": {},
     "output_type": "execute_result"
    }
   ],
   "source": [
    "from sklearn.grid_search import GridSearchCV\n",
    "from rep.utils import train_test_split\n",
    "from sklearn.svm import SVC\n",
    "\n",
    "train_train_data, test_data, train_labels, test_labels = train_test_split(train_data, labels, test_size=0.3)\n",
    "\n",
    "grid_param = {}\n",
    "grid_param['C'] = [1, 0.1, 10, 100]\n",
    "grid_param['kernel'] = ['rbf', 'poly', 'sigmoid']\n",
    "grid_param['degree'] = [3, 5, 7]\n",
    "grid_param['gamma'] = ['auto', 1, 10]\n",
    "grid_param['coef0'] = [0.0, 1, 10]\n",
    "\n",
    "\n",
    "svc = SVC(max_iter=100, class_weight='balanced', probability=True)\n",
    "\n",
    "grid_svc = GridSearchCV(estimator=svc, param_grid=grid_param, cv=2, \n",
    "                    scoring=MyMeanRocAucScorer(mms.transform(test_data), test_labels), n_jobs=8)\n",
    "grid_svc.fit(mms.transform(train_train_data), train_labels)"
   ]
  },
  {
   "cell_type": "code",
   "execution_count": 36,
   "metadata": {
    "collapsed": false
   },
   "outputs": [
    {
     "data": {
      "text/plain": [
       "{'C': 100, 'coef0': 10, 'degree': 7, 'gamma': 1, 'kernel': 'sigmoid'}"
      ]
     },
     "execution_count": 36,
     "metadata": {},
     "output_type": "execute_result"
    }
   ],
   "source": [
    "grid_svc.best_params_"
   ]
  },
  {
   "cell_type": "code",
   "execution_count": 37,
   "metadata": {
    "collapsed": false
   },
   "outputs": [
    {
     "data": {
      "text/plain": [
       "-1.0992533410472638"
      ]
     },
     "execution_count": 37,
     "metadata": {},
     "output_type": "execute_result"
    }
   ],
   "source": [
    "grid_svc.best_score_"
   ]
  },
  {
   "cell_type": "code",
   "execution_count": 38,
   "metadata": {
    "collapsed": false
   },
   "outputs": [
    {
     "name": "stdout",
     "output_type": "stream",
     "text": [
      "CPU times: user 8.36 s, sys: 4 ms, total: 8.36 s\n",
      "Wall time: 8.36 s\n"
     ]
    },
    {
     "data": {
      "text/plain": [
       "FoldingClassifier(base_estimator=SVC(C=100, cache_size=200, class_weight='balanced', coef0=10,\n",
       "  decision_function_shape=None, degree=7, gamma=1, kernel='sigmoid',\n",
       "  max_iter=100, probability=True, random_state=None, shrinking=True,\n",
       "  tol=0.001, verbose=False),\n",
       "         features=['Feature_0', 'Feature_1', 'Feature_2', 'Feature_3', 'Feature_4', 'Feature_5', 'Feature_6', 'Feature_7', 'Feature_8'],\n",
       "         n_folds=2, parallel_profile=None, random_state=11)"
      ]
     },
     "execution_count": 38,
     "metadata": {},
     "output_type": "execute_result"
    }
   ],
   "source": [
    "from sklearn.neighbors import KNeighborsClassifier\n",
    "\n",
    "svc = SVC(max_iter=100, class_weight='balanced', probability=True, \n",
    "          C=100, coef0=10, degree=7, gamma=1, kernel='sigmoid')\n",
    "\n",
    "svc_folding = FoldingClassifier(svc, n_folds=2, random_state=11)\n",
    "%time svc_folding.fit(mms.transform(train_data), labels)"
   ]
  },
  {
   "cell_type": "code",
   "execution_count": 39,
   "metadata": {
    "collapsed": false
   },
   "outputs": [
    {
     "name": "stdout",
     "output_type": "stream",
     "text": [
      "KFold prediction using folds column\n"
     ]
    }
   ],
   "source": [
    "svc_probs = svc_folding.predict_proba(mms.transform(train_data))"
   ]
  },
  {
   "cell_type": "markdown",
   "metadata": {},
   "source": [
    "## Train"
   ]
  },
  {
   "cell_type": "code",
   "execution_count": 55,
   "metadata": {
    "collapsed": false
   },
   "outputs": [
    {
     "name": "stdout",
     "output_type": "stream",
     "text": [
      "CPU times: user 11min 40s, sys: 752 ms, total: 11min 41s\n",
      "Wall time: 1min 28s\n"
     ]
    },
    {
     "data": {
      "text/plain": [
       "FoldingClassifier(base_estimator=XGBoostClassifier(base_score=0.5, colsample=0.7, eta=0.01, features=None,\n",
       "         gamma=None, max_depth=8, min_child_weight=1.0, missing=-999.0,\n",
       "         n_estimators=1000, nthreads=8, num_feature=None, random_state=0,\n",
       "         scale_pos_weight=1.0, subsample=0.5, verbose=0),\n",
       "         features=['Feature_0', 'Feature_1', 'Feature_2', 'Feature_3', 'Feature_4', 'Feature_5', 'Feature_6', 'Feature_7', 'Feature_8', 'Feature_9', 'Feature_10', 'Feature_11', 'Feature_12'],\n",
       "         n_folds=2, parallel_profile=None, random_state=11)"
      ]
     },
     "execution_count": 55,
     "metadata": {},
     "output_type": "execute_result"
    }
   ],
   "source": [
    "from rep.estimators import XGBoostClassifier\n",
    "xgb_base = XGBoostClassifier(n_estimators=1000, colsample=0.7, eta=0.01, nthreads=8, \n",
    "                             subsample=0.5, max_depth=8)\n",
    "# xgb_base = RandomForestClassifier(n_estimators=100, max_depth=None, max_features='auto')\n",
    "svc_multi_folding = FoldingClassifier(xgb_base, n_folds=2, random_state=11)\n",
    "%time svc_multi_folding.fit(numpy.concatenate((train_data, svc_probs), axis=1), labels)"
   ]
  },
  {
   "cell_type": "code",
   "execution_count": 56,
   "metadata": {
    "collapsed": false
   },
   "outputs": [
    {
     "name": "stdout",
     "output_type": "stream",
     "text": [
      "KFold prediction using folds column\n"
     ]
    }
   ],
   "source": [
    "svc_multi_probs = svc_multi_folding.predict_proba(numpy.concatenate((train_data, svc_probs), axis=1))"
   ]
  },
  {
   "cell_type": "markdown",
   "metadata": {},
   "source": [
    "## Results"
   ]
  },
  {
   "cell_type": "code",
   "execution_count": 57,
   "metadata": {
    "collapsed": false
   },
   "outputs": [
    {
     "name": "stdout",
     "output_type": "stream",
     "text": [
      "Log loss is  0.613427107717\n"
     ]
    }
   ],
   "source": [
    "from sklearn.metrics import log_loss\n",
    "\n",
    "print 'Log loss is ', log_loss(labels, svc_multi_probs)"
   ]
  },
  {
   "cell_type": "code",
   "execution_count": 43,
   "metadata": {
    "collapsed": false
   },
   "outputs": [
    {
     "name": "stdout",
     "output_type": "stream",
     "text": [
      "KFold prediction using folds column\n"
     ]
    },
    {
     "data": {
      "image/png": "[encoded data removed]",
      "text/plain": [
       "<matplotlib.figure.Figure at 0x7f650a2a86d0>"
      ]
     },
     "metadata": {},
     "output_type": "display_data"
    }
   ],
   "source": [
    "get_learning_curve(svc_multi_folding, numpy.concatenate((train_data, svc_probs), axis=1), labels)"
   ]
  },
  {
   "cell_type": "code",
   "execution_count": 58,
   "metadata": {
    "collapsed": false
   },
   "outputs": [
    {
     "data": {
      "image/png": "[encoded data removed]",
      "text/plain": [
       "<matplotlib.figure.Figure at 0x7f65090fa0d0>"
      ]
     },
     "metadata": {},
     "output_type": "display_data"
    },
    {
     "data": {
      "text/html": [
       "<div>\n",
       "<table border=\"1\" class=\"dataframe\">\n",
       "  <thead>\n",
       "    <tr style=\"text-align: right;\">\n",
       "      <th></th>\n",
       "      <th>b</th>\n",
       "      <th>c</th>\n",
       "      <th>sud</th>\n",
       "      <th>gluon</th>\n",
       "    </tr>\n",
       "  </thead>\n",
       "  <tbody>\n",
       "    <tr>\n",
       "      <th>b</th>\n",
       "      <td>1.000000</td>\n",
       "      <td>0.946517</td>\n",
       "      <td>0.981899</td>\n",
       "      <td>0.980650</td>\n",
       "    </tr>\n",
       "    <tr>\n",
       "      <th>c</th>\n",
       "      <td>0.946517</td>\n",
       "      <td>1.000000</td>\n",
       "      <td>0.968361</td>\n",
       "      <td>0.971657</td>\n",
       "    </tr>\n",
       "    <tr>\n",
       "      <th>sud</th>\n",
       "      <td>0.981899</td>\n",
       "      <td>0.968361</td>\n",
       "      <td>1.000000</td>\n",
       "      <td>0.645601</td>\n",
       "    </tr>\n",
       "    <tr>\n",
       "      <th>gluon</th>\n",
       "      <td>0.980650</td>\n",
       "      <td>0.971657</td>\n",
       "      <td>0.645601</td>\n",
       "      <td>1.000000</td>\n",
       "    </tr>\n",
       "  </tbody>\n",
       "</table>\n",
       "</div>"
      ],
      "text/plain": [
       "              b         c       sud     gluon\n",
       "b      1.000000  0.946517  0.981899  0.980650\n",
       "c      0.946517  1.000000  0.968361  0.971657\n",
       "sud    0.981899  0.968361  1.000000  0.645601\n",
       "gluon  0.980650  0.971657  0.645601  1.000000"
      ]
     },
     "execution_count": 58,
     "metadata": {},
     "output_type": "execute_result"
    }
   ],
   "source": [
    "svc_roc_aucs = utils.get_roc_auc_matrix(labels, svc_multi_probs, names, save_path=None, show=True)\n",
    "svc_roc_aucs"
   ]
  },
  {
   "cell_type": "code",
   "execution_count": 59,
   "metadata": {
    "collapsed": false
   },
   "outputs": [
    {
     "data": {
      "text/html": [
       "<div>\n",
       "<table border=\"1\" class=\"dataframe\">\n",
       "  <thead>\n",
       "    <tr style=\"text-align: right;\">\n",
       "      <th></th>\n",
       "      <th>b</th>\n",
       "      <th>c</th>\n",
       "      <th>sud</th>\n",
       "      <th>gluon</th>\n",
       "    </tr>\n",
       "  </thead>\n",
       "  <tbody>\n",
       "    <tr>\n",
       "      <th>b</th>\n",
       "      <td>0.000000</td>\n",
       "      <td>-0.002948</td>\n",
       "      <td>-0.001135</td>\n",
       "      <td>-0.001909</td>\n",
       "    </tr>\n",
       "    <tr>\n",
       "      <th>c</th>\n",
       "      <td>-0.002948</td>\n",
       "      <td>0.000000</td>\n",
       "      <td>-0.002437</td>\n",
       "      <td>-0.002699</td>\n",
       "    </tr>\n",
       "    <tr>\n",
       "      <th>sud</th>\n",
       "      <td>-0.001135</td>\n",
       "      <td>-0.002437</td>\n",
       "      <td>0.000000</td>\n",
       "      <td>-0.013656</td>\n",
       "    </tr>\n",
       "    <tr>\n",
       "      <th>gluon</th>\n",
       "      <td>-0.001909</td>\n",
       "      <td>-0.002699</td>\n",
       "      <td>-0.013656</td>\n",
       "      <td>0.000000</td>\n",
       "    </tr>\n",
       "  </tbody>\n",
       "</table>\n",
       "</div>"
      ],
      "text/plain": [
       "              b         c       sud     gluon\n",
       "b      0.000000 -0.002948 -0.001135 -0.001909\n",
       "c     -0.002948  0.000000 -0.002437 -0.002699\n",
       "sud   -0.001135 -0.002437  0.000000 -0.013656\n",
       "gluon -0.001909 -0.002699 -0.013656  0.000000"
      ]
     },
     "execution_count": 59,
     "metadata": {},
     "output_type": "execute_result"
    }
   ],
   "source": [
    "svc_roc_aucs - roc_auc_baseline"
   ]
  },
  {
   "cell_type": "code",
   "execution_count": null,
   "metadata": {
    "collapsed": true
   },
   "outputs": [],
   "source": []
  },
  {
   "cell_type": "code",
   "execution_count": null,
   "metadata": {
    "collapsed": true
   },
   "outputs": [],
   "source": []
  }
 ],
 "metadata": {
  "kernelspec": {
   "display_name": "Python 2",
   "language": "python",
   "name": "python2"
  },
  "language_info": {
   "codemirror_mode": {
    "name": "ipython",
    "version": 2
   },
   "file_extension": ".py",
   "mimetype": "text/x-python",
   "name": "python",
   "nbconvert_exporter": "python",
   "pygments_lexer": "ipython2",
   "version": "2.7.10"
  }
 },
 "nbformat": 4,
 "nbformat_minor": 0
}
