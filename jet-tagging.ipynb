{
 "cells": [
  {
   "cell_type": "code",
   "execution_count": 1,
   "metadata": {
    "collapsed": false
   },
   "outputs": [
    {
     "name": "stdout",
     "output_type": "stream",
     "text": [
      "Populating the interactive namespace from numpy and matplotlib\n"
     ]
    }
   ],
   "source": [
    "%pylab inline"
   ]
  },
  {
   "cell_type": "code",
   "execution_count": 2,
   "metadata": {
    "collapsed": true
   },
   "outputs": [],
   "source": [
    "def generate_result(auc_b_c, auc_b_light, auc_c_light, label=\"\"):\n",
    "    result = {}\n",
    "    result['b vs c'] = [auc_b_c]\n",
    "    result['b vs light'] = [auc_b_light]\n",
    "    result['c vs light'] = [auc_c_light]\n",
    "    result['name'] = [label]\n",
    "    return pandas.DataFrame(result)"
   ]
  },
  {
   "cell_type": "code",
   "execution_count": 3,
   "metadata": {
    "collapsed": false
   },
   "outputs": [],
   "source": [
    "import root_numpy\n",
    "import pandas\n",
    "import numpy\n",
    "from rep.data import LabeledDataStorage\n",
    "#from hep_ml.decisiontrain import DecisionTrainClassifier, DecisionTrainRegressor\n",
    "from hep_ml.losses import LogLossFunction, MSELossFunction\n",
    "from rep.metaml import FoldingClassifier, FoldingRegressor\n",
    "from rep.report import ClassificationReport\n",
    "from rep.report.metrics import RocAuc\n",
    "from sklearn.metrics import roc_auc_score\n",
    "from sklearn.ensemble import GradientBoostingClassifier, GradientBoostingRegressor\n",
    "from sklearn.ensemble import RandomForestClassifier, RandomForestRegressor, ExtraTreesClassifier\n",
    "from rep.estimators import XGBoostClassifier, SklearnClassifier"
   ]
  },
  {
   "cell_type": "markdown",
   "metadata": {},
   "source": [
    "## Read data"
   ]
  },
  {
   "cell_type": "code",
   "execution_count": 4,
   "metadata": {
    "collapsed": true
   },
   "outputs": [],
   "source": [
    "treename = 'tag'\n",
    "\n",
    "data_b = pandas.DataFrame(root_numpy.root2array('datasets/type=5.root', treename=treename)).dropna()\n",
    "data_b = data_b[::90]\n",
    "data_c = pandas.DataFrame(root_numpy.root2array('datasets/type=4.root', treename=treename)).dropna()\n",
    "data_light = pandas.DataFrame(root_numpy.root2array('datasets/type=0.root', treename=treename)).dropna()\n",
    "data_light = data_light[::2]"
   ]
  },
  {
   "cell_type": "code",
   "execution_count": 5,
   "metadata": {
    "collapsed": true
   },
   "outputs": [],
   "source": [
    "data = {'b': data_b, 'c': data_c, 'light': data_light}"
   ]
  },
  {
   "cell_type": "code",
   "execution_count": 6,
   "metadata": {
    "collapsed": true
   },
   "outputs": [],
   "source": [
    "full_data = pandas.concat([data_b, data_c, data_light])\n",
    "full_data['label'] = [0] * len(data_b) + [1] * len(data_c) + [2] * len(data_light)"
   ]
  },
  {
   "cell_type": "code",
   "execution_count": 7,
   "metadata": {
    "collapsed": true
   },
   "outputs": [],
   "source": [
    "jet_features = [column for column in data_b.columns if \"Jet\" in column]\n",
    "sv_features = [column for column in data_b.columns if \"SV\" in column]"
   ]
  },
  {
   "cell_type": "markdown",
   "metadata": {},
   "source": [
    "# Multiclassification"
   ]
  },
  {
   "cell_type": "markdown",
   "metadata": {},
   "source": [
    "## Data preprocessing"
   ]
  },
  {
   "cell_type": "code",
   "execution_count": 8,
   "metadata": {
    "collapsed": true
   },
   "outputs": [],
   "source": [
    "train_data = full_data[sv_features].values\n",
    "labels = full_data['label'].values"
   ]
  },
  {
   "cell_type": "markdown",
   "metadata": {},
   "source": [
    "## Train"
   ]
  },
  {
   "cell_type": "code",
   "execution_count": 9,
   "metadata": {
    "collapsed": false
   },
   "outputs": [
    {
     "name": "stdout",
     "output_type": "stream",
     "text": [
      "CPU times: user 5min, sys: 37.7 s, total: 5min 38s\n",
      "Wall time: 2min 14s\n"
     ]
    },
    {
     "data": {
      "text/plain": [
       "FoldingClassifier(base_estimator=XGBoostClassifier(base_score=0.5, colsample=0.7, eta=0.01, features=None,\n",
       "         gamma=None, max_depth=8, min_child_weight=1.0, missing=-999.0,\n",
       "         n_estimators=1000, nthreads=8, num_feature=None, random_state=0,\n",
       "         scale_pos_weight=1.0, subsample=0.5, verbose=0),\n",
       "         features=['Feature_0', 'Feature_1', 'Feature_2', 'Feature_3', 'Feature_4', 'Feature_5', 'Feature_6', 'Feature_7', 'Feature_8'],\n",
       "         n_folds=2, parallel_profile=None, random_state=11)"
      ]
     },
     "execution_count": 9,
     "metadata": {},
     "output_type": "execute_result"
    }
   ],
   "source": [
    "from rep.estimators import XGBoostClassifier\n",
    "xgb_base = XGBoostClassifier(n_estimators=1000, colsample=0.7, eta=0.01, nthreads=8, \n",
    "                             subsample=0.5, max_depth=8)\n",
    "# xgb_base = RandomForestClassifier(n_estimators=100, max_depth=None, max_features='auto')\n",
    "multi_folding = FoldingClassifier(xgb_base, n_folds=2, random_state=11)\n",
    "%time multi_folding.fit(train_data, labels)"
   ]
  },
  {
   "cell_type": "code",
   "execution_count": 10,
   "metadata": {
    "collapsed": false
   },
   "outputs": [
    {
     "name": "stdout",
     "output_type": "stream",
     "text": [
      "KFold prediction using folds column\n"
     ]
    }
   ],
   "source": [
    "multi_probs = multi_folding.predict_proba(train_data)"
   ]
  },
  {
   "cell_type": "markdown",
   "metadata": {},
   "source": [
    "## Results"
   ]
  },
  {
   "cell_type": "code",
   "execution_count": 11,
   "metadata": {
    "collapsed": false
   },
   "outputs": [],
   "source": [
    "labels = numpy.array([0] * len(data_b) + [1] * len(data_c) + [2] * len(data_light))\n",
    "multiclass_result = generate_result(1 - roc_auc_score(labels > 0, multi_probs[:, 0] / multi_probs[:, 1], \n",
    "                                                      sample_weight=(labels != 2) * 1),\n",
    "                                    1 - roc_auc_score(labels > 1, multi_probs[:, 0] / multi_probs[:, 2],\n",
    "                                                      sample_weight=(labels != 1) * 1),\n",
    "                                    1 - roc_auc_score(labels > 1, multi_probs[:, 1] / multi_probs[:, 2],\n",
    "                                                      sample_weight=(labels != 0) * 1),\n",
    "                                    label='multiclass')"
   ]
  },
  {
   "cell_type": "code",
   "execution_count": 12,
   "metadata": {
    "collapsed": false
   },
   "outputs": [
    {
     "data": {
      "text/html": [
       "<div>\n",
       "<table border=\"1\" class=\"dataframe\">\n",
       "  <thead>\n",
       "    <tr style=\"text-align: right;\">\n",
       "      <th></th>\n",
       "      <th>b vs c</th>\n",
       "      <th>b vs light</th>\n",
       "      <th>c vs light</th>\n",
       "    </tr>\n",
       "    <tr>\n",
       "      <th>name</th>\n",
       "      <th></th>\n",
       "      <th></th>\n",
       "      <th></th>\n",
       "    </tr>\n",
       "  </thead>\n",
       "  <tbody>\n",
       "    <tr>\n",
       "      <th>multiclass</th>\n",
       "      <td>0.949619</td>\n",
       "      <td>0.984022</td>\n",
       "      <td>0.973779</td>\n",
       "    </tr>\n",
       "  </tbody>\n",
       "</table>\n",
       "</div>"
      ],
      "text/plain": [
       "              b vs c  b vs light  c vs light\n",
       "name                                        \n",
       "multiclass  0.949619    0.984022    0.973779"
      ]
     },
     "execution_count": 12,
     "metadata": {},
     "output_type": "execute_result"
    }
   ],
   "source": [
    "result = pandas.concat([multiclass_result])\n",
    "result.index = result['name']\n",
    "result = result.drop('name', axis=1)\n",
    "result"
   ]
  },
  {
   "cell_type": "markdown",
   "metadata": {},
   "source": [
    "# Multiclassification + PCA"
   ]
  },
  {
   "cell_type": "markdown",
   "metadata": {},
   "source": [
    "## Data preprocessing"
   ]
  },
  {
   "cell_type": "code",
   "execution_count": 13,
   "metadata": {
    "collapsed": false
   },
   "outputs": [],
   "source": [
    "from sklearn.decomposition import PCA\n",
    "\n",
    "pca = PCA(n_components=train_data.shape[1])\n",
    "pca_train_data = pca.fit_transform(train_data)"
   ]
  },
  {
   "cell_type": "markdown",
   "metadata": {},
   "source": [
    "## Train"
   ]
  },
  {
   "cell_type": "code",
   "execution_count": 14,
   "metadata": {
    "collapsed": false
   },
   "outputs": [
    {
     "name": "stdout",
     "output_type": "stream",
     "text": [
      "CPU times: user 5min 27s, sys: 37.9 s, total: 6min 5s\n",
      "Wall time: 2min 31s\n"
     ]
    },
    {
     "data": {
      "text/plain": [
       "FoldingClassifier(base_estimator=XGBoostClassifier(base_score=0.5, colsample=0.7, eta=0.01, features=None,\n",
       "         gamma=None, max_depth=8, min_child_weight=1.0, missing=-999.0,\n",
       "         n_estimators=1000, nthreads=8, num_feature=None, random_state=0,\n",
       "         scale_pos_weight=1.0, subsample=0.5, verbose=0),\n",
       "         features=['Feature_0', 'Feature_1', 'Feature_2', 'Feature_3', 'Feature_4', 'Feature_5', 'Feature_6', 'Feature_7', 'Feature_8'],\n",
       "         n_folds=2, parallel_profile=None, random_state=11)"
      ]
     },
     "execution_count": 14,
     "metadata": {},
     "output_type": "execute_result"
    }
   ],
   "source": [
    "from rep.estimators import XGBoostClassifier\n",
    "xgb_base = XGBoostClassifier(n_estimators=1000, colsample=0.7, eta=0.01, nthreads=8, \n",
    "                             subsample=0.5, max_depth=8)\n",
    "# xgb_base = RandomForestClassifier(n_estimators=100, max_depth=None, max_features='auto')\n",
    "pca_multi_folding = FoldingClassifier(xgb_base, n_folds=2, random_state=11)\n",
    "%time pca_multi_folding.fit(pca_train_data, labels)"
   ]
  },
  {
   "cell_type": "code",
   "execution_count": 15,
   "metadata": {
    "collapsed": false
   },
   "outputs": [
    {
     "name": "stdout",
     "output_type": "stream",
     "text": [
      "KFold prediction using folds column\n"
     ]
    }
   ],
   "source": [
    "pca_multi_probs = pca_multi_folding.predict_proba(pca_train_data)"
   ]
  },
  {
   "cell_type": "markdown",
   "metadata": {},
   "source": [
    "## Results"
   ]
  },
  {
   "cell_type": "code",
   "execution_count": 16,
   "metadata": {
    "collapsed": true
   },
   "outputs": [],
   "source": [
    "labels = numpy.array([0] * len(data_b) + [1] * len(data_c) + [2] * len(data_light))\n",
    "pca_multiclass_result = generate_result(1 - roc_auc_score(labels > 0, pca_multi_probs[:, 0] / pca_multi_probs[:, 1], \n",
    "                                                      sample_weight=(labels != 2) * 1),\n",
    "                                    1 - roc_auc_score(labels > 1, pca_multi_probs[:, 0] / pca_multi_probs[:, 2],\n",
    "                                                      sample_weight=(labels != 1) * 1),\n",
    "                                    1 - roc_auc_score(labels > 1, pca_multi_probs[:, 1] / pca_multi_probs[:, 2],\n",
    "                                                      sample_weight=(labels != 0) * 1),\n",
    "                                    label='pca_multiclass')"
   ]
  },
  {
   "cell_type": "code",
   "execution_count": 17,
   "metadata": {
    "collapsed": false
   },
   "outputs": [
    {
     "data": {
      "text/html": [
       "<div>\n",
       "<table border=\"1\" class=\"dataframe\">\n",
       "  <thead>\n",
       "    <tr style=\"text-align: right;\">\n",
       "      <th></th>\n",
       "      <th>b vs c</th>\n",
       "      <th>b vs light</th>\n",
       "      <th>c vs light</th>\n",
       "    </tr>\n",
       "    <tr>\n",
       "      <th>name</th>\n",
       "      <th></th>\n",
       "      <th></th>\n",
       "      <th></th>\n",
       "    </tr>\n",
       "  </thead>\n",
       "  <tbody>\n",
       "    <tr>\n",
       "      <th>multiclass</th>\n",
       "      <td>0.949619</td>\n",
       "      <td>0.984022</td>\n",
       "      <td>0.973779</td>\n",
       "    </tr>\n",
       "    <tr>\n",
       "      <th>pca_multiclass</th>\n",
       "      <td>0.945084</td>\n",
       "      <td>0.985338</td>\n",
       "      <td>0.977082</td>\n",
       "    </tr>\n",
       "  </tbody>\n",
       "</table>\n",
       "</div>"
      ],
      "text/plain": [
       "                  b vs c  b vs light  c vs light\n",
       "name                                            \n",
       "multiclass      0.949619    0.984022    0.973779\n",
       "pca_multiclass  0.945084    0.985338    0.977082"
      ]
     },
     "execution_count": 17,
     "metadata": {},
     "output_type": "execute_result"
    }
   ],
   "source": [
    "result = pandas.concat([multiclass_result, pca_multiclass_result])\n",
    "result.index = result['name']\n",
    "result = result.drop('name', axis=1)\n",
    "result"
   ]
  },
  {
   "cell_type": "markdown",
   "metadata": {},
   "source": [
    "# Multiclassification + Standardization + PCA"
   ]
  },
  {
   "cell_type": "markdown",
   "metadata": {},
   "source": [
    "## Data preprocessing"
   ]
  },
  {
   "cell_type": "code",
   "execution_count": 18,
   "metadata": {
    "collapsed": true
   },
   "outputs": [],
   "source": [
    "from sklearn.decomposition import PCA\n",
    "from sklearn.preprocessing import StandardScaler\n",
    "\n",
    "pca = PCA(n_components=train_data.shape[1])\n",
    "std_train_data = StandardScaler().fit_transform(train_data)\n",
    "std_pca_train_data = pca.fit_transform(std_train_data)"
   ]
  },
  {
   "cell_type": "markdown",
   "metadata": {},
   "source": [
    "## Train"
   ]
  },
  {
   "cell_type": "code",
   "execution_count": 19,
   "metadata": {
    "collapsed": false
   },
   "outputs": [
    {
     "name": "stdout",
     "output_type": "stream",
     "text": [
      "CPU times: user 5min 45s, sys: 38.3 s, total: 6min 23s\n",
      "Wall time: 2min 41s\n"
     ]
    },
    {
     "data": {
      "text/plain": [
       "FoldingClassifier(base_estimator=XGBoostClassifier(base_score=0.5, colsample=0.7, eta=0.01, features=None,\n",
       "         gamma=None, max_depth=8, min_child_weight=1.0, missing=-999.0,\n",
       "         n_estimators=1000, nthreads=8, num_feature=None, random_state=0,\n",
       "         scale_pos_weight=1.0, subsample=0.5, verbose=0),\n",
       "         features=['Feature_0', 'Feature_1', 'Feature_2', 'Feature_3', 'Feature_4', 'Feature_5', 'Feature_6', 'Feature_7', 'Feature_8'],\n",
       "         n_folds=2, parallel_profile=None, random_state=11)"
      ]
     },
     "execution_count": 19,
     "metadata": {},
     "output_type": "execute_result"
    }
   ],
   "source": [
    "from rep.estimators import XGBoostClassifier\n",
    "xgb_base = XGBoostClassifier(n_estimators=1000, colsample=0.7, eta=0.01, nthreads=8, \n",
    "                             subsample=0.5, max_depth=8)\n",
    "# xgb_base = RandomForestClassifier(n_estimators=100, max_depth=None, max_features='auto')\n",
    "std_pca_multi_folding = FoldingClassifier(xgb_base, n_folds=2, random_state=11)\n",
    "%time std_pca_multi_folding.fit(std_pca_train_data, labels)"
   ]
  },
  {
   "cell_type": "code",
   "execution_count": 20,
   "metadata": {
    "collapsed": false
   },
   "outputs": [
    {
     "name": "stdout",
     "output_type": "stream",
     "text": [
      "KFold prediction using folds column\n"
     ]
    }
   ],
   "source": [
    "std_pca_multi_probs = std_pca_multi_folding.predict_proba(std_pca_train_data)"
   ]
  },
  {
   "cell_type": "markdown",
   "metadata": {},
   "source": [
    "## Results"
   ]
  },
  {
   "cell_type": "code",
   "execution_count": 21,
   "metadata": {
    "collapsed": true
   },
   "outputs": [],
   "source": [
    "labels = numpy.array([0] * len(data_b) + [1] * len(data_c) + [2] * len(data_light))\n",
    "std_pca_multiclass_result = generate_result(1 - roc_auc_score(labels > 0, std_pca_multi_probs[:, 0] / std_pca_multi_probs[:, 1], \n",
    "                                                      sample_weight=(labels != 2) * 1),\n",
    "                                    1 - roc_auc_score(labels > 1, std_pca_multi_probs[:, 0] / std_pca_multi_probs[:, 2],\n",
    "                                                      sample_weight=(labels != 1) * 1),\n",
    "                                    1 - roc_auc_score(labels > 1, std_pca_multi_probs[:, 1] / std_pca_multi_probs[:, 2],\n",
    "                                                      sample_weight=(labels != 0) * 1),\n",
    "                                    label='std_pca_multiclass')"
   ]
  },
  {
   "cell_type": "code",
   "execution_count": 22,
   "metadata": {
    "collapsed": false
   },
   "outputs": [
    {
     "data": {
      "text/html": [
       "<div>\n",
       "<table border=\"1\" class=\"dataframe\">\n",
       "  <thead>\n",
       "    <tr style=\"text-align: right;\">\n",
       "      <th></th>\n",
       "      <th>b vs c</th>\n",
       "      <th>b vs light</th>\n",
       "      <th>c vs light</th>\n",
       "    </tr>\n",
       "    <tr>\n",
       "      <th>name</th>\n",
       "      <th></th>\n",
       "      <th></th>\n",
       "      <th></th>\n",
       "    </tr>\n",
       "  </thead>\n",
       "  <tbody>\n",
       "    <tr>\n",
       "      <th>multiclass</th>\n",
       "      <td>0.949619</td>\n",
       "      <td>0.984022</td>\n",
       "      <td>0.973779</td>\n",
       "    </tr>\n",
       "    <tr>\n",
       "      <th>pca_multiclass</th>\n",
       "      <td>0.945084</td>\n",
       "      <td>0.985338</td>\n",
       "      <td>0.977082</td>\n",
       "    </tr>\n",
       "    <tr>\n",
       "      <th>std_pca_multiclass</th>\n",
       "      <td>0.941354</td>\n",
       "      <td>0.970078</td>\n",
       "      <td>0.957195</td>\n",
       "    </tr>\n",
       "  </tbody>\n",
       "</table>\n",
       "</div>"
      ],
      "text/plain": [
       "                      b vs c  b vs light  c vs light\n",
       "name                                                \n",
       "multiclass          0.949619    0.984022    0.973779\n",
       "pca_multiclass      0.945084    0.985338    0.977082\n",
       "std_pca_multiclass  0.941354    0.970078    0.957195"
      ]
     },
     "execution_count": 22,
     "metadata": {},
     "output_type": "execute_result"
    }
   ],
   "source": [
    "result = pandas.concat([multiclass_result, pca_multiclass_result, std_pca_multiclass_result])\n",
    "result.index = result['name']\n",
    "result = result.drop('name', axis=1)\n",
    "result"
   ]
  },
  {
   "cell_type": "markdown",
   "metadata": {},
   "source": [
    "# Combination of multiclass and pca mupliclass"
   ]
  },
  {
   "cell_type": "code",
   "execution_count": 23,
   "metadata": {
    "collapsed": true
   },
   "outputs": [],
   "source": [
    "comb_multi_probs = 0.5 * (pca_multi_probs + multi_probs)"
   ]
  },
  {
   "cell_type": "code",
   "execution_count": 24,
   "metadata": {
    "collapsed": true
   },
   "outputs": [],
   "source": [
    "labels = numpy.array([0] * len(data_b) + [1] * len(data_c) + [2] * len(data_light))\n",
    "comb_multiclass_result = generate_result(1 - roc_auc_score(labels > 0, comb_multi_probs[:, 0] / comb_multi_probs[:, 1], \n",
    "                                                      sample_weight=(labels != 2) * 1),\n",
    "                                    1 - roc_auc_score(labels > 1, comb_multi_probs[:, 0] / comb_multi_probs[:, 2],\n",
    "                                                      sample_weight=(labels != 1) * 1),\n",
    "                                    1 - roc_auc_score(labels > 1, comb_multi_probs[:, 1] / comb_multi_probs[:, 2],\n",
    "                                                      sample_weight=(labels != 0) * 1),\n",
    "                                    label='comb_multiclass')"
   ]
  },
  {
   "cell_type": "code",
   "execution_count": 25,
   "metadata": {
    "collapsed": false
   },
   "outputs": [
    {
     "data": {
      "text/html": [
       "<div>\n",
       "<table border=\"1\" class=\"dataframe\">\n",
       "  <thead>\n",
       "    <tr style=\"text-align: right;\">\n",
       "      <th></th>\n",
       "      <th>b vs c</th>\n",
       "      <th>b vs light</th>\n",
       "      <th>c vs light</th>\n",
       "    </tr>\n",
       "    <tr>\n",
       "      <th>name</th>\n",
       "      <th></th>\n",
       "      <th></th>\n",
       "      <th></th>\n",
       "    </tr>\n",
       "  </thead>\n",
       "  <tbody>\n",
       "    <tr>\n",
       "      <th>multiclass</th>\n",
       "      <td>0.949619</td>\n",
       "      <td>0.984022</td>\n",
       "      <td>0.973779</td>\n",
       "    </tr>\n",
       "    <tr>\n",
       "      <th>pca_multiclass</th>\n",
       "      <td>0.945084</td>\n",
       "      <td>0.985338</td>\n",
       "      <td>0.977082</td>\n",
       "    </tr>\n",
       "    <tr>\n",
       "      <th>comb_multiclass</th>\n",
       "      <td>0.949374</td>\n",
       "      <td>0.985385</td>\n",
       "      <td>0.976605</td>\n",
       "    </tr>\n",
       "  </tbody>\n",
       "</table>\n",
       "</div>"
      ],
      "text/plain": [
       "                   b vs c  b vs light  c vs light\n",
       "name                                             \n",
       "multiclass       0.949619    0.984022    0.973779\n",
       "pca_multiclass   0.945084    0.985338    0.977082\n",
       "comb_multiclass  0.949374    0.985385    0.976605"
      ]
     },
     "execution_count": 25,
     "metadata": {},
     "output_type": "execute_result"
    }
   ],
   "source": [
    "result = pandas.concat([multiclass_result, pca_multiclass_result, comb_multiclass_result])\n",
    "result.index = result['name']\n",
    "result = result.drop('name', axis=1)\n",
    "result"
   ]
  },
  {
   "cell_type": "markdown",
   "metadata": {},
   "source": [
    "# Multiclass + features generation + pca dim reduction"
   ]
  },
  {
   "cell_type": "markdown",
   "metadata": {},
   "source": [
    "## Data preprocessing"
   ]
  },
  {
   "cell_type": "code",
   "execution_count": 26,
   "metadata": {
    "collapsed": true
   },
   "outputs": [],
   "source": [
    "full_data['log_SVFDChi2'] = numpy.log(full_data['SVFDChi2'].values)\n",
    "full_data['log_SVSumIPChi2'] = numpy.log(full_data['SVSumIPChi2'].values)\n",
    "full_data['P_Sin'] = 0.5*full_data['SVMC'].values - (full_data['SVM'].values)**2/(2.*full_data['SVMC'].values)\n",
    "full_data['Psv'] = full_data['SVPT'].values * full_data['P_Sin'].values\n",
    "full_data['Psv2'] = full_data['P_Sin'].values / full_data['SVPT'].values\n",
    "full_data['Mt'] = full_data['SVMC'].values - full_data['P_Sin'].values\n",
    "full_data['QtoN'] = 1. * full_data['SVQ'].values / full_data['SVN'].values\n",
    "    \n",
    "new_features = ['log_SVFDChi2', 'log_SVSumIPChi2', 'P_Sin', 'Psv', 'Psv2', 'Mt', 'QtoN']"
   ]
  },
  {
   "cell_type": "code",
   "execution_count": 27,
   "metadata": {
    "collapsed": true
   },
   "outputs": [],
   "source": [
    "features = []\n",
    "for ind1 in range(0, len(sv_features)):\n",
    "    f1 = sv_features[ind1]\n",
    "    for ind2 in range(ind1, len(sv_features)):\n",
    "        f2 = sv_features[ind2]\n",
    "        \n",
    "        full_data[f1+'_mult_'+f2] = full_data[f1].values * full_data[f2].values\n",
    "        full_data[f1+'_div_'+f2] = full_data[f1].values / (full_data[f2].values + 0.1)\n",
    "        full_data[f2+'_div_'+f1] = full_data[f2].values / (full_data[f1].values + 0.1)\n",
    "        features.append(f1+'_mult_'+f2)\n",
    "        features.append(f1+'_div_'+f2)\n",
    "        features.append(f2+'_div_'+f1)\n",
    "\n",
    "        full_data['2'+f1+'_plus_'+f2] = (full_data[f1].values**2) + (full_data[f2].values**2)\n",
    "        full_data['2'+f1+'_min_'+f2] = (full_data[f1].values**2) - (full_data[f2].values**2)\n",
    "        features.append('2'+f1+'_plus_'+f2)\n",
    "        features.append('2'+f1+'_min_'+f2)\n",
    "        \n",
    "new_features += features"
   ]
  },
  {
   "cell_type": "code",
   "execution_count": 28,
   "metadata": {
    "collapsed": true
   },
   "outputs": [],
   "source": [
    "new_train_data = full_data[sv_features + new_features].values"
   ]
  },
  {
   "cell_type": "code",
   "execution_count": 56,
   "metadata": {
    "collapsed": true
   },
   "outputs": [],
   "source": [
    "def get_result(proba, labels, name=\"result\"):\n",
    "    result = generate_result(1 - roc_auc_score(labels > 0, proba[:, 0] / proba[:, 1], \n",
    "                                                      sample_weight=(labels != 2) * 1),\n",
    "                                    1 - roc_auc_score(labels > 1, proba[:, 0] / proba[:, 2],\n",
    "                                                      sample_weight=(labels != 1) * 1),\n",
    "                                    1 - roc_auc_score(labels > 1, proba[:, 1] / proba[:, 2],\n",
    "                                                      sample_weight=(labels != 0) * 1),\n",
    "                                    label=name)\n",
    "    return result"
   ]
  },
  {
   "cell_type": "code",
   "execution_count": 43,
   "metadata": {
    "collapsed": false
   },
   "outputs": [
    {
     "name": "stdout",
     "output_type": "stream",
     "text": [
      "KFold prediction using folds column\n",
      "KFold prediction using folds column\n",
      "KFold prediction using folds column\n",
      "KFold prediction using folds column\n",
      "KFold prediction using folds column\n",
      "KFold prediction using folds column\n",
      "KFold prediction using folds column\n",
      "KFold prediction using folds column\n",
      "KFold prediction using folds column\n",
      "KFold prediction using folds column\n",
      "KFold prediction using folds column\n",
      "KFold prediction using folds column\n",
      "KFold prediction using folds column\n",
      "KFold prediction using folds column\n",
      "KFold prediction using folds column\n",
      "KFold prediction using folds column\n",
      "KFold prediction using folds column\n",
      "KFold prediction using folds column\n",
      "KFold prediction using folds column\n",
      "KFold prediction using folds column\n",
      "KFold prediction using folds column\n",
      "KFold prediction using folds column\n",
      "KFold prediction using folds column\n",
      "KFold prediction using folds column\n"
     ]
    }
   ],
   "source": [
    "mean_roc_aucs = []\n",
    "ns = []\n",
    "\n",
    "for i in range(10, new_train_data.shape[1], 10):\n",
    "\n",
    "    pca = PCA(n_components= i)\n",
    "    pca_new_train_data = pca.fit_transform(new_train_data)\n",
    "    \n",
    "    forest = ExtraTreesClassifier(n_estimators=100, random_state=0, n_jobs=2)\n",
    "    new_multi_folding = FoldingClassifier(forest, n_folds=2, random_state=11)\n",
    "    new_multi_folding.fit(pca_new_train_data, labels)\n",
    "    \n",
    "    pca_new_multi_probs = new_multi_folding.predict_proba(pca_new_train_data)\n",
    "    \n",
    "    metric = get_result(pca_new_multi_probs, labels, '').values[0, 0:3].mean()\n",
    "    \n",
    "    mean_roc_aucs.append(metric)\n",
    "    ns.append(i)\n"
   ]
  },
  {
   "cell_type": "code",
   "execution_count": 45,
   "metadata": {
    "collapsed": false
   },
   "outputs": [
    {
     "data": {
      "image/png": "[encoded data removed]",
      "text/plain": [
       "<matplotlib.figure.Figure at 0x17cf3ff50>"
      ]
     },
     "metadata": {},
     "output_type": "display_data"
    }
   ],
   "source": [
    "%matplotlib inline\n",
    "import matplotlib.pyplot as plt\n",
    "\n",
    "plt.plot(ns, mean_roc_aucs)\n",
    "plt.show()"
   ]
  },
  {
   "cell_type": "code",
   "execution_count": 50,
   "metadata": {
    "collapsed": false
   },
   "outputs": [
    {
     "name": "stdout",
     "output_type": "stream",
     "text": [
      "100\n"
     ]
    }
   ],
   "source": [
    "ns = numpy.array(ns)\n",
    "mean_roc_aucs = numpy.array(mean_roc_aucs)\n",
    "\n",
    "ndim = ns[mean_roc_aucs == mean_roc_aucs.max()][0]\n",
    "print ndim"
   ]
  },
  {
   "cell_type": "code",
   "execution_count": 51,
   "metadata": {
    "collapsed": false
   },
   "outputs": [],
   "source": [
    "pca = PCA(n_components= ndim)\n",
    "pca_new_train_data = pca.fit_transform(new_train_data)"
   ]
  },
  {
   "cell_type": "markdown",
   "metadata": {},
   "source": [
    "## Train"
   ]
  },
  {
   "cell_type": "code",
   "execution_count": 52,
   "metadata": {
    "collapsed": false
   },
   "outputs": [
    {
     "name": "stdout",
     "output_type": "stream",
     "text": [
      "CPU times: user 50min 6s, sys: 1min 21s, total: 51min 27s\n",
      "Wall time: 16min 11s\n"
     ]
    },
    {
     "data": {
      "text/plain": [
       "FoldingClassifier(base_estimator=XGBoostClassifier(base_score=0.5, colsample=0.7, eta=0.01, features=None,\n",
       "         gamma=None, max_depth=8, min_child_weight=1.0, missing=-999.0,\n",
       "         n_estimators=1000, nthreads=8, num_feature=None, random_state=0,\n",
       "         scale_pos_weight=1.0, subsample=0.5, verbose=0),\n",
       "         features=['Feature_0', 'Feature_1', 'Feature_2', 'Feature_3', 'Feature_4', 'Feature_5', 'Feature_6', 'Feature_7', 'Feature_8', 'Feature_9', 'Feature_10', 'Feature_11', 'Feature_12', 'Feature_13', 'Feature_14', 'Feature_15', 'Feature_16', 'Feature_17', 'Feature_18', 'Feature_19', 'Feature_20', 'Featu...', 'Feature_93', 'Feature_94', 'Feature_95', 'Feature_96', 'Feature_97', 'Feature_98', 'Feature_99'],\n",
       "         n_folds=2, parallel_profile=None, random_state=11)"
      ]
     },
     "execution_count": 52,
     "metadata": {},
     "output_type": "execute_result"
    }
   ],
   "source": [
    "from rep.estimators import XGBoostClassifier\n",
    "xgb_base = XGBoostClassifier(n_estimators=1000, colsample=0.7, eta=0.01, nthreads=8, \n",
    "                             subsample=0.5, max_depth=8)\n",
    "# xgb_base = RandomForestClassifier(n_estimators=100, max_depth=None, max_features='auto')\n",
    "pca_new_multi_folding = FoldingClassifier(xgb_base, n_folds=2, random_state=11)\n",
    "%time pca_new_multi_folding.fit(pca_new_train_data, labels)"
   ]
  },
  {
   "cell_type": "code",
   "execution_count": 53,
   "metadata": {
    "collapsed": false
   },
   "outputs": [
    {
     "name": "stdout",
     "output_type": "stream",
     "text": [
      "KFold prediction using folds column\n"
     ]
    }
   ],
   "source": [
    "pca_new_multi_probs = pca_new_multi_folding.predict_proba(pca_new_train_data)"
   ]
  },
  {
   "cell_type": "markdown",
   "metadata": {},
   "source": [
    "## Results"
   ]
  },
  {
   "cell_type": "code",
   "execution_count": 57,
   "metadata": {
    "collapsed": true
   },
   "outputs": [],
   "source": [
    "pca_new_multi_results = get_result(pca_new_multi_probs, labels, \"pca_new_multiclass\")"
   ]
  },
  {
   "cell_type": "code",
   "execution_count": 58,
   "metadata": {
    "collapsed": false
   },
   "outputs": [
    {
     "data": {
      "text/html": [
       "<div>\n",
       "<table border=\"1\" class=\"dataframe\">\n",
       "  <thead>\n",
       "    <tr style=\"text-align: right;\">\n",
       "      <th></th>\n",
       "      <th>b vs c</th>\n",
       "      <th>b vs light</th>\n",
       "      <th>c vs light</th>\n",
       "    </tr>\n",
       "    <tr>\n",
       "      <th>name</th>\n",
       "      <th></th>\n",
       "      <th></th>\n",
       "      <th></th>\n",
       "    </tr>\n",
       "  </thead>\n",
       "  <tbody>\n",
       "    <tr>\n",
       "      <th>multiclass</th>\n",
       "      <td>0.949619</td>\n",
       "      <td>0.984022</td>\n",
       "      <td>0.973779</td>\n",
       "    </tr>\n",
       "    <tr>\n",
       "      <th>pca_multiclass</th>\n",
       "      <td>0.945084</td>\n",
       "      <td>0.985338</td>\n",
       "      <td>0.977082</td>\n",
       "    </tr>\n",
       "    <tr>\n",
       "      <th>comb_multiclass</th>\n",
       "      <td>0.949374</td>\n",
       "      <td>0.985385</td>\n",
       "      <td>0.976605</td>\n",
       "    </tr>\n",
       "    <tr>\n",
       "      <th>pca_new_multiclass</th>\n",
       "      <td>0.948460</td>\n",
       "      <td>0.988040</td>\n",
       "      <td>0.980934</td>\n",
       "    </tr>\n",
       "  </tbody>\n",
       "</table>\n",
       "</div>"
      ],
      "text/plain": [
       "                      b vs c  b vs light  c vs light\n",
       "name                                                \n",
       "multiclass          0.949619    0.984022    0.973779\n",
       "pca_multiclass      0.945084    0.985338    0.977082\n",
       "comb_multiclass     0.949374    0.985385    0.976605\n",
       "pca_new_multiclass  0.948460    0.988040    0.980934"
      ]
     },
     "execution_count": 58,
     "metadata": {},
     "output_type": "execute_result"
    }
   ],
   "source": [
    "result = pandas.concat([multiclass_result, pca_multiclass_result, comb_multiclass_result, pca_new_multi_results])\n",
    "result.index = result['name']\n",
    "result = result.drop('name', axis=1)\n",
    "result"
   ]
  },
  {
   "cell_type": "markdown",
   "metadata": {},
   "source": [
    "# Multiclass + features generation + features selection"
   ]
  },
  {
   "cell_type": "markdown",
   "metadata": {},
   "source": [
    "## Data preprocessing"
   ]
  },
  {
   "cell_type": "code",
   "execution_count": 60,
   "metadata": {
    "collapsed": true
   },
   "outputs": [],
   "source": [
    "full_data_lds = LabeledDataStorage(full_data, labels)"
   ]
  },
  {
   "cell_type": "code",
   "execution_count": 61,
   "metadata": {
    "collapsed": false
   },
   "outputs": [
    {
     "name": "stdout",
     "output_type": "stream",
     "text": [
      "KFold prediction using folds column\n",
      "KFold prediction using folds column\n",
      "KFold prediction using folds column\n",
      "KFold prediction using folds column\n",
      "KFold prediction using folds column\n",
      "KFold prediction using folds column\n",
      "KFold prediction using folds column\n",
      "KFold prediction using folds column\n",
      "KFold prediction using folds column\n",
      "KFold prediction using folds column\n",
      "KFold prediction using folds column\n",
      "KFold prediction using folds column\n",
      "KFold prediction using folds column\n",
      "KFold prediction using folds column\n",
      "KFold prediction using folds column\n",
      "KFold prediction using folds column\n",
      "KFold prediction using folds column\n",
      "KFold prediction using folds column\n",
      "KFold prediction using folds column\n",
      "KFold prediction using folds column\n",
      "KFold prediction using folds column\n",
      "KFold prediction using folds column\n",
      "KFold prediction using folds column\n",
      "KFold prediction using folds column\n",
      "KFold prediction using folds column\n"
     ]
    }
   ],
   "source": [
    "forest = ExtraTreesClassifier(n_estimators=100, random_state=0, n_jobs=2)\n",
    "feature_list, score_list = \\\n",
    "MyRFECV(estimator=forest, step=10, cv=2, features=numpy.array(sv_features+new_features)).fit(full_data_lds)"
   ]
  },
  {
   "cell_type": "code",
   "execution_count": 69,
   "metadata": {
    "collapsed": false
   },
   "outputs": [
    {
     "data": {
      "image/png": "[encoded data removed]",
      "text/plain": [
       "<matplotlib.figure.Figure at 0x11790bb50>"
      ]
     },
     "metadata": {},
     "output_type": "display_data"
    }
   ],
   "source": [
    "length = numpy.array([len(fs) for fs in feature_list])\n",
    "plt.plot(length, score_list)\n",
    "plt.ylim(0.95, 0.97)\n",
    "plt.show()"
   ]
  },
  {
   "cell_type": "code",
   "execution_count": 70,
   "metadata": {
    "collapsed": false
   },
   "outputs": [
    {
     "data": {
      "text/plain": [
       "81"
      ]
     },
     "execution_count": 70,
     "metadata": {},
     "output_type": "execute_result"
    }
   ],
   "source": [
    "sel_features = feature_list[score_list == score_list.max()][0]\n",
    "len(sel_features)"
   ]
  },
  {
   "cell_type": "code",
   "execution_count": 71,
   "metadata": {
    "collapsed": true
   },
   "outputs": [],
   "source": [
    "sel_new_train_data = full_data[sel_features].values"
   ]
  },
  {
   "cell_type": "markdown",
   "metadata": {},
   "source": [
    "## Train"
   ]
  },
  {
   "cell_type": "code",
   "execution_count": 72,
   "metadata": {
    "collapsed": false
   },
   "outputs": [
    {
     "name": "stdout",
     "output_type": "stream",
     "text": [
      "CPU times: user 37min 33s, sys: 1min 10s, total: 38min 44s\n",
      "Wall time: 13min 8s\n"
     ]
    },
    {
     "data": {
      "text/plain": [
       "FoldingClassifier(base_estimator=XGBoostClassifier(base_score=0.5, colsample=0.7, eta=0.01, features=None,\n",
       "         gamma=None, max_depth=8, min_child_weight=1.0, missing=-999.0,\n",
       "         n_estimators=1000, nthreads=8, num_feature=None, random_state=0,\n",
       "         scale_pos_weight=1.0, subsample=0.5, verbose=0),\n",
       "         features=['Feature_0', 'Feature_1', 'Feature_2', 'Feature_3', 'Feature_4', 'Feature_5', 'Feature_6', 'Feature_7', 'Feature_8', 'Feature_9', 'Feature_10', 'Feature_11', 'Feature_12', 'Feature_13', 'Feature_14', 'Feature_15', 'Feature_16', 'Feature_17', 'Feature_18', 'Feature_19', 'Feature_20', 'Featu...', 'Feature_74', 'Feature_75', 'Feature_76', 'Feature_77', 'Feature_78', 'Feature_79', 'Feature_80'],\n",
       "         n_folds=2, parallel_profile=None, random_state=11)"
      ]
     },
     "execution_count": 72,
     "metadata": {},
     "output_type": "execute_result"
    }
   ],
   "source": [
    "from rep.estimators import XGBoostClassifier\n",
    "xgb_base = XGBoostClassifier(n_estimators=1000, colsample=0.7, eta=0.01, nthreads=8, \n",
    "                             subsample=0.5, max_depth=8)\n",
    "# xgb_base = RandomForestClassifier(n_estimators=100, max_depth=None, max_features='auto')\n",
    "sel_new_multi_folding = FoldingClassifier(xgb_base, n_folds=2, random_state=11)\n",
    "%time sel_new_multi_folding.fit(sel_new_train_data, labels)"
   ]
  },
  {
   "cell_type": "code",
   "execution_count": 73,
   "metadata": {
    "collapsed": false
   },
   "outputs": [
    {
     "name": "stdout",
     "output_type": "stream",
     "text": [
      "KFold prediction using folds column\n"
     ]
    }
   ],
   "source": [
    "sel_new_multi_probs = sel_new_multi_folding.predict_proba(sel_new_train_data)"
   ]
  },
  {
   "cell_type": "markdown",
   "metadata": {},
   "source": [
    "## Results"
   ]
  },
  {
   "cell_type": "code",
   "execution_count": 74,
   "metadata": {
    "collapsed": true
   },
   "outputs": [],
   "source": [
    "sel_new_multi_results = get_result(sel_new_multi_probs, labels, \"sel_new_multiclass\")"
   ]
  },
  {
   "cell_type": "code",
   "execution_count": 75,
   "metadata": {
    "collapsed": false
   },
   "outputs": [
    {
     "data": {
      "text/html": [
       "<div>\n",
       "<table border=\"1\" class=\"dataframe\">\n",
       "  <thead>\n",
       "    <tr style=\"text-align: right;\">\n",
       "      <th></th>\n",
       "      <th>b vs c</th>\n",
       "      <th>b vs light</th>\n",
       "      <th>c vs light</th>\n",
       "    </tr>\n",
       "    <tr>\n",
       "      <th>name</th>\n",
       "      <th></th>\n",
       "      <th></th>\n",
       "      <th></th>\n",
       "    </tr>\n",
       "  </thead>\n",
       "  <tbody>\n",
       "    <tr>\n",
       "      <th>multiclass</th>\n",
       "      <td>0.949619</td>\n",
       "      <td>0.984022</td>\n",
       "      <td>0.973779</td>\n",
       "    </tr>\n",
       "    <tr>\n",
       "      <th>pca_multiclass</th>\n",
       "      <td>0.945084</td>\n",
       "      <td>0.985338</td>\n",
       "      <td>0.977082</td>\n",
       "    </tr>\n",
       "    <tr>\n",
       "      <th>comb_multiclass</th>\n",
       "      <td>0.949374</td>\n",
       "      <td>0.985385</td>\n",
       "      <td>0.976605</td>\n",
       "    </tr>\n",
       "    <tr>\n",
       "      <th>pca_new_multiclass</th>\n",
       "      <td>0.948460</td>\n",
       "      <td>0.988040</td>\n",
       "      <td>0.980934</td>\n",
       "    </tr>\n",
       "    <tr>\n",
       "      <th>sel_new_multiclass</th>\n",
       "      <td>0.950740</td>\n",
       "      <td>0.988008</td>\n",
       "      <td>0.980507</td>\n",
       "    </tr>\n",
       "  </tbody>\n",
       "</table>\n",
       "</div>"
      ],
      "text/plain": [
       "                      b vs c  b vs light  c vs light\n",
       "name                                                \n",
       "multiclass          0.949619    0.984022    0.973779\n",
       "pca_multiclass      0.945084    0.985338    0.977082\n",
       "comb_multiclass     0.949374    0.985385    0.976605\n",
       "pca_new_multiclass  0.948460    0.988040    0.980934\n",
       "sel_new_multiclass  0.950740    0.988008    0.980507"
      ]
     },
     "execution_count": 75,
     "metadata": {},
     "output_type": "execute_result"
    }
   ],
   "source": [
    "result = pandas.concat([multiclass_result, \n",
    "                        pca_multiclass_result, \n",
    "                        comb_multiclass_result, \n",
    "                        pca_new_multi_results, \n",
    "                        sel_new_multi_results])\n",
    "result.index = result['name']\n",
    "result = result.drop('name', axis=1)\n",
    "result"
   ]
  },
  {
   "cell_type": "markdown",
   "metadata": {},
   "source": [
    "# Multiclass + features generation + features selection + PCA"
   ]
  },
  {
   "cell_type": "markdown",
   "metadata": {},
   "source": [
    "## Data preprocessing"
   ]
  },
  {
   "cell_type": "code",
   "execution_count": 78,
   "metadata": {
    "collapsed": true
   },
   "outputs": [],
   "source": [
    "from sklearn.decomposition import PCA\n",
    "\n",
    "pca = PCA(n_components=sel_new_train_data.shape[1])\n",
    "pca_sel_new_train_data = pca.fit_transform(sel_new_train_data)"
   ]
  },
  {
   "cell_type": "markdown",
   "metadata": {},
   "source": [
    "## Train"
   ]
  },
  {
   "cell_type": "code",
   "execution_count": 79,
   "metadata": {
    "collapsed": false
   },
   "outputs": [
    {
     "name": "stdout",
     "output_type": "stream",
     "text": [
      "CPU times: user 35min 2s, sys: 1min 14s, total: 36min 17s\n",
      "Wall time: 12min 39s\n"
     ]
    },
    {
     "data": {
      "text/plain": [
       "FoldingClassifier(base_estimator=XGBoostClassifier(base_score=0.5, colsample=0.7, eta=0.01, features=None,\n",
       "         gamma=None, max_depth=8, min_child_weight=1.0, missing=-999.0,\n",
       "         n_estimators=1000, nthreads=8, num_feature=None, random_state=0,\n",
       "         scale_pos_weight=1.0, subsample=0.5, verbose=0),\n",
       "         features=['Feature_0', 'Feature_1', 'Feature_2', 'Feature_3', 'Feature_4', 'Feature_5', 'Feature_6', 'Feature_7', 'Feature_8', 'Feature_9', 'Feature_10', 'Feature_11', 'Feature_12', 'Feature_13', 'Feature_14', 'Feature_15', 'Feature_16', 'Feature_17', 'Feature_18', 'Feature_19', 'Feature_20', 'Featu...', 'Feature_74', 'Feature_75', 'Feature_76', 'Feature_77', 'Feature_78', 'Feature_79', 'Feature_80'],\n",
       "         n_folds=2, parallel_profile=None, random_state=11)"
      ]
     },
     "execution_count": 79,
     "metadata": {},
     "output_type": "execute_result"
    }
   ],
   "source": [
    "from rep.estimators import XGBoostClassifier\n",
    "xgb_base = XGBoostClassifier(n_estimators=1000, colsample=0.7, eta=0.01, nthreads=8, \n",
    "                             subsample=0.5, max_depth=8)\n",
    "# xgb_base = RandomForestClassifier(n_estimators=100, max_depth=None, max_features='auto')\n",
    "pca_sel_new_multi_folding = FoldingClassifier(xgb_base, n_folds=2, random_state=11)\n",
    "%time pca_sel_new_multi_folding.fit(pca_sel_new_train_data, labels)"
   ]
  },
  {
   "cell_type": "code",
   "execution_count": 80,
   "metadata": {
    "collapsed": false
   },
   "outputs": [
    {
     "name": "stdout",
     "output_type": "stream",
     "text": [
      "KFold prediction using folds column\n"
     ]
    }
   ],
   "source": [
    "pca_sel_new_multi_probs = pca_sel_new_multi_folding.predict_proba(pca_sel_new_train_data)"
   ]
  },
  {
   "cell_type": "markdown",
   "metadata": {},
   "source": [
    "## Results"
   ]
  },
  {
   "cell_type": "code",
   "execution_count": 81,
   "metadata": {
    "collapsed": true
   },
   "outputs": [],
   "source": [
    "pca_sel_new_multi_results = get_result(pca_sel_new_multi_probs, labels, \"pca_sel_new_multiclass\")"
   ]
  },
  {
   "cell_type": "code",
   "execution_count": 82,
   "metadata": {
    "collapsed": false
   },
   "outputs": [
    {
     "data": {
      "text/html": [
       "<div>\n",
       "<table border=\"1\" class=\"dataframe\">\n",
       "  <thead>\n",
       "    <tr style=\"text-align: right;\">\n",
       "      <th></th>\n",
       "      <th>b vs c</th>\n",
       "      <th>b vs light</th>\n",
       "      <th>c vs light</th>\n",
       "    </tr>\n",
       "    <tr>\n",
       "      <th>name</th>\n",
       "      <th></th>\n",
       "      <th></th>\n",
       "      <th></th>\n",
       "    </tr>\n",
       "  </thead>\n",
       "  <tbody>\n",
       "    <tr>\n",
       "      <th>multiclass</th>\n",
       "      <td>0.949619</td>\n",
       "      <td>0.984022</td>\n",
       "      <td>0.973779</td>\n",
       "    </tr>\n",
       "    <tr>\n",
       "      <th>pca_multiclass</th>\n",
       "      <td>0.945084</td>\n",
       "      <td>0.985338</td>\n",
       "      <td>0.977082</td>\n",
       "    </tr>\n",
       "    <tr>\n",
       "      <th>comb_multiclass</th>\n",
       "      <td>0.949374</td>\n",
       "      <td>0.985385</td>\n",
       "      <td>0.976605</td>\n",
       "    </tr>\n",
       "    <tr>\n",
       "      <th>pca_new_multiclass</th>\n",
       "      <td>0.948460</td>\n",
       "      <td>0.988040</td>\n",
       "      <td>0.980934</td>\n",
       "    </tr>\n",
       "    <tr>\n",
       "      <th>sel_new_multiclass</th>\n",
       "      <td>0.950740</td>\n",
       "      <td>0.988008</td>\n",
       "      <td>0.980507</td>\n",
       "    </tr>\n",
       "    <tr>\n",
       "      <th>pca_sel_new_multiclass</th>\n",
       "      <td>0.949188</td>\n",
       "      <td>0.988429</td>\n",
       "      <td>0.980726</td>\n",
       "    </tr>\n",
       "  </tbody>\n",
       "</table>\n",
       "</div>"
      ],
      "text/plain": [
       "                          b vs c  b vs light  c vs light\n",
       "name                                                    \n",
       "multiclass              0.949619    0.984022    0.973779\n",
       "pca_multiclass          0.945084    0.985338    0.977082\n",
       "comb_multiclass         0.949374    0.985385    0.976605\n",
       "pca_new_multiclass      0.948460    0.988040    0.980934\n",
       "sel_new_multiclass      0.950740    0.988008    0.980507\n",
       "pca_sel_new_multiclass  0.949188    0.988429    0.980726"
      ]
     },
     "execution_count": 82,
     "metadata": {},
     "output_type": "execute_result"
    }
   ],
   "source": [
    "result = pandas.concat([multiclass_result, \n",
    "                        pca_multiclass_result, \n",
    "                        comb_multiclass_result, \n",
    "                        pca_new_multi_results, \n",
    "                        sel_new_multi_results,\n",
    "                        pca_sel_new_multi_results])\n",
    "result.index = result['name']\n",
    "result = result.drop('name', axis=1)\n",
    "result"
   ]
  },
  {
   "cell_type": "markdown",
   "metadata": {},
   "source": [
    "# Cambination"
   ]
  },
  {
   "cell_type": "markdown",
   "metadata": {},
   "source": [
    "## Results"
   ]
  },
  {
   "cell_type": "code",
   "execution_count": 86,
   "metadata": {
    "collapsed": false
   },
   "outputs": [],
   "source": [
    "comb2_multi_results = 1./4. * (pca_sel_new_multi_probs + \n",
    "                               sel_new_multi_probs + \n",
    "                               pca_multi_probs + \n",
    "                               pca_new_multi_probs)"
   ]
  },
  {
   "cell_type": "code",
   "execution_count": 87,
   "metadata": {
    "collapsed": true
   },
   "outputs": [],
   "source": [
    "comb2_multi_results = get_result(comb2_multi_results, labels, \"comb2_multiclass\")"
   ]
  },
  {
   "cell_type": "code",
   "execution_count": 88,
   "metadata": {
    "collapsed": false
   },
   "outputs": [
    {
     "data": {
      "text/html": [
       "<div>\n",
       "<table border=\"1\" class=\"dataframe\">\n",
       "  <thead>\n",
       "    <tr style=\"text-align: right;\">\n",
       "      <th></th>\n",
       "      <th>b vs c</th>\n",
       "      <th>b vs light</th>\n",
       "      <th>c vs light</th>\n",
       "    </tr>\n",
       "    <tr>\n",
       "      <th>name</th>\n",
       "      <th></th>\n",
       "      <th></th>\n",
       "      <th></th>\n",
       "    </tr>\n",
       "  </thead>\n",
       "  <tbody>\n",
       "    <tr>\n",
       "      <th>multiclass</th>\n",
       "      <td>0.949619</td>\n",
       "      <td>0.984022</td>\n",
       "      <td>0.973779</td>\n",
       "    </tr>\n",
       "    <tr>\n",
       "      <th>pca_multiclass</th>\n",
       "      <td>0.945084</td>\n",
       "      <td>0.985338</td>\n",
       "      <td>0.977082</td>\n",
       "    </tr>\n",
       "    <tr>\n",
       "      <th>comb_multiclass</th>\n",
       "      <td>0.949374</td>\n",
       "      <td>0.985385</td>\n",
       "      <td>0.976605</td>\n",
       "    </tr>\n",
       "    <tr>\n",
       "      <th>pca_new_multiclass</th>\n",
       "      <td>0.948460</td>\n",
       "      <td>0.988040</td>\n",
       "      <td>0.980934</td>\n",
       "    </tr>\n",
       "    <tr>\n",
       "      <th>sel_new_multiclass</th>\n",
       "      <td>0.950740</td>\n",
       "      <td>0.988008</td>\n",
       "      <td>0.980507</td>\n",
       "    </tr>\n",
       "    <tr>\n",
       "      <th>pca_sel_new_multiclass</th>\n",
       "      <td>0.949188</td>\n",
       "      <td>0.988429</td>\n",
       "      <td>0.980726</td>\n",
       "    </tr>\n",
       "    <tr>\n",
       "      <th>comb2_multiclass</th>\n",
       "      <td>0.950432</td>\n",
       "      <td>0.988212</td>\n",
       "      <td>0.980862</td>\n",
       "    </tr>\n",
       "  </tbody>\n",
       "</table>\n",
       "</div>"
      ],
      "text/plain": [
       "                          b vs c  b vs light  c vs light\n",
       "name                                                    \n",
       "multiclass              0.949619    0.984022    0.973779\n",
       "pca_multiclass          0.945084    0.985338    0.977082\n",
       "comb_multiclass         0.949374    0.985385    0.976605\n",
       "pca_new_multiclass      0.948460    0.988040    0.980934\n",
       "sel_new_multiclass      0.950740    0.988008    0.980507\n",
       "pca_sel_new_multiclass  0.949188    0.988429    0.980726\n",
       "comb2_multiclass        0.950432    0.988212    0.980862"
      ]
     },
     "execution_count": 88,
     "metadata": {},
     "output_type": "execute_result"
    }
   ],
   "source": [
    "result = pandas.concat([multiclass_result, \n",
    "                        pca_multiclass_result, \n",
    "                        comb_multiclass_result, \n",
    "                        pca_new_multi_results, \n",
    "                        sel_new_multi_results,\n",
    "                        pca_sel_new_multi_results,\n",
    "                        comb2_multi_results])\n",
    "result.index = result['name']\n",
    "result = result.drop('name', axis=1)\n",
    "result"
   ]
  },
  {
   "cell_type": "markdown",
   "metadata": {},
   "source": [
    "# One vs All + features generation + features selection"
   ]
  },
  {
   "cell_type": "markdown",
   "metadata": {},
   "source": [
    "## Data preprocessing"
   ]
  },
  {
   "cell_type": "code",
   "execution_count": 95,
   "metadata": {
    "collapsed": true
   },
   "outputs": [],
   "source": [
    "b_vs_all_labels = (labels == 0) * 1\n",
    "c_vs_all_labels = (labels == 1) * 1\n",
    "light_vs_all_labels = (labels == 2) * 1"
   ]
  },
  {
   "cell_type": "markdown",
   "metadata": {},
   "source": [
    "## Train"
   ]
  },
  {
   "cell_type": "markdown",
   "metadata": {},
   "source": [
    "### b vs all"
   ]
  },
  {
   "cell_type": "code",
   "execution_count": 96,
   "metadata": {
    "collapsed": false
   },
   "outputs": [
    {
     "name": "stdout",
     "output_type": "stream",
     "text": [
      "CPU times: user 25min 16s, sys: 47 s, total: 26min 3s\n",
      "Wall time: 8min 40s\n"
     ]
    },
    {
     "data": {
      "text/plain": [
       "FoldingClassifier(base_estimator=XGBoostClassifier(base_score=0.5, colsample=0.7, eta=0.01, features=None,\n",
       "         gamma=None, max_depth=8, min_child_weight=1.0, missing=-999.0,\n",
       "         n_estimators=1000, nthreads=8, num_feature=None, random_state=0,\n",
       "         scale_pos_weight=1.0, subsample=0.5, verbose=0),\n",
       "         features=['Feature_0', 'Feature_1', 'Feature_2', 'Feature_3', 'Feature_4', 'Feature_5', 'Feature_6', 'Feature_7', 'Feature_8', 'Feature_9', 'Feature_10', 'Feature_11', 'Feature_12', 'Feature_13', 'Feature_14', 'Feature_15', 'Feature_16', 'Feature_17', 'Feature_18', 'Feature_19', 'Feature_20', 'Featu...', 'Feature_74', 'Feature_75', 'Feature_76', 'Feature_77', 'Feature_78', 'Feature_79', 'Feature_80'],\n",
       "         n_folds=2, parallel_profile=None, random_state=11)"
      ]
     },
     "execution_count": 96,
     "metadata": {},
     "output_type": "execute_result"
    }
   ],
   "source": [
    "from rep.estimators import XGBoostClassifier\n",
    "xgb_base = XGBoostClassifier(n_estimators=1000, colsample=0.7, eta=0.01, nthreads=8, \n",
    "                             subsample=0.5, max_depth=8)\n",
    "# xgb_base = RandomForestClassifier(n_estimators=100, max_depth=None, max_features='auto')\n",
    "b_vs_all_folding = FoldingClassifier(xgb_base, n_folds=2, random_state=11)\n",
    "%time b_vs_all_folding.fit(sel_new_train_data, b_vs_all_labels)"
   ]
  },
  {
   "cell_type": "code",
   "execution_count": 98,
   "metadata": {
    "collapsed": false
   },
   "outputs": [
    {
     "name": "stdout",
     "output_type": "stream",
     "text": [
      "KFold prediction using folds column\n"
     ]
    }
   ],
   "source": [
    "b_vs_all_probas = b_vs_all_folding.predict_proba(sel_new_train_data)"
   ]
  },
  {
   "cell_type": "markdown",
   "metadata": {},
   "source": [
    "### c vs all"
   ]
  },
  {
   "cell_type": "code",
   "execution_count": 99,
   "metadata": {
    "collapsed": false
   },
   "outputs": [
    {
     "name": "stdout",
     "output_type": "stream",
     "text": [
      "CPU times: user 24min 40s, sys: 46.5 s, total: 25min 26s\n",
      "Wall time: 8min 27s\n"
     ]
    },
    {
     "data": {
      "text/plain": [
       "FoldingClassifier(base_estimator=XGBoostClassifier(base_score=0.5, colsample=0.7, eta=0.01, features=None,\n",
       "         gamma=None, max_depth=8, min_child_weight=1.0, missing=-999.0,\n",
       "         n_estimators=1000, nthreads=8, num_feature=None, random_state=0,\n",
       "         scale_pos_weight=1.0, subsample=0.5, verbose=0),\n",
       "         features=['Feature_0', 'Feature_1', 'Feature_2', 'Feature_3', 'Feature_4', 'Feature_5', 'Feature_6', 'Feature_7', 'Feature_8', 'Feature_9', 'Feature_10', 'Feature_11', 'Feature_12', 'Feature_13', 'Feature_14', 'Feature_15', 'Feature_16', 'Feature_17', 'Feature_18', 'Feature_19', 'Feature_20', 'Featu...', 'Feature_74', 'Feature_75', 'Feature_76', 'Feature_77', 'Feature_78', 'Feature_79', 'Feature_80'],\n",
       "         n_folds=2, parallel_profile=None, random_state=11)"
      ]
     },
     "execution_count": 99,
     "metadata": {},
     "output_type": "execute_result"
    }
   ],
   "source": [
    "from rep.estimators import XGBoostClassifier\n",
    "xgb_base = XGBoostClassifier(n_estimators=1000, colsample=0.7, eta=0.01, nthreads=8, \n",
    "                             subsample=0.5, max_depth=8)\n",
    "# xgb_base = RandomForestClassifier(n_estimators=100, max_depth=None, max_features='auto')\n",
    "c_vs_all_folding = FoldingClassifier(xgb_base, n_folds=2, random_state=11)\n",
    "%time c_vs_all_folding.fit(sel_new_train_data, c_vs_all_labels)"
   ]
  },
  {
   "cell_type": "code",
   "execution_count": 100,
   "metadata": {
    "collapsed": false
   },
   "outputs": [
    {
     "name": "stdout",
     "output_type": "stream",
     "text": [
      "KFold prediction using folds column\n"
     ]
    }
   ],
   "source": [
    "c_vs_all_probas = c_vs_all_folding.predict_proba(sel_new_train_data)"
   ]
  },
  {
   "cell_type": "markdown",
   "metadata": {},
   "source": [
    "### light vs all"
   ]
  },
  {
   "cell_type": "code",
   "execution_count": 101,
   "metadata": {
    "collapsed": false
   },
   "outputs": [
    {
     "name": "stdout",
     "output_type": "stream",
     "text": [
      "CPU times: user 24min 40s, sys: 46.2 s, total: 25min 26s\n",
      "Wall time: 8min 29s\n"
     ]
    },
    {
     "data": {
      "text/plain": [
       "FoldingClassifier(base_estimator=XGBoostClassifier(base_score=0.5, colsample=0.7, eta=0.01, features=None,\n",
       "         gamma=None, max_depth=8, min_child_weight=1.0, missing=-999.0,\n",
       "         n_estimators=1000, nthreads=8, num_feature=None, random_state=0,\n",
       "         scale_pos_weight=1.0, subsample=0.5, verbose=0),\n",
       "         features=['Feature_0', 'Feature_1', 'Feature_2', 'Feature_3', 'Feature_4', 'Feature_5', 'Feature_6', 'Feature_7', 'Feature_8', 'Feature_9', 'Feature_10', 'Feature_11', 'Feature_12', 'Feature_13', 'Feature_14', 'Feature_15', 'Feature_16', 'Feature_17', 'Feature_18', 'Feature_19', 'Feature_20', 'Featu...', 'Feature_74', 'Feature_75', 'Feature_76', 'Feature_77', 'Feature_78', 'Feature_79', 'Feature_80'],\n",
       "         n_folds=2, parallel_profile=None, random_state=11)"
      ]
     },
     "execution_count": 101,
     "metadata": {},
     "output_type": "execute_result"
    }
   ],
   "source": [
    "from rep.estimators import XGBoostClassifier\n",
    "xgb_base = XGBoostClassifier(n_estimators=1000, colsample=0.7, eta=0.01, nthreads=8, \n",
    "                             subsample=0.5, max_depth=8)\n",
    "# xgb_base = RandomForestClassifier(n_estimators=100, max_depth=None, max_features='auto')\n",
    "light_vs_all_folding = FoldingClassifier(xgb_base, n_folds=2, random_state=11)\n",
    "%time light_vs_all_folding.fit(sel_new_train_data, light_vs_all_labels)"
   ]
  },
  {
   "cell_type": "code",
   "execution_count": 102,
   "metadata": {
    "collapsed": false
   },
   "outputs": [
    {
     "name": "stdout",
     "output_type": "stream",
     "text": [
      "KFold prediction using folds column\n"
     ]
    }
   ],
   "source": [
    "light_vs_all_probas = light_vs_all_folding.predict_proba(sel_new_train_data)"
   ]
  },
  {
   "cell_type": "markdown",
   "metadata": {},
   "source": [
    "### probas"
   ]
  },
  {
   "cell_type": "code",
   "execution_count": 103,
   "metadata": {
    "collapsed": true
   },
   "outputs": [],
   "source": [
    "one_vs_all_probas = numpy.concatenate((b_vs_all_probas[:,[1]], c_vs_all_probas[:,[1]], light_vs_all_probas[:,[1]]), axis=1)\n",
    "one_vs_all_probas = one_vs_all_probas/one_vs_all_probas.sum(axis=1, keepdims=True)"
   ]
  },
  {
   "cell_type": "markdown",
   "metadata": {},
   "source": [
    "## Results"
   ]
  },
  {
   "cell_type": "code",
   "execution_count": 104,
   "metadata": {
    "collapsed": true
   },
   "outputs": [],
   "source": [
    "one_vs_all_results = get_result(one_vs_all_probas, labels, \"one_vs_all\")"
   ]
  },
  {
   "cell_type": "code",
   "execution_count": 105,
   "metadata": {
    "collapsed": false
   },
   "outputs": [
    {
     "data": {
      "text/html": [
       "<div>\n",
       "<table border=\"1\" class=\"dataframe\">\n",
       "  <thead>\n",
       "    <tr style=\"text-align: right;\">\n",
       "      <th></th>\n",
       "      <th>b vs c</th>\n",
       "      <th>b vs light</th>\n",
       "      <th>c vs light</th>\n",
       "    </tr>\n",
       "    <tr>\n",
       "      <th>name</th>\n",
       "      <th></th>\n",
       "      <th></th>\n",
       "      <th></th>\n",
       "    </tr>\n",
       "  </thead>\n",
       "  <tbody>\n",
       "    <tr>\n",
       "      <th>multiclass</th>\n",
       "      <td>0.949619</td>\n",
       "      <td>0.984022</td>\n",
       "      <td>0.973779</td>\n",
       "    </tr>\n",
       "    <tr>\n",
       "      <th>pca_multiclass</th>\n",
       "      <td>0.945084</td>\n",
       "      <td>0.985338</td>\n",
       "      <td>0.977082</td>\n",
       "    </tr>\n",
       "    <tr>\n",
       "      <th>comb_multiclass</th>\n",
       "      <td>0.949374</td>\n",
       "      <td>0.985385</td>\n",
       "      <td>0.976605</td>\n",
       "    </tr>\n",
       "    <tr>\n",
       "      <th>pca_new_multiclass</th>\n",
       "      <td>0.948460</td>\n",
       "      <td>0.988040</td>\n",
       "      <td>0.980934</td>\n",
       "    </tr>\n",
       "    <tr>\n",
       "      <th>sel_new_multiclass</th>\n",
       "      <td>0.950740</td>\n",
       "      <td>0.988008</td>\n",
       "      <td>0.980507</td>\n",
       "    </tr>\n",
       "    <tr>\n",
       "      <th>pca_sel_new_multiclass</th>\n",
       "      <td>0.949188</td>\n",
       "      <td>0.988429</td>\n",
       "      <td>0.980726</td>\n",
       "    </tr>\n",
       "    <tr>\n",
       "      <th>comb2_multiclass</th>\n",
       "      <td>0.950432</td>\n",
       "      <td>0.988212</td>\n",
       "      <td>0.980862</td>\n",
       "    </tr>\n",
       "    <tr>\n",
       "      <th>one_vs_all</th>\n",
       "      <td>0.950171</td>\n",
       "      <td>0.987677</td>\n",
       "      <td>0.980033</td>\n",
       "    </tr>\n",
       "  </tbody>\n",
       "</table>\n",
       "</div>"
      ],
      "text/plain": [
       "                          b vs c  b vs light  c vs light\n",
       "name                                                    \n",
       "multiclass              0.949619    0.984022    0.973779\n",
       "pca_multiclass          0.945084    0.985338    0.977082\n",
       "comb_multiclass         0.949374    0.985385    0.976605\n",
       "pca_new_multiclass      0.948460    0.988040    0.980934\n",
       "sel_new_multiclass      0.950740    0.988008    0.980507\n",
       "pca_sel_new_multiclass  0.949188    0.988429    0.980726\n",
       "comb2_multiclass        0.950432    0.988212    0.980862\n",
       "one_vs_all              0.950171    0.987677    0.980033"
      ]
     },
     "execution_count": 105,
     "metadata": {},
     "output_type": "execute_result"
    }
   ],
   "source": [
    "result = pandas.concat([multiclass_result, \n",
    "                        pca_multiclass_result, \n",
    "                        comb_multiclass_result, \n",
    "                        pca_new_multi_results, \n",
    "                        sel_new_multi_results,\n",
    "                        pca_sel_new_multi_results,\n",
    "                        comb2_multi_results,\n",
    "                        one_vs_all_results])\n",
    "result.index = result['name']\n",
    "result = result.drop('name', axis=1)\n",
    "result"
   ]
  },
  {
   "cell_type": "markdown",
   "metadata": {},
   "source": [
    "# Combination 3"
   ]
  },
  {
   "cell_type": "code",
   "execution_count": 110,
   "metadata": {
    "collapsed": true
   },
   "outputs": [],
   "source": [
    "comb3_multi_results = 1./5. * (pca_sel_new_multi_probs + \n",
    "                               sel_new_multi_probs + \n",
    "                               pca_multi_probs + \n",
    "                               pca_new_multi_probs +\n",
    "                               one_vs_all_probas)"
   ]
  },
  {
   "cell_type": "code",
   "execution_count": 111,
   "metadata": {
    "collapsed": true
   },
   "outputs": [],
   "source": [
    "comb3_multi_results = get_result(comb3_multi_results, labels, \"comb3_multiclass\")"
   ]
  },
  {
   "cell_type": "code",
   "execution_count": 112,
   "metadata": {
    "collapsed": false
   },
   "outputs": [
    {
     "data": {
      "text/html": [
       "<div>\n",
       "<table border=\"1\" class=\"dataframe\">\n",
       "  <thead>\n",
       "    <tr style=\"text-align: right;\">\n",
       "      <th></th>\n",
       "      <th>b vs c</th>\n",
       "      <th>b vs light</th>\n",
       "      <th>c vs light</th>\n",
       "    </tr>\n",
       "    <tr>\n",
       "      <th>name</th>\n",
       "      <th></th>\n",
       "      <th></th>\n",
       "      <th></th>\n",
       "    </tr>\n",
       "  </thead>\n",
       "  <tbody>\n",
       "    <tr>\n",
       "      <th>multiclass</th>\n",
       "      <td>0.949619</td>\n",
       "      <td>0.984022</td>\n",
       "      <td>0.973779</td>\n",
       "    </tr>\n",
       "    <tr>\n",
       "      <th>pca_multiclass</th>\n",
       "      <td>0.945084</td>\n",
       "      <td>0.985338</td>\n",
       "      <td>0.977082</td>\n",
       "    </tr>\n",
       "    <tr>\n",
       "      <th>comb_multiclass</th>\n",
       "      <td>0.949374</td>\n",
       "      <td>0.985385</td>\n",
       "      <td>0.976605</td>\n",
       "    </tr>\n",
       "    <tr>\n",
       "      <th>pca_new_multiclass</th>\n",
       "      <td>0.948460</td>\n",
       "      <td>0.988040</td>\n",
       "      <td>0.980934</td>\n",
       "    </tr>\n",
       "    <tr>\n",
       "      <th>sel_new_multiclass</th>\n",
       "      <td>0.950740</td>\n",
       "      <td>0.988008</td>\n",
       "      <td>0.980507</td>\n",
       "    </tr>\n",
       "    <tr>\n",
       "      <th>pca_sel_new_multiclass</th>\n",
       "      <td>0.949188</td>\n",
       "      <td>0.988429</td>\n",
       "      <td>0.980726</td>\n",
       "    </tr>\n",
       "    <tr>\n",
       "      <th>comb2_multiclass</th>\n",
       "      <td>0.950432</td>\n",
       "      <td>0.988212</td>\n",
       "      <td>0.980862</td>\n",
       "    </tr>\n",
       "    <tr>\n",
       "      <th>one_vs_all</th>\n",
       "      <td>0.950171</td>\n",
       "      <td>0.987677</td>\n",
       "      <td>0.980033</td>\n",
       "    </tr>\n",
       "    <tr>\n",
       "      <th>comb3_multiclass</th>\n",
       "      <td>0.950753</td>\n",
       "      <td>0.988230</td>\n",
       "      <td>0.980877</td>\n",
       "    </tr>\n",
       "  </tbody>\n",
       "</table>\n",
       "</div>"
      ],
      "text/plain": [
       "                          b vs c  b vs light  c vs light\n",
       "name                                                    \n",
       "multiclass              0.949619    0.984022    0.973779\n",
       "pca_multiclass          0.945084    0.985338    0.977082\n",
       "comb_multiclass         0.949374    0.985385    0.976605\n",
       "pca_new_multiclass      0.948460    0.988040    0.980934\n",
       "sel_new_multiclass      0.950740    0.988008    0.980507\n",
       "pca_sel_new_multiclass  0.949188    0.988429    0.980726\n",
       "comb2_multiclass        0.950432    0.988212    0.980862\n",
       "one_vs_all              0.950171    0.987677    0.980033\n",
       "comb3_multiclass        0.950753    0.988230    0.980877"
      ]
     },
     "execution_count": 112,
     "metadata": {},
     "output_type": "execute_result"
    }
   ],
   "source": [
    "result = pandas.concat([multiclass_result, \n",
    "                        pca_multiclass_result, \n",
    "                        comb_multiclass_result, \n",
    "                        pca_new_multi_results, \n",
    "                        sel_new_multi_results,\n",
    "                        pca_sel_new_multi_results,\n",
    "                        comb2_multi_results,\n",
    "                        one_vs_all_results,\n",
    "                        comb3_multi_results])\n",
    "result.index = result['name']\n",
    "result = result.drop('name', axis=1)\n",
    "result"
   ]
  },
  {
   "cell_type": "markdown",
   "metadata": {},
   "source": [
    "# Features selection"
   ]
  },
  {
   "cell_type": "code",
   "execution_count": 33,
   "metadata": {
    "collapsed": true
   },
   "outputs": [],
   "source": [
    "class MyRFECV(object):\n",
    "    \n",
    "    def __init__(self, estimator, step, cv, features):\n",
    "        self.estimator = estimator\n",
    "        self.step = step\n",
    "        self.cv = cv\n",
    "        self.features = features\n",
    "        \n",
    "    def _score(self, labels, probs):\n",
    "        roc_b_c = 1 - roc_auc_score(labels > 0, probs[:, 0] / probs[:, 1], sample_weight=(labels != 2) * 1)\n",
    "        roc_b_light = 1 - roc_auc_score(labels > 1, probs[:, 0] / probs[:, 2], sample_weight=(labels != 1) * 1)\n",
    "        roc_c_light = 1 - roc_auc_score(labels > 1, probs[:, 1] / probs[:, 2], sample_weight=(labels != 0) * 1)\n",
    "        return (roc_b_c + roc_b_light + roc_c_light) / 3.\n",
    "        \n",
    "    def _fit_step(self, data, features):\n",
    "        sk = SklearnClassifier(self.estimator, features=None)\n",
    "        folding = FoldingClassifier(sk, n_folds=self.cv, random_state=11, features=features)\n",
    "        folding.fit_lds(data)\n",
    "        importances = folding.feature_importances_\n",
    "        indices = numpy.argsort(importances)[::-1]\n",
    "        \n",
    "        labels = data.target\n",
    "        probs = folding.predict_proba(data.data)\n",
    "        score = self._score(labels, probs)\n",
    "        \n",
    "        return features[indices], score\n",
    "        \n",
    "    def fit(self, data):\n",
    "        features = self.features\n",
    "        feature_list = []\n",
    "        score_list = []\n",
    "        \n",
    "        while len(features) >= self.step:\n",
    "            features, score = self._fit_step(data, features)\n",
    "            feature_list.append(features)\n",
    "            score_list.append(score)\n",
    "            \n",
    "            features = features[:-self.step]\n",
    "            \n",
    "        if len(features) > 0:\n",
    "            features, score = self._fit_step(data, features)\n",
    "            feature_list.append(features)\n",
    "            score_list.append(score)\n",
    "            \n",
    "        return numpy.array(feature_list), numpy.array(score_list)"
   ]
  },
  {
   "cell_type": "code",
   "execution_count": null,
   "metadata": {
    "collapsed": true
   },
   "outputs": [],
   "source": []
  }
 ],
 "metadata": {
  "kernelspec": {
   "display_name": "Python 2",
   "language": "python",
   "name": "python2"
  },
  "language_info": {
   "codemirror_mode": {
    "name": "ipython",
    "version": 2
   },
   "file_extension": ".py",
   "mimetype": "text/x-python",
   "name": "python",
   "nbconvert_exporter": "python",
   "pygments_lexer": "ipython2",
   "version": "2.7.10"
  }
 },
 "nbformat": 4,
 "nbformat_minor": 0
}
