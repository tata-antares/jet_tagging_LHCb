{
 "cells": [
  {
   "cell_type": "code",
   "execution_count": 1,
   "metadata": {
    "collapsed": false
   },
   "outputs": [
    {
     "name": "stdout",
     "output_type": "stream",
     "text": [
      "Populating the interactive namespace from numpy and matplotlib\n"
     ]
    }
   ],
   "source": [
    "%pylab inline"
   ]
  },
  {
   "cell_type": "code",
   "execution_count": 114,
   "metadata": {
    "collapsed": true
   },
   "outputs": [],
   "source": [
    "class MyRFECV(object):\n",
    "    \n",
    "    def __init__(self, estimator, step, cv, features):\n",
    "        self.estimator = estimator\n",
    "        self.step = step\n",
    "        self.cv = cv\n",
    "        self.features = features\n",
    "        \n",
    "    def _score(self, labels, probs):\n",
    "        \n",
    "        names = ['b', 'c', 'sud', 'gluon']\n",
    "        roc_auc = utils.get_roc_auc_matrix(labels, probs, names, save_path=None, show=False)\n",
    "        return roc_auc.values.mean()\n",
    "        \n",
    "    def _fit_step(self, data, features):\n",
    "        sk = SklearnClassifier(self.estimator, features=None)\n",
    "        folding = FoldingClassifier(sk, n_folds=self.cv, random_state=11, features=features)\n",
    "        folding.fit_lds(data)\n",
    "        importances = folding.feature_importances_\n",
    "        indices = numpy.argsort(importances)[::-1]\n",
    "        \n",
    "        labels = data.target\n",
    "        probs = folding.predict_proba(data.data)\n",
    "        score = self._score(labels, probs)\n",
    "        \n",
    "        return features[indices], score\n",
    "        \n",
    "    def fit(self, data):\n",
    "        features = self.features\n",
    "        feature_list = []\n",
    "        score_list = []\n",
    "        \n",
    "        while len(features) >= self.step:\n",
    "            features, score = self._fit_step(data, features)\n",
    "            feature_list.append(features)\n",
    "            score_list.append(score)\n",
    "            \n",
    "            features = features[:-self.step]\n",
    "            \n",
    "        if len(features) > 0:\n",
    "            features, score = self._fit_step(data, features)\n",
    "            feature_list.append(features)\n",
    "            score_list.append(score)\n",
    "            \n",
    "        return numpy.array(feature_list), numpy.array(score_list)"
   ]
  },
  {
   "cell_type": "code",
   "execution_count": 5,
   "metadata": {
    "collapsed": false
   },
   "outputs": [],
   "source": [
    "%matplotlib inline\n",
    "import root_numpy\n",
    "import pandas\n",
    "import numpy\n",
    "import matplotlib.pyplot as plt\n",
    "from rep.data import LabeledDataStorage\n",
    "#from hep_ml.decisiontrain import DecisionTrainClassifier, DecisionTrainRegressor\n",
    "from hep_ml.losses import LogLossFunction, MSELossFunction\n",
    "from rep.metaml import FoldingClassifier, FoldingRegressor\n",
    "from rep.report import ClassificationReport\n",
    "from rep.report.metrics import RocAuc\n",
    "from sklearn.metrics import roc_auc_score\n",
    "from sklearn.ensemble import GradientBoostingClassifier, GradientBoostingRegressor\n",
    "from sklearn.ensemble import RandomForestClassifier, RandomForestRegressor, ExtraTreesClassifier\n",
    "from rep.estimators import XGBoostClassifier, SklearnClassifier\n",
    "import cPickle as pickle"
   ]
  },
  {
   "cell_type": "markdown",
   "metadata": {},
   "source": [
    "## Read data"
   ]
  },
  {
   "cell_type": "code",
   "execution_count": 6,
   "metadata": {
    "collapsed": false
   },
   "outputs": [],
   "source": [
    "treename = 'tag'\n",
    "\n",
    "data_b = pandas.DataFrame(root_numpy.root2array('/home/mikhail91/jet_tagging_LHCb/datasets/type=5.root', treename=treename)).dropna()\n",
    "data_b = data_b[::90]\n",
    "data_c = pandas.DataFrame(root_numpy.root2array('/home/mikhail91/jet_tagging_LHCb/datasets/type=4.root', treename=treename)).dropna()\n",
    "data_light = pandas.DataFrame(root_numpy.root2array('/home/mikhail91/jet_tagging_LHCb/datasets/type=0.root', treename=treename)).dropna()\n",
    "data_light = data_light[::2]"
   ]
  },
  {
   "cell_type": "code",
   "execution_count": 7,
   "metadata": {
    "collapsed": true
   },
   "outputs": [],
   "source": [
    "data = {'b': data_b, 'c': data_c, 'light': data_light}"
   ]
  },
  {
   "cell_type": "code",
   "execution_count": 8,
   "metadata": {
    "collapsed": true
   },
   "outputs": [],
   "source": [
    "full_data = pandas.concat([data_b, \n",
    "                           data_c, \n",
    "                           data_light[data_light.JetParton != 0], \n",
    "                           data_light[data_light.JetParton == 0]])\n",
    "\n",
    "full_data['label'] = [0] * len(data_b) + \\\n",
    "                     [1] * len(data_c) + \\\n",
    "                     [2] * len(data_light[data_light.JetParton != 0]) + \\\n",
    "                     [3] * len(data_light[data_light.JetParton == 0])"
   ]
  },
  {
   "cell_type": "code",
   "execution_count": 16,
   "metadata": {
    "collapsed": true
   },
   "outputs": [],
   "source": [
    "names = ['b', 'c', 'sud', 'gluon']"
   ]
  },
  {
   "cell_type": "code",
   "execution_count": 9,
   "metadata": {
    "collapsed": true
   },
   "outputs": [],
   "source": [
    "jet_features = [column for column in data_b.columns if \"Jet\" in column]\n",
    "sv_features = [column for column in data_b.columns if \"SV\" in column]"
   ]
  },
  {
   "cell_type": "code",
   "execution_count": 151,
   "metadata": {
    "collapsed": false
   },
   "outputs": [],
   "source": [
    "for i in ['JetParton', 'JetFlavor', 'JetPx', 'JetPy']:\n",
    "    jet_features.remove(i)"
   ]
  },
  {
   "cell_type": "code",
   "execution_count": 152,
   "metadata": {
    "collapsed": false
   },
   "outputs": [
    {
     "data": {
      "text/plain": [
       "['JetPz',\n",
       " 'JetE',\n",
       " 'JetQ',\n",
       " 'JetSigma1',\n",
       " 'JetSigma2',\n",
       " 'JetMult',\n",
       " 'JetPTHard',\n",
       " 'JetPTD',\n",
       " 'JetNDis']"
      ]
     },
     "execution_count": 152,
     "metadata": {},
     "output_type": "execute_result"
    }
   ],
   "source": [
    "jet_features"
   ]
  },
  {
   "cell_type": "markdown",
   "metadata": {},
   "source": [
    "# Multiclassification"
   ]
  },
  {
   "cell_type": "markdown",
   "metadata": {},
   "source": [
    "## Data preprocessing"
   ]
  },
  {
   "cell_type": "code",
   "execution_count": 182,
   "metadata": {
    "collapsed": true
   },
   "outputs": [],
   "source": [
    "train_data = full_data[sv_features + jet_features].values\n",
    "labels = full_data['label'].values"
   ]
  },
  {
   "cell_type": "markdown",
   "metadata": {},
   "source": [
    "## Train"
   ]
  },
  {
   "cell_type": "code",
   "execution_count": 183,
   "metadata": {
    "collapsed": false
   },
   "outputs": [
    {
     "name": "stdout",
     "output_type": "stream",
     "text": [
      "CPU times: user 13min 45s, sys: 664 ms, total: 13min 46s\n",
      "Wall time: 1min 43s\n"
     ]
    },
    {
     "data": {
      "text/plain": [
       "FoldingClassifier(base_estimator=XGBoostClassifier(base_score=0.5, colsample=0.7, eta=0.01, features=None,\n",
       "         gamma=None, max_depth=8, min_child_weight=1.0, missing=-999.0,\n",
       "         n_estimators=1000, nthreads=8, num_feature=None, random_state=0,\n",
       "         scale_pos_weight=1.0, subsample=0.5, verbose=0),\n",
       "         features=['Feature_0', 'Feature_1', 'Feature_2', 'Feature_3', 'Feature_4', 'Feature_5', 'Feature_6', 'Feature_7', 'Feature_8', 'Feature_9', 'Feature_10', 'Feature_11', 'Feature_12', 'Feature_13', 'Feature_14', 'Feature_15', 'Feature_16', 'Feature_17'],\n",
       "         n_folds=2, parallel_profile=None, random_state=11)"
      ]
     },
     "execution_count": 183,
     "metadata": {},
     "output_type": "execute_result"
    }
   ],
   "source": [
    "from rep.estimators import XGBoostClassifier\n",
    "xgb_base = XGBoostClassifier(n_estimators=1000, colsample=0.7, eta=0.01, nthreads=8, \n",
    "                             subsample=0.5, max_depth=8)\n",
    "# xgb_base = RandomForestClassifier(n_estimators=100, max_depth=None, max_features='auto')\n",
    "multi_folding = FoldingClassifier(xgb_base, n_folds=2, random_state=11)\n",
    "%time multi_folding.fit(train_data, labels)"
   ]
  },
  {
   "cell_type": "code",
   "execution_count": 184,
   "metadata": {
    "collapsed": false
   },
   "outputs": [
    {
     "name": "stdout",
     "output_type": "stream",
     "text": [
      "KFold prediction using folds column\n"
     ]
    }
   ],
   "source": [
    "multi_probs = multi_folding.predict_proba(train_data)"
   ]
  },
  {
   "cell_type": "markdown",
   "metadata": {},
   "source": [
    "## Results"
   ]
  },
  {
   "cell_type": "code",
   "execution_count": 185,
   "metadata": {
    "collapsed": true
   },
   "outputs": [],
   "source": [
    "import os, sys\n",
    "sys.path.append('python')\n",
    "import utils"
   ]
  },
  {
   "cell_type": "code",
   "execution_count": 186,
   "metadata": {
    "collapsed": false
   },
   "outputs": [
    {
     "name": "stdout",
     "output_type": "stream",
     "text": [
      "Log loss is  0.464800648882\n"
     ]
    }
   ],
   "source": [
    "from sklearn.metrics import log_loss\n",
    "\n",
    "print 'Log loss is ', log_loss(labels, multi_probs)"
   ]
  },
  {
   "cell_type": "code",
   "execution_count": 187,
   "metadata": {
    "collapsed": true
   },
   "outputs": [],
   "source": [
    "def get_learning_curve(clf, data, labels):\n",
    "\n",
    "    n_estimators = clf.get_params()['base_estimator__n_estimators']\n",
    "    staged_probas = clf.staged_predict_proba(data)\n",
    "\n",
    "    from sklearn.metrics import log_loss\n",
    "    log_loss_all = []\n",
    "    for pred in staged_probas:\n",
    "        log_loss_all.append(log_loss(labels, pred))\n",
    "\n",
    "    x = numpy.arange(10, n_estimators + 10, 10)\n",
    "    plt.plot(x, log_loss_all)\n",
    "    plt.ylabel('Log loss')\n",
    "    plt.xlabel('Iteration')\n",
    "    plt.show()"
   ]
  },
  {
   "cell_type": "code",
   "execution_count": 188,
   "metadata": {
    "collapsed": false
   },
   "outputs": [
    {
     "name": "stdout",
     "output_type": "stream",
     "text": [
      "KFold prediction using folds column\n"
     ]
    },
    {
     "data": {
      "image/png": "[encoded data removed]",
      "text/plain": [
       "<matplotlib.figure.Figure at 0x7fc4e4da3090>"
      ]
     },
     "metadata": {},
     "output_type": "display_data"
    }
   ],
   "source": [
    "get_learning_curve(multi_folding, train_data, labels)"
   ]
  },
  {
   "cell_type": "code",
   "execution_count": 189,
   "metadata": {
    "collapsed": false
   },
   "outputs": [
    {
     "data": {
      "image/png": "[encoded data removed]",
      "text/plain": [
       "<matplotlib.figure.Figure at 0x7fc4e0225a90>"
      ]
     },
     "metadata": {},
     "output_type": "display_data"
    },
    {
     "data": {
      "text/html": [
       "<div>\n",
       "<table border=\"1\" class=\"dataframe\">\n",
       "  <thead>\n",
       "    <tr style=\"text-align: right;\">\n",
       "      <th></th>\n",
       "      <th>b</th>\n",
       "      <th>c</th>\n",
       "      <th>sud</th>\n",
       "      <th>gluon</th>\n",
       "    </tr>\n",
       "  </thead>\n",
       "  <tbody>\n",
       "    <tr>\n",
       "      <th>b</th>\n",
       "      <td>1.000000</td>\n",
       "      <td>0.962464</td>\n",
       "      <td>0.995072</td>\n",
       "      <td>0.994078</td>\n",
       "    </tr>\n",
       "    <tr>\n",
       "      <th>c</th>\n",
       "      <td>0.962464</td>\n",
       "      <td>1.000000</td>\n",
       "      <td>0.985676</td>\n",
       "      <td>0.989070</td>\n",
       "    </tr>\n",
       "    <tr>\n",
       "      <th>sud</th>\n",
       "      <td>0.995072</td>\n",
       "      <td>0.985676</td>\n",
       "      <td>1.000000</td>\n",
       "      <td>0.794308</td>\n",
       "    </tr>\n",
       "    <tr>\n",
       "      <th>gluon</th>\n",
       "      <td>0.994078</td>\n",
       "      <td>0.989070</td>\n",
       "      <td>0.794308</td>\n",
       "      <td>1.000000</td>\n",
       "    </tr>\n",
       "  </tbody>\n",
       "</table>\n",
       "</div>"
      ],
      "text/plain": [
       "              b         c       sud     gluon\n",
       "b      1.000000  0.962464  0.995072  0.994078\n",
       "c      0.962464  1.000000  0.985676  0.989070\n",
       "sud    0.995072  0.985676  1.000000  0.794308\n",
       "gluon  0.994078  0.989070  0.794308  1.000000"
      ]
     },
     "execution_count": 189,
     "metadata": {},
     "output_type": "execute_result"
    }
   ],
   "source": [
    "roc_auc_baseline = utils.get_roc_auc_matrix(labels, multi_probs, names, save_path=None, show=True)\n",
    "roc_auc_baseline"
   ]
  },
  {
   "cell_type": "markdown",
   "metadata": {},
   "source": [
    "# Multiclassification + PCA"
   ]
  },
  {
   "cell_type": "markdown",
   "metadata": {},
   "source": [
    "## Data preprocessing"
   ]
  },
  {
   "cell_type": "code",
   "execution_count": 190,
   "metadata": {
    "collapsed": false
   },
   "outputs": [],
   "source": [
    "from sklearn.decomposition import PCA\n",
    "\n",
    "pca = PCA(n_components=train_data.shape[1])\n",
    "pca_train_data = pca.fit_transform(train_data)"
   ]
  },
  {
   "cell_type": "markdown",
   "metadata": {},
   "source": [
    "## Train"
   ]
  },
  {
   "cell_type": "code",
   "execution_count": 191,
   "metadata": {
    "collapsed": false
   },
   "outputs": [
    {
     "name": "stdout",
     "output_type": "stream",
     "text": [
      "CPU times: user 14min 15s, sys: 1.11 s, total: 14min 17s\n",
      "Wall time: 1min 47s\n"
     ]
    },
    {
     "data": {
      "text/plain": [
       "FoldingClassifier(base_estimator=XGBoostClassifier(base_score=0.5, colsample=0.7, eta=0.01, features=None,\n",
       "         gamma=None, max_depth=8, min_child_weight=1.0, missing=-999.0,\n",
       "         n_estimators=1000, nthreads=8, num_feature=None, random_state=0,\n",
       "         scale_pos_weight=1.0, subsample=0.5, verbose=0),\n",
       "         features=['Feature_0', 'Feature_1', 'Feature_2', 'Feature_3', 'Feature_4', 'Feature_5', 'Feature_6', 'Feature_7', 'Feature_8', 'Feature_9', 'Feature_10', 'Feature_11', 'Feature_12', 'Feature_13', 'Feature_14', 'Feature_15', 'Feature_16', 'Feature_17'],\n",
       "         n_folds=2, parallel_profile=None, random_state=11)"
      ]
     },
     "execution_count": 191,
     "metadata": {},
     "output_type": "execute_result"
    }
   ],
   "source": [
    "from rep.estimators import XGBoostClassifier\n",
    "xgb_base = XGBoostClassifier(n_estimators=1000, colsample=0.7, eta=0.01, nthreads=8, \n",
    "                             subsample=0.5, max_depth=8)\n",
    "# xgb_base = RandomForestClassifier(n_estimators=100, max_depth=None, max_features='auto')\n",
    "pca_multi_folding = FoldingClassifier(xgb_base, n_folds=2, random_state=11)\n",
    "%time pca_multi_folding.fit(pca_train_data, labels)"
   ]
  },
  {
   "cell_type": "code",
   "execution_count": 192,
   "metadata": {
    "collapsed": false
   },
   "outputs": [
    {
     "name": "stdout",
     "output_type": "stream",
     "text": [
      "KFold prediction using folds column\n"
     ]
    }
   ],
   "source": [
    "pca_multi_probs = pca_multi_folding.predict_proba(pca_train_data)"
   ]
  },
  {
   "cell_type": "markdown",
   "metadata": {},
   "source": [
    "## Results"
   ]
  },
  {
   "cell_type": "code",
   "execution_count": 193,
   "metadata": {
    "collapsed": false
   },
   "outputs": [
    {
     "name": "stdout",
     "output_type": "stream",
     "text": [
      "Log loss is  0.485568839255\n"
     ]
    }
   ],
   "source": [
    "from sklearn.metrics import log_loss\n",
    "\n",
    "print 'Log loss is ', log_loss(labels, pca_multi_probs)"
   ]
  },
  {
   "cell_type": "code",
   "execution_count": 194,
   "metadata": {
    "collapsed": false
   },
   "outputs": [
    {
     "name": "stdout",
     "output_type": "stream",
     "text": [
      "KFold prediction using folds column\n"
     ]
    },
    {
     "data": {
      "image/png": "[encoded data removed]",
      "text/plain": [
       "<matplotlib.figure.Figure at 0x7fc4e0456a10>"
      ]
     },
     "metadata": {},
     "output_type": "display_data"
    }
   ],
   "source": [
    "get_learning_curve(pca_multi_folding, pca_train_data, labels)"
   ]
  },
  {
   "cell_type": "code",
   "execution_count": 195,
   "metadata": {
    "collapsed": false
   },
   "outputs": [
    {
     "data": {
      "image/png": "[encoded data removed]",
      "text/plain": [
       "<matplotlib.figure.Figure at 0x7fc4e0459590>"
      ]
     },
     "metadata": {},
     "output_type": "display_data"
    },
    {
     "data": {
      "text/html": [
       "<div>\n",
       "<table border=\"1\" class=\"dataframe\">\n",
       "  <thead>\n",
       "    <tr style=\"text-align: right;\">\n",
       "      <th></th>\n",
       "      <th>b</th>\n",
       "      <th>c</th>\n",
       "      <th>sud</th>\n",
       "      <th>gluon</th>\n",
       "    </tr>\n",
       "  </thead>\n",
       "  <tbody>\n",
       "    <tr>\n",
       "      <th>b</th>\n",
       "      <td>1.000000</td>\n",
       "      <td>0.955585</td>\n",
       "      <td>0.994787</td>\n",
       "      <td>0.993803</td>\n",
       "    </tr>\n",
       "    <tr>\n",
       "      <th>c</th>\n",
       "      <td>0.955585</td>\n",
       "      <td>1.000000</td>\n",
       "      <td>0.984485</td>\n",
       "      <td>0.988480</td>\n",
       "    </tr>\n",
       "    <tr>\n",
       "      <th>sud</th>\n",
       "      <td>0.994787</td>\n",
       "      <td>0.984485</td>\n",
       "      <td>1.000000</td>\n",
       "      <td>0.793427</td>\n",
       "    </tr>\n",
       "    <tr>\n",
       "      <th>gluon</th>\n",
       "      <td>0.993803</td>\n",
       "      <td>0.988480</td>\n",
       "      <td>0.793427</td>\n",
       "      <td>1.000000</td>\n",
       "    </tr>\n",
       "  </tbody>\n",
       "</table>\n",
       "</div>"
      ],
      "text/plain": [
       "              b         c       sud     gluon\n",
       "b      1.000000  0.955585  0.994787  0.993803\n",
       "c      0.955585  1.000000  0.984485  0.988480\n",
       "sud    0.994787  0.984485  1.000000  0.793427\n",
       "gluon  0.993803  0.988480  0.793427  1.000000"
      ]
     },
     "execution_count": 195,
     "metadata": {},
     "output_type": "execute_result"
    }
   ],
   "source": [
    "pca_roc_aucs = utils.get_roc_auc_matrix(labels, pca_multi_probs, names, save_path=None, show=True)\n",
    "pca_roc_aucs"
   ]
  },
  {
   "cell_type": "code",
   "execution_count": 196,
   "metadata": {
    "collapsed": false
   },
   "outputs": [
    {
     "data": {
      "text/html": [
       "<div>\n",
       "<table border=\"1\" class=\"dataframe\">\n",
       "  <thead>\n",
       "    <tr style=\"text-align: right;\">\n",
       "      <th></th>\n",
       "      <th>b</th>\n",
       "      <th>c</th>\n",
       "      <th>sud</th>\n",
       "      <th>gluon</th>\n",
       "    </tr>\n",
       "  </thead>\n",
       "  <tbody>\n",
       "    <tr>\n",
       "      <th>b</th>\n",
       "      <td>0.000000</td>\n",
       "      <td>-0.006879</td>\n",
       "      <td>-0.000285</td>\n",
       "      <td>-0.000275</td>\n",
       "    </tr>\n",
       "    <tr>\n",
       "      <th>c</th>\n",
       "      <td>-0.006879</td>\n",
       "      <td>0.000000</td>\n",
       "      <td>-0.001191</td>\n",
       "      <td>-0.000590</td>\n",
       "    </tr>\n",
       "    <tr>\n",
       "      <th>sud</th>\n",
       "      <td>-0.000285</td>\n",
       "      <td>-0.001191</td>\n",
       "      <td>0.000000</td>\n",
       "      <td>-0.000881</td>\n",
       "    </tr>\n",
       "    <tr>\n",
       "      <th>gluon</th>\n",
       "      <td>-0.000275</td>\n",
       "      <td>-0.000590</td>\n",
       "      <td>-0.000881</td>\n",
       "      <td>0.000000</td>\n",
       "    </tr>\n",
       "  </tbody>\n",
       "</table>\n",
       "</div>"
      ],
      "text/plain": [
       "              b         c       sud     gluon\n",
       "b      0.000000 -0.006879 -0.000285 -0.000275\n",
       "c     -0.006879  0.000000 -0.001191 -0.000590\n",
       "sud   -0.000285 -0.001191  0.000000 -0.000881\n",
       "gluon -0.000275 -0.000590 -0.000881  0.000000"
      ]
     },
     "execution_count": 196,
     "metadata": {},
     "output_type": "execute_result"
    }
   ],
   "source": [
    "pca_roc_aucs - roc_auc_baseline"
   ]
  },
  {
   "cell_type": "markdown",
   "metadata": {},
   "source": [
    "# Multiclass + features generation + features selection"
   ]
  },
  {
   "cell_type": "markdown",
   "metadata": {},
   "source": [
    "## Data preprocessing"
   ]
  },
  {
   "cell_type": "code",
   "execution_count": 197,
   "metadata": {
    "collapsed": true
   },
   "outputs": [],
   "source": [
    "# full_data['log_SVFDChi2'] = numpy.log(full_data['SVFDChi2'].values)\n",
    "# full_data['log_SVSumIPChi2'] = numpy.log(full_data['SVSumIPChi2'].values)\n",
    "# full_data['P_Sin'] = 0.5*full_data['SVMC'].values - (full_data['SVM'].values)**2/(2.*full_data['SVMC'].values)\n",
    "# full_data['Psv'] = full_data['SVPT'].values * full_data['P_Sin'].values\n",
    "# full_data['Psv2'] = full_data['P_Sin'].values / full_data['SVPT'].values\n",
    "# full_data['Mt'] = full_data['SVMC'].values - full_data['P_Sin'].values\n",
    "# full_data['QtoN'] = 1. * full_data['SVQ'].values / full_data['SVN'].values\n",
    "    \n",
    "# new_features = ['log_SVFDChi2', 'log_SVSumIPChi2', 'P_Sin', 'Psv', 'Psv2', 'Mt', 'QtoN']\n",
    "new_features = []"
   ]
  },
  {
   "cell_type": "code",
   "execution_count": 198,
   "metadata": {
    "collapsed": true
   },
   "outputs": [],
   "source": [
    "features = []\n",
    "for ind1 in range(0, len(sv_features + jet_features)):\n",
    "    f1 = (sv_features + jet_features)[ind1]\n",
    "    for ind2 in range(ind1, len(sv_features + jet_features)):\n",
    "        f2 = (sv_features + jet_features)[ind2]\n",
    "        \n",
    "        full_data[f1+'_mult_'+f2] = full_data[f1].values * full_data[f2].values\n",
    "        full_data[f1+'_div_'+f2] = full_data[f1].values / (full_data[f2].values + 0.1)\n",
    "        full_data[f2+'_div_'+f1] = full_data[f2].values / (full_data[f1].values + 0.1)\n",
    "        features.append(f1+'_mult_'+f2)\n",
    "        features.append(f1+'_div_'+f2)\n",
    "        features.append(f2+'_div_'+f1)\n",
    "\n",
    "        full_data['2'+f1+'_plus_'+f2] = (full_data[f1].values**2) + (full_data[f2].values**2)\n",
    "        full_data['2'+f1+'_min_'+f2] = (full_data[f1].values**2) - (full_data[f2].values**2)\n",
    "        features.append('2'+f1+'_plus_'+f2)\n",
    "        features.append('2'+f1+'_min_'+f2)\n",
    "        \n",
    "new_features += features"
   ]
  },
  {
   "cell_type": "code",
   "execution_count": 199,
   "metadata": {
    "collapsed": true
   },
   "outputs": [],
   "source": [
    "new_train_data = full_data[sv_features + jet_features + new_features].values"
   ]
  },
  {
   "cell_type": "code",
   "execution_count": 200,
   "metadata": {
    "collapsed": true
   },
   "outputs": [],
   "source": [
    "full_data_lds = LabeledDataStorage(full_data, labels)"
   ]
  },
  {
   "cell_type": "code",
   "execution_count": 201,
   "metadata": {
    "collapsed": false
   },
   "outputs": [
    {
     "name": "stdout",
     "output_type": "stream",
     "text": [
      "KFold prediction using folds column\n",
      "KFold prediction using folds column\n",
      "KFold prediction using folds column\n",
      "KFold prediction using folds column\n",
      "KFold prediction using folds column\n",
      "KFold prediction using folds column\n",
      "KFold prediction using folds column\n",
      "KFold prediction using folds column\n",
      "KFold prediction using folds column\n",
      "KFold prediction using folds column\n",
      "KFold prediction using folds column\n",
      "KFold prediction using folds column\n",
      "KFold prediction using folds column\n",
      "KFold prediction using folds column\n",
      "KFold prediction using folds column\n",
      "KFold prediction using folds column\n",
      "KFold prediction using folds column\n",
      "KFold prediction using folds column\n",
      "KFold prediction using folds column\n",
      "KFold prediction using folds column\n",
      "KFold prediction using folds column\n",
      "KFold prediction using folds column\n",
      "KFold prediction using folds column\n",
      "KFold prediction using folds column\n",
      "KFold prediction using folds column\n",
      "KFold prediction using folds column\n",
      "KFold prediction using folds column\n",
      "KFold prediction using folds column\n",
      "KFold prediction using folds column\n",
      "KFold prediction using folds column\n",
      "KFold prediction using folds column\n",
      "KFold prediction using folds column\n",
      "KFold prediction using folds column\n",
      "KFold prediction using folds column\n",
      "KFold prediction using folds column\n",
      "KFold prediction using folds column\n",
      "KFold prediction using folds column\n",
      "KFold prediction using folds column\n",
      "KFold prediction using folds column\n",
      "KFold prediction using folds column\n",
      "KFold prediction using folds column\n",
      "KFold prediction using folds column\n",
      "KFold prediction using folds column\n",
      "KFold prediction using folds column\n",
      "KFold prediction using folds column\n",
      "KFold prediction using folds column\n",
      "KFold prediction using folds column\n",
      "KFold prediction using folds column\n",
      "KFold prediction using folds column\n",
      "KFold prediction using folds column\n",
      "KFold prediction using folds column\n",
      "KFold prediction using folds column\n",
      "KFold prediction using folds column\n",
      "KFold prediction using folds column\n",
      "KFold prediction using folds column\n",
      "KFold prediction using folds column\n",
      "KFold prediction using folds column\n",
      "KFold prediction using folds column\n",
      "KFold prediction using folds column\n",
      "KFold prediction using folds column\n",
      "KFold prediction using folds column\n",
      "KFold prediction using folds column\n",
      "KFold prediction using folds column\n",
      "KFold prediction using folds column\n",
      "KFold prediction using folds column\n",
      "KFold prediction using folds column\n",
      "KFold prediction using folds column\n",
      "KFold prediction using folds column\n",
      "KFold prediction using folds column\n",
      "KFold prediction using folds column\n",
      "KFold prediction using folds column\n",
      "KFold prediction using folds column\n",
      "KFold prediction using folds column\n",
      "KFold prediction using folds column\n",
      "KFold prediction using folds column\n",
      "KFold prediction using folds column\n",
      "KFold prediction using folds column\n",
      "KFold prediction using folds column\n",
      "KFold prediction using folds column\n",
      "KFold prediction using folds column\n",
      "KFold prediction using folds column\n",
      "KFold prediction using folds column\n",
      "KFold prediction using folds column\n",
      "KFold prediction using folds column\n",
      "KFold prediction using folds column\n",
      "KFold prediction using folds column\n",
      "KFold prediction using folds column\n",
      "KFold prediction using folds column\n"
     ]
    }
   ],
   "source": [
    "forest = ExtraTreesClassifier(n_estimators=100, random_state=0, n_jobs=8)\n",
    "feature_list, score_list = \\\n",
    "MyRFECV(estimator=forest, step=10, cv=2, features=numpy.array(sv_features + jet_features+new_features)).fit(full_data_lds)"
   ]
  },
  {
   "cell_type": "code",
   "execution_count": 213,
   "metadata": {
    "collapsed": false
   },
   "outputs": [
    {
     "data": {
      "image/png": "[encoded data removed]",
      "text/plain": [
       "<matplotlib.figure.Figure at 0x7fc4e030f750>"
      ]
     },
     "metadata": {},
     "output_type": "display_data"
    }
   ],
   "source": [
    "length = numpy.array([len(fs) for fs in feature_list])\n",
    "plt.plot(length, score_list)\n",
    "plt.ylim(0.95, 0.97)\n",
    "plt.show()"
   ]
  },
  {
   "cell_type": "code",
   "execution_count": 203,
   "metadata": {
    "collapsed": false
   },
   "outputs": [
    {
     "data": {
      "text/plain": [
       "513"
      ]
     },
     "execution_count": 203,
     "metadata": {},
     "output_type": "execute_result"
    }
   ],
   "source": [
    "sel_features = feature_list[score_list == score_list.max()][0]\n",
    "len(sel_features)"
   ]
  },
  {
   "cell_type": "code",
   "execution_count": 204,
   "metadata": {
    "collapsed": true
   },
   "outputs": [],
   "source": [
    "sel_new_train_data = full_data[sel_features].values"
   ]
  },
  {
   "cell_type": "markdown",
   "metadata": {},
   "source": [
    "## Train"
   ]
  },
  {
   "cell_type": "code",
   "execution_count": 205,
   "metadata": {
    "collapsed": false
   },
   "outputs": [
    {
     "name": "stdout",
     "output_type": "stream",
     "text": [
      "CPU times: user 3h 23min 55s, sys: 3.63 s, total: 3h 23min 59s\n",
      "Wall time: 25min 34s\n"
     ]
    },
    {
     "data": {
      "text/plain": [
       "FoldingClassifier(base_estimator=XGBoostClassifier(base_score=0.5, colsample=0.7, eta=0.01, features=None,\n",
       "         gamma=None, max_depth=8, min_child_weight=1.0, missing=-999.0,\n",
       "         n_estimators=1000, nthreads=8, num_feature=None, random_state=0,\n",
       "         scale_pos_weight=1.0, subsample=0.5, verbose=0),\n",
       "         features=['Feature_0', 'Feature_1', 'Feature_2', 'Feature_3', 'Feature_4', 'Feature_5', 'Feature_6', 'Feature_7', 'Feature_8', 'Feature_9', 'Feature_10', 'Feature_11', 'Feature_12', 'Feature_13', 'Feature_14', 'Feature_15', 'Feature_16', 'Feature_17', 'Feature_18', 'Feature_19', 'Feature_20', 'Featu...ture_506', 'Feature_507', 'Feature_508', 'Feature_509', 'Feature_510', 'Feature_511', 'Feature_512'],\n",
       "         n_folds=2, parallel_profile=None, random_state=11)"
      ]
     },
     "execution_count": 205,
     "metadata": {},
     "output_type": "execute_result"
    }
   ],
   "source": [
    "from rep.estimators import XGBoostClassifier\n",
    "xgb_base = XGBoostClassifier(n_estimators=1000, colsample=0.7, eta=0.01, nthreads=8, \n",
    "                             subsample=0.5, max_depth=8)\n",
    "# xgb_base = RandomForestClassifier(n_estimators=100, max_depth=None, max_features='auto')\n",
    "sel_new_multi_folding = FoldingClassifier(xgb_base, n_folds=2, random_state=11)\n",
    "%time sel_new_multi_folding.fit(sel_new_train_data, labels)"
   ]
  },
  {
   "cell_type": "code",
   "execution_count": 206,
   "metadata": {
    "collapsed": false
   },
   "outputs": [
    {
     "name": "stdout",
     "output_type": "stream",
     "text": [
      "KFold prediction using folds column\n"
     ]
    }
   ],
   "source": [
    "sel_new_multi_probs = sel_new_multi_folding.predict_proba(sel_new_train_data)"
   ]
  },
  {
   "cell_type": "markdown",
   "metadata": {},
   "source": [
    "## Results"
   ]
  },
  {
   "cell_type": "code",
   "execution_count": 207,
   "metadata": {
    "collapsed": false
   },
   "outputs": [
    {
     "name": "stdout",
     "output_type": "stream",
     "text": [
      "Log loss is  0.450123046449\n"
     ]
    }
   ],
   "source": [
    "from sklearn.metrics import log_loss\n",
    "\n",
    "print 'Log loss is ', log_loss(labels, sel_new_multi_probs)"
   ]
  },
  {
   "cell_type": "code",
   "execution_count": 208,
   "metadata": {
    "collapsed": false
   },
   "outputs": [
    {
     "name": "stdout",
     "output_type": "stream",
     "text": [
      "KFold prediction using folds column\n"
     ]
    },
    {
     "data": {
      "image/png": "[encoded data removed]",
      "text/plain": [
       "<matplotlib.figure.Figure at 0x7fc4e5d780d0>"
      ]
     },
     "metadata": {},
     "output_type": "display_data"
    }
   ],
   "source": [
    "get_learning_curve(sel_new_multi_folding, sel_new_train_data, labels)"
   ]
  },
  {
   "cell_type": "code",
   "execution_count": 209,
   "metadata": {
    "collapsed": false
   },
   "outputs": [
    {
     "data": {
      "image/png": "[encoded data removed]",
      "text/plain": [
       "<matplotlib.figure.Figure at 0x7fc4e5db3d90>"
      ]
     },
     "metadata": {},
     "output_type": "display_data"
    },
    {
     "data": {
      "text/html": [
       "<div>\n",
       "<table border=\"1\" class=\"dataframe\">\n",
       "  <thead>\n",
       "    <tr style=\"text-align: right;\">\n",
       "      <th></th>\n",
       "      <th>b</th>\n",
       "      <th>c</th>\n",
       "      <th>sud</th>\n",
       "      <th>gluon</th>\n",
       "    </tr>\n",
       "  </thead>\n",
       "  <tbody>\n",
       "    <tr>\n",
       "      <th>b</th>\n",
       "      <td>1.000000</td>\n",
       "      <td>0.964906</td>\n",
       "      <td>0.996005</td>\n",
       "      <td>0.995115</td>\n",
       "    </tr>\n",
       "    <tr>\n",
       "      <th>c</th>\n",
       "      <td>0.964906</td>\n",
       "      <td>1.000000</td>\n",
       "      <td>0.987762</td>\n",
       "      <td>0.990535</td>\n",
       "    </tr>\n",
       "    <tr>\n",
       "      <th>sud</th>\n",
       "      <td>0.996005</td>\n",
       "      <td>0.987762</td>\n",
       "      <td>1.000000</td>\n",
       "      <td>0.797147</td>\n",
       "    </tr>\n",
       "    <tr>\n",
       "      <th>gluon</th>\n",
       "      <td>0.995115</td>\n",
       "      <td>0.990535</td>\n",
       "      <td>0.797147</td>\n",
       "      <td>1.000000</td>\n",
       "    </tr>\n",
       "  </tbody>\n",
       "</table>\n",
       "</div>"
      ],
      "text/plain": [
       "              b         c       sud     gluon\n",
       "b      1.000000  0.964906  0.996005  0.995115\n",
       "c      0.964906  1.000000  0.987762  0.990535\n",
       "sud    0.996005  0.987762  1.000000  0.797147\n",
       "gluon  0.995115  0.990535  0.797147  1.000000"
      ]
     },
     "execution_count": 209,
     "metadata": {},
     "output_type": "execute_result"
    }
   ],
   "source": [
    "sel_new_roc_aucs = utils.get_roc_auc_matrix(labels, sel_new_multi_probs, names, save_path=None, show=True)\n",
    "sel_new_roc_aucs"
   ]
  },
  {
   "cell_type": "code",
   "execution_count": 210,
   "metadata": {
    "collapsed": false
   },
   "outputs": [
    {
     "data": {
      "text/html": [
       "<div>\n",
       "<table border=\"1\" class=\"dataframe\">\n",
       "  <thead>\n",
       "    <tr style=\"text-align: right;\">\n",
       "      <th></th>\n",
       "      <th>b</th>\n",
       "      <th>c</th>\n",
       "      <th>sud</th>\n",
       "      <th>gluon</th>\n",
       "    </tr>\n",
       "  </thead>\n",
       "  <tbody>\n",
       "    <tr>\n",
       "      <th>b</th>\n",
       "      <td>0.000000</td>\n",
       "      <td>0.002442</td>\n",
       "      <td>0.000933</td>\n",
       "      <td>0.001037</td>\n",
       "    </tr>\n",
       "    <tr>\n",
       "      <th>c</th>\n",
       "      <td>0.002442</td>\n",
       "      <td>0.000000</td>\n",
       "      <td>0.002087</td>\n",
       "      <td>0.001465</td>\n",
       "    </tr>\n",
       "    <tr>\n",
       "      <th>sud</th>\n",
       "      <td>0.000933</td>\n",
       "      <td>0.002087</td>\n",
       "      <td>0.000000</td>\n",
       "      <td>0.002839</td>\n",
       "    </tr>\n",
       "    <tr>\n",
       "      <th>gluon</th>\n",
       "      <td>0.001037</td>\n",
       "      <td>0.001465</td>\n",
       "      <td>0.002839</td>\n",
       "      <td>0.000000</td>\n",
       "    </tr>\n",
       "  </tbody>\n",
       "</table>\n",
       "</div>"
      ],
      "text/plain": [
       "              b         c       sud     gluon\n",
       "b      0.000000  0.002442  0.000933  0.001037\n",
       "c      0.002442  0.000000  0.002087  0.001465\n",
       "sud    0.000933  0.002087  0.000000  0.002839\n",
       "gluon  0.001037  0.001465  0.002839  0.000000"
      ]
     },
     "execution_count": 210,
     "metadata": {},
     "output_type": "execute_result"
    }
   ],
   "source": [
    "sel_new_roc_aucs - roc_auc_baseline"
   ]
  },
  {
   "cell_type": "code",
   "execution_count": null,
   "metadata": {
    "collapsed": true
   },
   "outputs": [],
   "source": []
  }
 ],
 "metadata": {
  "kernelspec": {
   "display_name": "Python 2",
   "language": "python",
   "name": "python2"
  },
  "language_info": {
   "codemirror_mode": {
    "name": "ipython",
    "version": 2
   },
   "file_extension": ".py",
   "mimetype": "text/x-python",
   "name": "python",
   "nbconvert_exporter": "python",
   "pygments_lexer": "ipython2",
   "version": "2.7.10"
  }
 },
 "nbformat": 4,
 "nbformat_minor": 0
}
