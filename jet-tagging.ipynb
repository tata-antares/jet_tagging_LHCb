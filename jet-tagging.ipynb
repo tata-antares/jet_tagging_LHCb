{
 "cells": [
  {
   "cell_type": "code",
   "execution_count": 1,
   "metadata": {
    "collapsed": false
   },
   "outputs": [
    {
     "name": "stdout",
     "output_type": "stream",
     "text": [
      "Populating the interactive namespace from numpy and matplotlib\n"
     ]
    }
   ],
   "source": [
    "%pylab inline"
   ]
  },
  {
   "cell_type": "code",
   "execution_count": 114,
   "metadata": {
    "collapsed": true
   },
   "outputs": [],
   "source": [
    "class MyRFECV(object):\n",
    "    \n",
    "    def __init__(self, estimator, step, cv, features):\n",
    "        self.estimator = estimator\n",
    "        self.step = step\n",
    "        self.cv = cv\n",
    "        self.features = features\n",
    "        \n",
    "    def _score(self, labels, probs):\n",
    "        \n",
    "        names = ['b', 'c', 'sud', 'gluon']\n",
    "        roc_auc = utils.get_roc_auc_matrix(labels, probs, names, save_path=None, show=False)\n",
    "        return roc_auc.values.mean()\n",
    "        \n",
    "    def _fit_step(self, data, features):\n",
    "        sk = SklearnClassifier(self.estimator, features=None)\n",
    "        folding = FoldingClassifier(sk, n_folds=self.cv, random_state=11, features=features)\n",
    "        folding.fit_lds(data)\n",
    "        importances = folding.feature_importances_\n",
    "        indices = numpy.argsort(importances)[::-1]\n",
    "        \n",
    "        labels = data.target\n",
    "        probs = folding.predict_proba(data.data)\n",
    "        score = self._score(labels, probs)\n",
    "        \n",
    "        return features[indices], score\n",
    "        \n",
    "    def fit(self, data):\n",
    "        features = self.features\n",
    "        feature_list = []\n",
    "        score_list = []\n",
    "        \n",
    "        while len(features) >= self.step:\n",
    "            features, score = self._fit_step(data, features)\n",
    "            feature_list.append(features)\n",
    "            score_list.append(score)\n",
    "            \n",
    "            features = features[:-self.step]\n",
    "            \n",
    "        if len(features) > 0:\n",
    "            features, score = self._fit_step(data, features)\n",
    "            feature_list.append(features)\n",
    "            score_list.append(score)\n",
    "            \n",
    "        return numpy.array(feature_list), numpy.array(score_list)"
   ]
  },
  {
   "cell_type": "code",
   "execution_count": 5,
   "metadata": {
    "collapsed": false
   },
   "outputs": [],
   "source": [
    "%matplotlib inline\n",
    "import root_numpy\n",
    "import pandas\n",
    "import numpy\n",
    "import matplotlib.pyplot as plt\n",
    "from rep.data import LabeledDataStorage\n",
    "#from hep_ml.decisiontrain import DecisionTrainClassifier, DecisionTrainRegressor\n",
    "from hep_ml.losses import LogLossFunction, MSELossFunction\n",
    "from rep.metaml import FoldingClassifier, FoldingRegressor\n",
    "from rep.report import ClassificationReport\n",
    "from rep.report.metrics import RocAuc\n",
    "from sklearn.metrics import roc_auc_score\n",
    "from sklearn.ensemble import GradientBoostingClassifier, GradientBoostingRegressor\n",
    "from sklearn.ensemble import RandomForestClassifier, RandomForestRegressor, ExtraTreesClassifier\n",
    "from rep.estimators import XGBoostClassifier, SklearnClassifier\n",
    "import cPickle as pickle"
   ]
  },
  {
   "cell_type": "markdown",
   "metadata": {},
   "source": [
    "## Read data"
   ]
  },
  {
   "cell_type": "code",
   "execution_count": 6,
   "metadata": {
    "collapsed": false
   },
   "outputs": [],
   "source": [
    "treename = 'tag'\n",
    "\n",
    "data_b = pandas.DataFrame(root_numpy.root2array('/home/mikhail91/jet_tagging_LHCb/datasets/type=5.root', treename=treename)).dropna()\n",
    "data_b = data_b[::90]\n",
    "data_c = pandas.DataFrame(root_numpy.root2array('/home/mikhail91/jet_tagging_LHCb/datasets/type=4.root', treename=treename)).dropna()\n",
    "data_light = pandas.DataFrame(root_numpy.root2array('/home/mikhail91/jet_tagging_LHCb/datasets/type=0.root', treename=treename)).dropna()\n",
    "data_light = data_light[::2]"
   ]
  },
  {
   "cell_type": "code",
   "execution_count": 7,
   "metadata": {
    "collapsed": true
   },
   "outputs": [],
   "source": [
    "data = {'b': data_b, 'c': data_c, 'light': data_light}"
   ]
  },
  {
   "cell_type": "code",
   "execution_count": 8,
   "metadata": {
    "collapsed": true
   },
   "outputs": [],
   "source": [
    "full_data = pandas.concat([data_b, \n",
    "                           data_c, \n",
    "                           data_light[data_light.JetParton != 0], \n",
    "                           data_light[data_light.JetParton == 0]])\n",
    "\n",
    "full_data['label'] = [0] * len(data_b) + \\\n",
    "                     [1] * len(data_c) + \\\n",
    "                     [2] * len(data_light[data_light.JetParton != 0]) + \\\n",
    "                     [3] * len(data_light[data_light.JetParton == 0])"
   ]
  },
  {
   "cell_type": "code",
   "execution_count": 16,
   "metadata": {
    "collapsed": true
   },
   "outputs": [],
   "source": [
    "names = ['b', 'c', 'sud', 'gluon']"
   ]
  },
  {
   "cell_type": "code",
   "execution_count": 9,
   "metadata": {
    "collapsed": true
   },
   "outputs": [],
   "source": [
    "jet_features = [column for column in data_b.columns if \"Jet\" in column]\n",
    "sv_features = [column for column in data_b.columns if \"SV\" in column]"
   ]
  },
  {
   "cell_type": "code",
   "execution_count": 151,
   "metadata": {
    "collapsed": false
   },
   "outputs": [],
   "source": [
    "for i in ['JetParton', 'JetFlavor', 'JetPx', 'JetPy']:\n",
    "    jet_features.remove(i)"
   ]
  },
  {
   "cell_type": "code",
   "execution_count": 152,
   "metadata": {
    "collapsed": false
   },
   "outputs": [
    {
     "data": {
      "text/plain": [
       "['JetPz',\n",
       " 'JetE',\n",
       " 'JetQ',\n",
       " 'JetSigma1',\n",
       " 'JetSigma2',\n",
       " 'JetMult',\n",
       " 'JetPTHard',\n",
       " 'JetPTD',\n",
       " 'JetNDis']"
      ]
     },
     "execution_count": 152,
     "metadata": {},
     "output_type": "execute_result"
    }
   ],
   "source": [
    "jet_features"
   ]
  },
  {
   "cell_type": "markdown",
   "metadata": {},
   "source": [
    "# Multiclassification"
   ]
  },
  {
   "cell_type": "markdown",
   "metadata": {},
   "source": [
    "## Data preprocessing"
   ]
  },
  {
   "cell_type": "code",
   "execution_count": 153,
   "metadata": {
    "collapsed": true
   },
   "outputs": [],
   "source": [
    "train_data = full_data[jet_features].values\n",
    "labels = full_data['label'].values"
   ]
  },
  {
   "cell_type": "markdown",
   "metadata": {},
   "source": [
    "## Train"
   ]
  },
  {
   "cell_type": "code",
   "execution_count": 154,
   "metadata": {
    "collapsed": false
   },
   "outputs": [
    {
     "name": "stdout",
     "output_type": "stream",
     "text": [
      "CPU times: user 11min 36s, sys: 1.2 s, total: 11min 37s\n",
      "Wall time: 1min 31s\n"
     ]
    },
    {
     "data": {
      "text/plain": [
       "FoldingClassifier(base_estimator=XGBoostClassifier(base_score=0.5, colsample=0.7, eta=0.01, features=None,\n",
       "         gamma=None, max_depth=8, min_child_weight=1.0, missing=-999.0,\n",
       "         n_estimators=1000, nthreads=8, num_feature=None, random_state=0,\n",
       "         scale_pos_weight=1.0, subsample=0.5, verbose=0),\n",
       "         features=['Feature_0', 'Feature_1', 'Feature_2', 'Feature_3', 'Feature_4', 'Feature_5', 'Feature_6', 'Feature_7', 'Feature_8'],\n",
       "         n_folds=2, parallel_profile=None, random_state=11)"
      ]
     },
     "execution_count": 154,
     "metadata": {},
     "output_type": "execute_result"
    }
   ],
   "source": [
    "from rep.estimators import XGBoostClassifier\n",
    "xgb_base = XGBoostClassifier(n_estimators=1000, colsample=0.7, eta=0.01, nthreads=8, \n",
    "                             subsample=0.5, max_depth=8)\n",
    "# xgb_base = RandomForestClassifier(n_estimators=100, max_depth=None, max_features='auto')\n",
    "multi_folding = FoldingClassifier(xgb_base, n_folds=2, random_state=11)\n",
    "%time multi_folding.fit(train_data, labels)"
   ]
  },
  {
   "cell_type": "code",
   "execution_count": 155,
   "metadata": {
    "collapsed": false
   },
   "outputs": [
    {
     "name": "stdout",
     "output_type": "stream",
     "text": [
      "KFold prediction using folds column\n"
     ]
    }
   ],
   "source": [
    "multi_probs = multi_folding.predict_proba(train_data)"
   ]
  },
  {
   "cell_type": "markdown",
   "metadata": {},
   "source": [
    "## Results"
   ]
  },
  {
   "cell_type": "code",
   "execution_count": 156,
   "metadata": {
    "collapsed": true
   },
   "outputs": [],
   "source": [
    "import os, sys\n",
    "sys.path.append('python')\n",
    "import utils"
   ]
  },
  {
   "cell_type": "code",
   "execution_count": 157,
   "metadata": {
    "collapsed": false
   },
   "outputs": [
    {
     "name": "stdout",
     "output_type": "stream",
     "text": [
      "Log loss is  0.723013089318\n"
     ]
    }
   ],
   "source": [
    "from sklearn.metrics import log_loss\n",
    "\n",
    "print 'Log loss is ', log_loss(labels, multi_probs)"
   ]
  },
  {
   "cell_type": "code",
   "execution_count": 158,
   "metadata": {
    "collapsed": true
   },
   "outputs": [],
   "source": [
    "def get_learning_curve(clf, data, labels):\n",
    "\n",
    "    n_estimators = clf.get_params()['base_estimator__n_estimators']\n",
    "    staged_probas = clf.staged_predict_proba(data)\n",
    "\n",
    "    from sklearn.metrics import log_loss\n",
    "    log_loss_all = []\n",
    "    for pred in staged_probas:\n",
    "        log_loss_all.append(log_loss(labels, pred))\n",
    "\n",
    "    x = numpy.arange(10, n_estimators + 10, 10)\n",
    "    plt.plot(x, log_loss_all)\n",
    "    plt.ylabel('Log loss')\n",
    "    plt.xlabel('Iteration')\n",
    "    plt.show()"
   ]
  },
  {
   "cell_type": "code",
   "execution_count": 159,
   "metadata": {
    "collapsed": false
   },
   "outputs": [
    {
     "name": "stdout",
     "output_type": "stream",
     "text": [
      "KFold prediction using folds column\n"
     ]
    },
    {
     "data": {
      "image/png": "[encoded data removed]",
      "text/plain": [
       "<matplotlib.figure.Figure at 0x7fc4e0dd0910>"
      ]
     },
     "metadata": {},
     "output_type": "display_data"
    }
   ],
   "source": [
    "get_learning_curve(multi_folding, train_data, labels)"
   ]
  },
  {
   "cell_type": "code",
   "execution_count": 160,
   "metadata": {
    "collapsed": false
   },
   "outputs": [
    {
     "data": {
      "image/png": "[encoded data removed]",
      "text/plain": [
       "<matplotlib.figure.Figure at 0x7fc4e0dac0d0>"
      ]
     },
     "metadata": {},
     "output_type": "display_data"
    },
    {
     "data": {
      "text/html": [
       "<div>\n",
       "<table border=\"1\" class=\"dataframe\">\n",
       "  <thead>\n",
       "    <tr style=\"text-align: right;\">\n",
       "      <th></th>\n",
       "      <th>b</th>\n",
       "      <th>c</th>\n",
       "      <th>sud</th>\n",
       "      <th>gluon</th>\n",
       "    </tr>\n",
       "  </thead>\n",
       "  <tbody>\n",
       "    <tr>\n",
       "      <th>b</th>\n",
       "      <td>1.000000</td>\n",
       "      <td>0.884605</td>\n",
       "      <td>0.974931</td>\n",
       "      <td>0.971194</td>\n",
       "    </tr>\n",
       "    <tr>\n",
       "      <th>c</th>\n",
       "      <td>0.884605</td>\n",
       "      <td>1.000000</td>\n",
       "      <td>0.937336</td>\n",
       "      <td>0.961208</td>\n",
       "    </tr>\n",
       "    <tr>\n",
       "      <th>sud</th>\n",
       "      <td>0.974931</td>\n",
       "      <td>0.937336</td>\n",
       "      <td>1.000000</td>\n",
       "      <td>0.792738</td>\n",
       "    </tr>\n",
       "    <tr>\n",
       "      <th>gluon</th>\n",
       "      <td>0.971194</td>\n",
       "      <td>0.961208</td>\n",
       "      <td>0.792738</td>\n",
       "      <td>1.000000</td>\n",
       "    </tr>\n",
       "  </tbody>\n",
       "</table>\n",
       "</div>"
      ],
      "text/plain": [
       "              b         c       sud     gluon\n",
       "b      1.000000  0.884605  0.974931  0.971194\n",
       "c      0.884605  1.000000  0.937336  0.961208\n",
       "sud    0.974931  0.937336  1.000000  0.792738\n",
       "gluon  0.971194  0.961208  0.792738  1.000000"
      ]
     },
     "execution_count": 160,
     "metadata": {},
     "output_type": "execute_result"
    }
   ],
   "source": [
    "roc_auc_baseline = utils.get_roc_auc_matrix(labels, multi_probs, names, save_path=None, show=True)\n",
    "roc_auc_baseline"
   ]
  },
  {
   "cell_type": "markdown",
   "metadata": {},
   "source": [
    "# Multiclassification + PCA"
   ]
  },
  {
   "cell_type": "markdown",
   "metadata": {},
   "source": [
    "## Data preprocessing"
   ]
  },
  {
   "cell_type": "code",
   "execution_count": 161,
   "metadata": {
    "collapsed": false
   },
   "outputs": [],
   "source": [
    "from sklearn.decomposition import PCA\n",
    "\n",
    "pca = PCA(n_components=train_data.shape[1])\n",
    "pca_train_data = pca.fit_transform(train_data)"
   ]
  },
  {
   "cell_type": "markdown",
   "metadata": {},
   "source": [
    "## Train"
   ]
  },
  {
   "cell_type": "code",
   "execution_count": 162,
   "metadata": {
    "collapsed": false
   },
   "outputs": [
    {
     "name": "stdout",
     "output_type": "stream",
     "text": [
      "CPU times: user 12min 50s, sys: 1.72 s, total: 12min 52s\n",
      "Wall time: 1min 41s\n"
     ]
    },
    {
     "data": {
      "text/plain": [
       "FoldingClassifier(base_estimator=XGBoostClassifier(base_score=0.5, colsample=0.7, eta=0.01, features=None,\n",
       "         gamma=None, max_depth=8, min_child_weight=1.0, missing=-999.0,\n",
       "         n_estimators=1000, nthreads=8, num_feature=None, random_state=0,\n",
       "         scale_pos_weight=1.0, subsample=0.5, verbose=0),\n",
       "         features=['Feature_0', 'Feature_1', 'Feature_2', 'Feature_3', 'Feature_4', 'Feature_5', 'Feature_6', 'Feature_7', 'Feature_8'],\n",
       "         n_folds=2, parallel_profile=None, random_state=11)"
      ]
     },
     "execution_count": 162,
     "metadata": {},
     "output_type": "execute_result"
    }
   ],
   "source": [
    "from rep.estimators import XGBoostClassifier\n",
    "xgb_base = XGBoostClassifier(n_estimators=1000, colsample=0.7, eta=0.01, nthreads=8, \n",
    "                             subsample=0.5, max_depth=8)\n",
    "# xgb_base = RandomForestClassifier(n_estimators=100, max_depth=None, max_features='auto')\n",
    "pca_multi_folding = FoldingClassifier(xgb_base, n_folds=2, random_state=11)\n",
    "%time pca_multi_folding.fit(pca_train_data, labels)"
   ]
  },
  {
   "cell_type": "code",
   "execution_count": 163,
   "metadata": {
    "collapsed": false
   },
   "outputs": [
    {
     "name": "stdout",
     "output_type": "stream",
     "text": [
      "KFold prediction using folds column\n"
     ]
    }
   ],
   "source": [
    "pca_multi_probs = pca_multi_folding.predict_proba(pca_train_data)"
   ]
  },
  {
   "cell_type": "markdown",
   "metadata": {},
   "source": [
    "## Results"
   ]
  },
  {
   "cell_type": "code",
   "execution_count": 164,
   "metadata": {
    "collapsed": false
   },
   "outputs": [
    {
     "name": "stdout",
     "output_type": "stream",
     "text": [
      "Log loss is  0.709928669809\n"
     ]
    }
   ],
   "source": [
    "from sklearn.metrics import log_loss\n",
    "\n",
    "print 'Log loss is ', log_loss(labels, pca_multi_probs)"
   ]
  },
  {
   "cell_type": "code",
   "execution_count": 165,
   "metadata": {
    "collapsed": false
   },
   "outputs": [
    {
     "name": "stdout",
     "output_type": "stream",
     "text": [
      "KFold prediction using folds column\n"
     ]
    },
    {
     "data": {
      "image/png": "[encoded data removed]",
      "text/plain": [
       "<matplotlib.figure.Figure at 0x7fc4e180fd50>"
      ]
     },
     "metadata": {},
     "output_type": "display_data"
    }
   ],
   "source": [
    "get_learning_curve(pca_multi_folding, pca_train_data, labels)"
   ]
  },
  {
   "cell_type": "code",
   "execution_count": 166,
   "metadata": {
    "collapsed": false
   },
   "outputs": [
    {
     "data": {
      "image/png": "[encoded data removed]",
      "text/plain": [
       "<matplotlib.figure.Figure at 0x7fc4e0e1ba90>"
      ]
     },
     "metadata": {},
     "output_type": "display_data"
    },
    {
     "data": {
      "text/html": [
       "<div>\n",
       "<table border=\"1\" class=\"dataframe\">\n",
       "  <thead>\n",
       "    <tr style=\"text-align: right;\">\n",
       "      <th></th>\n",
       "      <th>b</th>\n",
       "      <th>c</th>\n",
       "      <th>sud</th>\n",
       "      <th>gluon</th>\n",
       "    </tr>\n",
       "  </thead>\n",
       "  <tbody>\n",
       "    <tr>\n",
       "      <th>b</th>\n",
       "      <td>1.000000</td>\n",
       "      <td>0.888120</td>\n",
       "      <td>0.976719</td>\n",
       "      <td>0.974081</td>\n",
       "    </tr>\n",
       "    <tr>\n",
       "      <th>c</th>\n",
       "      <td>0.888120</td>\n",
       "      <td>1.000000</td>\n",
       "      <td>0.939911</td>\n",
       "      <td>0.964580</td>\n",
       "    </tr>\n",
       "    <tr>\n",
       "      <th>sud</th>\n",
       "      <td>0.976719</td>\n",
       "      <td>0.939911</td>\n",
       "      <td>1.000000</td>\n",
       "      <td>0.795290</td>\n",
       "    </tr>\n",
       "    <tr>\n",
       "      <th>gluon</th>\n",
       "      <td>0.974081</td>\n",
       "      <td>0.964580</td>\n",
       "      <td>0.795290</td>\n",
       "      <td>1.000000</td>\n",
       "    </tr>\n",
       "  </tbody>\n",
       "</table>\n",
       "</div>"
      ],
      "text/plain": [
       "              b         c       sud     gluon\n",
       "b      1.000000  0.888120  0.976719  0.974081\n",
       "c      0.888120  1.000000  0.939911  0.964580\n",
       "sud    0.976719  0.939911  1.000000  0.795290\n",
       "gluon  0.974081  0.964580  0.795290  1.000000"
      ]
     },
     "execution_count": 166,
     "metadata": {},
     "output_type": "execute_result"
    }
   ],
   "source": [
    "pca_roc_aucs = utils.get_roc_auc_matrix(labels, pca_multi_probs, names, save_path=None, show=True)\n",
    "pca_roc_aucs"
   ]
  },
  {
   "cell_type": "code",
   "execution_count": 167,
   "metadata": {
    "collapsed": false
   },
   "outputs": [
    {
     "data": {
      "text/html": [
       "<div>\n",
       "<table border=\"1\" class=\"dataframe\">\n",
       "  <thead>\n",
       "    <tr style=\"text-align: right;\">\n",
       "      <th></th>\n",
       "      <th>b</th>\n",
       "      <th>c</th>\n",
       "      <th>sud</th>\n",
       "      <th>gluon</th>\n",
       "    </tr>\n",
       "  </thead>\n",
       "  <tbody>\n",
       "    <tr>\n",
       "      <th>b</th>\n",
       "      <td>0.000000</td>\n",
       "      <td>0.003515</td>\n",
       "      <td>0.001788</td>\n",
       "      <td>0.002888</td>\n",
       "    </tr>\n",
       "    <tr>\n",
       "      <th>c</th>\n",
       "      <td>0.003515</td>\n",
       "      <td>0.000000</td>\n",
       "      <td>0.002576</td>\n",
       "      <td>0.003372</td>\n",
       "    </tr>\n",
       "    <tr>\n",
       "      <th>sud</th>\n",
       "      <td>0.001788</td>\n",
       "      <td>0.002576</td>\n",
       "      <td>0.000000</td>\n",
       "      <td>0.002552</td>\n",
       "    </tr>\n",
       "    <tr>\n",
       "      <th>gluon</th>\n",
       "      <td>0.002888</td>\n",
       "      <td>0.003372</td>\n",
       "      <td>0.002552</td>\n",
       "      <td>0.000000</td>\n",
       "    </tr>\n",
       "  </tbody>\n",
       "</table>\n",
       "</div>"
      ],
      "text/plain": [
       "              b         c       sud     gluon\n",
       "b      0.000000  0.003515  0.001788  0.002888\n",
       "c      0.003515  0.000000  0.002576  0.003372\n",
       "sud    0.001788  0.002576  0.000000  0.002552\n",
       "gluon  0.002888  0.003372  0.002552  0.000000"
      ]
     },
     "execution_count": 167,
     "metadata": {},
     "output_type": "execute_result"
    }
   ],
   "source": [
    "pca_roc_aucs - roc_auc_baseline"
   ]
  },
  {
   "cell_type": "markdown",
   "metadata": {},
   "source": [
    "# Multiclass + features generation + features selection"
   ]
  },
  {
   "cell_type": "markdown",
   "metadata": {},
   "source": [
    "## Data preprocessing"
   ]
  },
  {
   "cell_type": "code",
   "execution_count": 168,
   "metadata": {
    "collapsed": true
   },
   "outputs": [],
   "source": [
    "# full_data['log_SVFDChi2'] = numpy.log(full_data['SVFDChi2'].values)\n",
    "# full_data['log_SVSumIPChi2'] = numpy.log(full_data['SVSumIPChi2'].values)\n",
    "# full_data['P_Sin'] = 0.5*full_data['SVMC'].values - (full_data['SVM'].values)**2/(2.*full_data['SVMC'].values)\n",
    "# full_data['Psv'] = full_data['SVPT'].values * full_data['P_Sin'].values\n",
    "# full_data['Psv2'] = full_data['P_Sin'].values / full_data['SVPT'].values\n",
    "# full_data['Mt'] = full_data['SVMC'].values - full_data['P_Sin'].values\n",
    "# full_data['QtoN'] = 1. * full_data['SVQ'].values / full_data['SVN'].values\n",
    "    \n",
    "# new_features = ['log_SVFDChi2', 'log_SVSumIPChi2', 'P_Sin', 'Psv', 'Psv2', 'Mt', 'QtoN']\n",
    "new_features = []"
   ]
  },
  {
   "cell_type": "code",
   "execution_count": 169,
   "metadata": {
    "collapsed": true
   },
   "outputs": [],
   "source": [
    "features = []\n",
    "for ind1 in range(0, len(jet_features)):\n",
    "    f1 = jet_features[ind1]\n",
    "    for ind2 in range(ind1, len(jet_features)):\n",
    "        f2 = jet_features[ind2]\n",
    "        \n",
    "        full_data[f1+'_mult_'+f2] = full_data[f1].values * full_data[f2].values\n",
    "        full_data[f1+'_div_'+f2] = full_data[f1].values / (full_data[f2].values + 0.1)\n",
    "        full_data[f2+'_div_'+f1] = full_data[f2].values / (full_data[f1].values + 0.1)\n",
    "        features.append(f1+'_mult_'+f2)\n",
    "        features.append(f1+'_div_'+f2)\n",
    "        features.append(f2+'_div_'+f1)\n",
    "\n",
    "        full_data['2'+f1+'_plus_'+f2] = (full_data[f1].values**2) + (full_data[f2].values**2)\n",
    "        full_data['2'+f1+'_min_'+f2] = (full_data[f1].values**2) - (full_data[f2].values**2)\n",
    "        features.append('2'+f1+'_plus_'+f2)\n",
    "        features.append('2'+f1+'_min_'+f2)\n",
    "        \n",
    "new_features += features"
   ]
  },
  {
   "cell_type": "code",
   "execution_count": 170,
   "metadata": {
    "collapsed": true
   },
   "outputs": [],
   "source": [
    "new_train_data = full_data[jet_features + new_features].values"
   ]
  },
  {
   "cell_type": "code",
   "execution_count": 171,
   "metadata": {
    "collapsed": true
   },
   "outputs": [],
   "source": [
    "full_data_lds = LabeledDataStorage(full_data, labels)"
   ]
  },
  {
   "cell_type": "code",
   "execution_count": 172,
   "metadata": {
    "collapsed": false
   },
   "outputs": [
    {
     "name": "stdout",
     "output_type": "stream",
     "text": [
      "KFold prediction using folds column\n",
      "KFold prediction using folds column\n",
      "KFold prediction using folds column\n",
      "KFold prediction using folds column\n",
      "KFold prediction using folds column\n",
      "KFold prediction using folds column\n",
      "KFold prediction using folds column\n",
      "KFold prediction using folds column\n",
      "KFold prediction using folds column\n",
      "KFold prediction using folds column\n",
      "KFold prediction using folds column\n",
      "KFold prediction using folds column\n",
      "KFold prediction using folds column\n",
      "KFold prediction using folds column\n",
      "KFold prediction using folds column\n",
      "KFold prediction using folds column\n",
      "KFold prediction using folds column\n",
      "KFold prediction using folds column\n",
      "KFold prediction using folds column\n",
      "KFold prediction using folds column\n",
      "KFold prediction using folds column\n",
      "KFold prediction using folds column\n",
      "KFold prediction using folds column\n",
      "KFold prediction using folds column\n"
     ]
    }
   ],
   "source": [
    "forest = ExtraTreesClassifier(n_estimators=100, random_state=0, n_jobs=8)\n",
    "feature_list, score_list = \\\n",
    "MyRFECV(estimator=forest, step=10, cv=2, features=numpy.array(jet_features+new_features)).fit(full_data_lds)"
   ]
  },
  {
   "cell_type": "code",
   "execution_count": 173,
   "metadata": {
    "collapsed": false
   },
   "outputs": [
    {
     "data": {
      "image/png": "[encoded data removed]",
      "text/plain": [
       "<matplotlib.figure.Figure at 0x7fc4e0481850>"
      ]
     },
     "metadata": {},
     "output_type": "display_data"
    }
   ],
   "source": [
    "length = numpy.array([len(fs) for fs in feature_list])\n",
    "plt.plot(length, score_list)\n",
    "plt.ylim(0.90, 0.95)\n",
    "plt.show()"
   ]
  },
  {
   "cell_type": "code",
   "execution_count": 174,
   "metadata": {
    "collapsed": false
   },
   "outputs": [
    {
     "data": {
      "text/plain": [
       "64"
      ]
     },
     "execution_count": 174,
     "metadata": {},
     "output_type": "execute_result"
    }
   ],
   "source": [
    "sel_features = feature_list[score_list == score_list.max()][0]\n",
    "len(sel_features)"
   ]
  },
  {
   "cell_type": "code",
   "execution_count": 175,
   "metadata": {
    "collapsed": true
   },
   "outputs": [],
   "source": [
    "sel_new_train_data = full_data[sel_features].values"
   ]
  },
  {
   "cell_type": "markdown",
   "metadata": {},
   "source": [
    "## Train"
   ]
  },
  {
   "cell_type": "code",
   "execution_count": 176,
   "metadata": {
    "collapsed": false
   },
   "outputs": [
    {
     "name": "stdout",
     "output_type": "stream",
     "text": [
      "CPU times: user 34min 42s, sys: 2.81 s, total: 34min 44s\n",
      "Wall time: 4min 33s\n"
     ]
    },
    {
     "data": {
      "text/plain": [
       "FoldingClassifier(base_estimator=XGBoostClassifier(base_score=0.5, colsample=0.7, eta=0.01, features=None,\n",
       "         gamma=None, max_depth=8, min_child_weight=1.0, missing=-999.0,\n",
       "         n_estimators=1000, nthreads=8, num_feature=None, random_state=0,\n",
       "         scale_pos_weight=1.0, subsample=0.5, verbose=0),\n",
       "         features=['Feature_0', 'Feature_1', 'Feature_2', 'Feature_3', 'Feature_4', 'Feature_5', 'Feature_6', 'Feature_7', 'Feature_8', 'Feature_9', 'Feature_10', 'Feature_11', 'Feature_12', 'Feature_13', 'Feature_14', 'Feature_15', 'Feature_16', 'Feature_17', 'Feature_18', 'Feature_19', 'Feature_20', 'Featu...', 'Feature_57', 'Feature_58', 'Feature_59', 'Feature_60', 'Feature_61', 'Feature_62', 'Feature_63'],\n",
       "         n_folds=2, parallel_profile=None, random_state=11)"
      ]
     },
     "execution_count": 176,
     "metadata": {},
     "output_type": "execute_result"
    }
   ],
   "source": [
    "from rep.estimators import XGBoostClassifier\n",
    "xgb_base = XGBoostClassifier(n_estimators=1000, colsample=0.7, eta=0.01, nthreads=8, \n",
    "                             subsample=0.5, max_depth=8)\n",
    "# xgb_base = RandomForestClassifier(n_estimators=100, max_depth=None, max_features='auto')\n",
    "sel_new_multi_folding = FoldingClassifier(xgb_base, n_folds=2, random_state=11)\n",
    "%time sel_new_multi_folding.fit(sel_new_train_data, labels)"
   ]
  },
  {
   "cell_type": "code",
   "execution_count": 177,
   "metadata": {
    "collapsed": false
   },
   "outputs": [
    {
     "name": "stdout",
     "output_type": "stream",
     "text": [
      "KFold prediction using folds column\n"
     ]
    }
   ],
   "source": [
    "sel_new_multi_probs = sel_new_multi_folding.predict_proba(sel_new_train_data)"
   ]
  },
  {
   "cell_type": "markdown",
   "metadata": {},
   "source": [
    "## Results"
   ]
  },
  {
   "cell_type": "code",
   "execution_count": 178,
   "metadata": {
    "collapsed": false
   },
   "outputs": [
    {
     "name": "stdout",
     "output_type": "stream",
     "text": [
      "Log loss is  0.702327637266\n"
     ]
    }
   ],
   "source": [
    "from sklearn.metrics import log_loss\n",
    "\n",
    "print 'Log loss is ', log_loss(labels, sel_new_multi_probs)"
   ]
  },
  {
   "cell_type": "code",
   "execution_count": 179,
   "metadata": {
    "collapsed": false
   },
   "outputs": [
    {
     "name": "stdout",
     "output_type": "stream",
     "text": [
      "KFold prediction using folds column\n"
     ]
    },
    {
     "data": {
      "image/png": "[encoded data removed]",
      "text/plain": [
       "<matplotlib.figure.Figure at 0x7fc4e1d35f90>"
      ]
     },
     "metadata": {},
     "output_type": "display_data"
    }
   ],
   "source": [
    "get_learning_curve(sel_new_multi_folding, sel_new_train_data, labels)"
   ]
  },
  {
   "cell_type": "code",
   "execution_count": 180,
   "metadata": {
    "collapsed": false
   },
   "outputs": [
    {
     "data": {
      "image/png": "[encoded data removed]",
      "text/plain": [
       "<matplotlib.figure.Figure at 0x7fc4e0304650>"
      ]
     },
     "metadata": {},
     "output_type": "display_data"
    },
    {
     "data": {
      "text/html": [
       "<div>\n",
       "<table border=\"1\" class=\"dataframe\">\n",
       "  <thead>\n",
       "    <tr style=\"text-align: right;\">\n",
       "      <th></th>\n",
       "      <th>b</th>\n",
       "      <th>c</th>\n",
       "      <th>sud</th>\n",
       "      <th>gluon</th>\n",
       "    </tr>\n",
       "  </thead>\n",
       "  <tbody>\n",
       "    <tr>\n",
       "      <th>b</th>\n",
       "      <td>1.000000</td>\n",
       "      <td>0.891194</td>\n",
       "      <td>0.977582</td>\n",
       "      <td>0.975262</td>\n",
       "    </tr>\n",
       "    <tr>\n",
       "      <th>c</th>\n",
       "      <td>0.891194</td>\n",
       "      <td>1.000000</td>\n",
       "      <td>0.941258</td>\n",
       "      <td>0.965244</td>\n",
       "    </tr>\n",
       "    <tr>\n",
       "      <th>sud</th>\n",
       "      <td>0.977582</td>\n",
       "      <td>0.941258</td>\n",
       "      <td>1.000000</td>\n",
       "      <td>0.798012</td>\n",
       "    </tr>\n",
       "    <tr>\n",
       "      <th>gluon</th>\n",
       "      <td>0.975262</td>\n",
       "      <td>0.965244</td>\n",
       "      <td>0.798012</td>\n",
       "      <td>1.000000</td>\n",
       "    </tr>\n",
       "  </tbody>\n",
       "</table>\n",
       "</div>"
      ],
      "text/plain": [
       "              b         c       sud     gluon\n",
       "b      1.000000  0.891194  0.977582  0.975262\n",
       "c      0.891194  1.000000  0.941258  0.965244\n",
       "sud    0.977582  0.941258  1.000000  0.798012\n",
       "gluon  0.975262  0.965244  0.798012  1.000000"
      ]
     },
     "execution_count": 180,
     "metadata": {},
     "output_type": "execute_result"
    }
   ],
   "source": [
    "sel_new_roc_aucs = utils.get_roc_auc_matrix(labels, sel_new_multi_probs, names, save_path=None, show=True)\n",
    "sel_new_roc_aucs"
   ]
  },
  {
   "cell_type": "code",
   "execution_count": 181,
   "metadata": {
    "collapsed": false
   },
   "outputs": [
    {
     "data": {
      "text/html": [
       "<div>\n",
       "<table border=\"1\" class=\"dataframe\">\n",
       "  <thead>\n",
       "    <tr style=\"text-align: right;\">\n",
       "      <th></th>\n",
       "      <th>b</th>\n",
       "      <th>c</th>\n",
       "      <th>sud</th>\n",
       "      <th>gluon</th>\n",
       "    </tr>\n",
       "  </thead>\n",
       "  <tbody>\n",
       "    <tr>\n",
       "      <th>b</th>\n",
       "      <td>0.000000</td>\n",
       "      <td>0.006588</td>\n",
       "      <td>0.002651</td>\n",
       "      <td>0.004069</td>\n",
       "    </tr>\n",
       "    <tr>\n",
       "      <th>c</th>\n",
       "      <td>0.006588</td>\n",
       "      <td>0.000000</td>\n",
       "      <td>0.003922</td>\n",
       "      <td>0.004036</td>\n",
       "    </tr>\n",
       "    <tr>\n",
       "      <th>sud</th>\n",
       "      <td>0.002651</td>\n",
       "      <td>0.003922</td>\n",
       "      <td>0.000000</td>\n",
       "      <td>0.005274</td>\n",
       "    </tr>\n",
       "    <tr>\n",
       "      <th>gluon</th>\n",
       "      <td>0.004069</td>\n",
       "      <td>0.004036</td>\n",
       "      <td>0.005274</td>\n",
       "      <td>0.000000</td>\n",
       "    </tr>\n",
       "  </tbody>\n",
       "</table>\n",
       "</div>"
      ],
      "text/plain": [
       "              b         c       sud     gluon\n",
       "b      0.000000  0.006588  0.002651  0.004069\n",
       "c      0.006588  0.000000  0.003922  0.004036\n",
       "sud    0.002651  0.003922  0.000000  0.005274\n",
       "gluon  0.004069  0.004036  0.005274  0.000000"
      ]
     },
     "execution_count": 181,
     "metadata": {},
     "output_type": "execute_result"
    }
   ],
   "source": [
    "sel_new_roc_aucs - roc_auc_baseline"
   ]
  },
  {
   "cell_type": "code",
   "execution_count": null,
   "metadata": {
    "collapsed": true
   },
   "outputs": [],
   "source": []
  }
 ],
 "metadata": {
  "kernelspec": {
   "display_name": "Python 2",
   "language": "python",
   "name": "python2"
  },
  "language_info": {
   "codemirror_mode": {
    "name": "ipython",
    "version": 2
   },
   "file_extension": ".py",
   "mimetype": "text/x-python",
   "name": "python",
   "nbconvert_exporter": "python",
   "pygments_lexer": "ipython2",
   "version": "2.7.10"
  }
 },
 "nbformat": 4,
 "nbformat_minor": 0
}
