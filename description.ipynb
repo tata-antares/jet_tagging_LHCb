{
 "cells": [
  {
   "cell_type": "markdown",
   "metadata": {},
   "source": [
    "## Previous analysis\n",
    "\n",
    "http://arxiv.org/pdf/1504.07670v3.pdf\n",
    "\n",
    "## Features\n",
    "\n",
    "SV - secondary vertex\n",
    "\n",
    "* `SVM`: SV mass;\n",
    "* `SVMC`: SV corrected mass;\n",
    "* `SVR`: minimum radial distance from PV to any 2-body SV combo in the n-body SV;\n",
    "* `SVPT`: this is actually pt(SV)/pt(jet) so goes from 0 to 1;\n",
    "* `SVDR`: Delta R between the SV direction of flight and the jet axis;\n",
    "* `SVN`: number of tracks in the SV (>= 2);\n",
    "* `SVQ`: abs value of the net charge of tracks in the SV;\n",
    "* `SVFDChi2`: FD chi2 of the SV from the PV - we used log of this in our algorithm;\n",
    "* `SVSumIPChi2`: sum of IPChi2 of all tracks in the SV - we used log of this in our algorithm."
   ]
  },
  {
   "cell_type": "code",
   "execution_count": null,
   "metadata": {
    "collapsed": false
   },
   "outputs": [
    {
     "name": "stdout",
     "output_type": "stream",
     "text": [
      "             total       used       free     shared    buffers     cached\r\n",
      "Mem:        100721     100197        523          0        605      45839\r\n",
      "-/+ buffers/cache:      53752      46968\r\n",
      "Swap:            0          0          0\r\n"
     ]
    }
   ],
   "source": [
    "!free -m"
   ]
  },
  {
   "cell_type": "code",
   "execution_count": null,
   "metadata": {
    "collapsed": true
   },
   "outputs": [],
   "source": []
  }
 ],
 "metadata": {
  "kernelspec": {
   "display_name": "Python 2",
   "language": "python",
   "name": "python2"
  },
  "language_info": {
   "codemirror_mode": {
    "name": "ipython",
    "version": 2
   },
   "file_extension": ".py",
   "mimetype": "text/x-python",
   "name": "python",
   "nbconvert_exporter": "python",
   "pygments_lexer": "ipython2",
   "version": "2.7.10"
  }
 },
 "nbformat": 4,
 "nbformat_minor": 0
}
